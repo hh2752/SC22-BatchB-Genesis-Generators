{
 "cells": [
  {
   "cell_type": "code",
   "execution_count": 0,
   "metadata": {
    "collapsed": false
   },
   "outputs": [
   ],
   "source": [
    "import Num"
   ]
  }
 ],
 "metadata": {
  "kernelspec": {
   "display_name": "Python (ds_env)",
   "language": "python",
   "metadata": {
    "debugger": true
   },
   "name": "ds_env",
   "resource_dir": "/projects/88ec9459-f6ad-40b0-b8b6-77b16b396c58/.local/share/jupyter/kernels/ds_env"
  }
 },
 "nbformat": 4,
 "nbformat_minor": 4
}