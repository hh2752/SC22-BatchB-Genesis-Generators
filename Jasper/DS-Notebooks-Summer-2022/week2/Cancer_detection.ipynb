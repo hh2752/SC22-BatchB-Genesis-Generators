{
 "cells": [
  {
   "cell_type": "markdown",
   "metadata": {
    "collapsed": false,
    "id": "R9tvKItivlxp"
   },
   "source": [
    "# Who is ready to learn? (Our Machines Are!)\n",
    "\n",
    "Our task at hand -- building an AI that can save lives.\n",
    "\n",
    "Today we are going to work to create an AI that can predict whether a breast cancer tumor is benign or malignant. This diagnosis has incredibly important medical implications for those who are diagnosed with breast cancer. \n",
    "\n",
    "Before we get started, you should make sure you know what the difference between benign and malignant tumors are and discuss them with your team.\n",
    "\n",
    "**Hint:** we recommend you heavily refer to your EDA mini project from last week for this activity! "
   ]
  },
  {
   "cell_type": "markdown",
   "metadata": {
    "collapsed": false,
    "id": "m-qQYrLDw0EN"
   },
   "source": [
    "### Step 1: Imports and Preprocessing\n",
    "\n",
    "We need to `import pandas as pd` and read in our data. It is currently a .csv (comma-separated value) file, and we generally use the pd.read_csv() function from pandas to read our data into a dataframe."
   ]
  },
  {
   "cell_type": "code",
   "execution_count": 1,
   "metadata": {
    "collapsed": false,
    "id": "f0O0Zg5xvX1N"
   },
   "outputs": [
   ],
   "source": [
    "import pandas as pd\n",
    "import numpy as np"
   ]
  },
  {
   "cell_type": "code",
   "execution_count": 2,
   "metadata": {
    "collapsed": false,
    "id": "BvK5i4DcvcTg"
   },
   "outputs": [
   ],
   "source": [
    "df = pd.read_csv(\"https://raw.githubusercontent.com/pkmklong/Breast-Cancer-Wisconsin-Diagnostic-DataSet/master/data.csv\")"
   ]
  },
  {
   "cell_type": "markdown",
   "metadata": {
    "collapsed": false,
    "id": "rdwjqFR8xdE2"
   },
   "source": [
    "**TODO:** Do you remember how to print the first five rows of a pandas dataframe? How about all of the columns? How about the number of rows? Please do that below and google anything you are unsure about. "
   ]
  },
  {
   "cell_type": "code",
   "execution_count": 3,
   "metadata": {
    "collapsed": false,
    "id": "B5QnmTysxcJT"
   },
   "outputs": [
    {
     "data": {
      "text/html": [
       "<div>\n",
       "<style scoped>\n",
       "    .dataframe tbody tr th:only-of-type {\n",
       "        vertical-align: middle;\n",
       "    }\n",
       "\n",
       "    .dataframe tbody tr th {\n",
       "        vertical-align: top;\n",
       "    }\n",
       "\n",
       "    .dataframe thead th {\n",
       "        text-align: right;\n",
       "    }\n",
       "</style>\n",
       "<table border=\"1\" class=\"dataframe\">\n",
       "  <thead>\n",
       "    <tr style=\"text-align: right;\">\n",
       "      <th></th>\n",
       "      <th>id</th>\n",
       "      <th>diagnosis</th>\n",
       "      <th>radius_mean</th>\n",
       "      <th>texture_mean</th>\n",
       "      <th>perimeter_mean</th>\n",
       "      <th>area_mean</th>\n",
       "      <th>smoothness_mean</th>\n",
       "      <th>compactness_mean</th>\n",
       "      <th>concavity_mean</th>\n",
       "      <th>concave points_mean</th>\n",
       "      <th>...</th>\n",
       "      <th>texture_worst</th>\n",
       "      <th>perimeter_worst</th>\n",
       "      <th>area_worst</th>\n",
       "      <th>smoothness_worst</th>\n",
       "      <th>compactness_worst</th>\n",
       "      <th>concavity_worst</th>\n",
       "      <th>concave points_worst</th>\n",
       "      <th>symmetry_worst</th>\n",
       "      <th>fractal_dimension_worst</th>\n",
       "      <th>Unnamed: 32</th>\n",
       "    </tr>\n",
       "  </thead>\n",
       "  <tbody>\n",
       "    <tr>\n",
       "      <th>0</th>\n",
       "      <td>842302</td>\n",
       "      <td>M</td>\n",
       "      <td>17.99</td>\n",
       "      <td>10.38</td>\n",
       "      <td>122.80</td>\n",
       "      <td>1001.0</td>\n",
       "      <td>0.11840</td>\n",
       "      <td>0.27760</td>\n",
       "      <td>0.3001</td>\n",
       "      <td>0.14710</td>\n",
       "      <td>...</td>\n",
       "      <td>17.33</td>\n",
       "      <td>184.60</td>\n",
       "      <td>2019.0</td>\n",
       "      <td>0.1622</td>\n",
       "      <td>0.6656</td>\n",
       "      <td>0.7119</td>\n",
       "      <td>0.2654</td>\n",
       "      <td>0.4601</td>\n",
       "      <td>0.11890</td>\n",
       "      <td>NaN</td>\n",
       "    </tr>\n",
       "    <tr>\n",
       "      <th>1</th>\n",
       "      <td>842517</td>\n",
       "      <td>M</td>\n",
       "      <td>20.57</td>\n",
       "      <td>17.77</td>\n",
       "      <td>132.90</td>\n",
       "      <td>1326.0</td>\n",
       "      <td>0.08474</td>\n",
       "      <td>0.07864</td>\n",
       "      <td>0.0869</td>\n",
       "      <td>0.07017</td>\n",
       "      <td>...</td>\n",
       "      <td>23.41</td>\n",
       "      <td>158.80</td>\n",
       "      <td>1956.0</td>\n",
       "      <td>0.1238</td>\n",
       "      <td>0.1866</td>\n",
       "      <td>0.2416</td>\n",
       "      <td>0.1860</td>\n",
       "      <td>0.2750</td>\n",
       "      <td>0.08902</td>\n",
       "      <td>NaN</td>\n",
       "    </tr>\n",
       "    <tr>\n",
       "      <th>2</th>\n",
       "      <td>84300903</td>\n",
       "      <td>M</td>\n",
       "      <td>19.69</td>\n",
       "      <td>21.25</td>\n",
       "      <td>130.00</td>\n",
       "      <td>1203.0</td>\n",
       "      <td>0.10960</td>\n",
       "      <td>0.15990</td>\n",
       "      <td>0.1974</td>\n",
       "      <td>0.12790</td>\n",
       "      <td>...</td>\n",
       "      <td>25.53</td>\n",
       "      <td>152.50</td>\n",
       "      <td>1709.0</td>\n",
       "      <td>0.1444</td>\n",
       "      <td>0.4245</td>\n",
       "      <td>0.4504</td>\n",
       "      <td>0.2430</td>\n",
       "      <td>0.3613</td>\n",
       "      <td>0.08758</td>\n",
       "      <td>NaN</td>\n",
       "    </tr>\n",
       "    <tr>\n",
       "      <th>3</th>\n",
       "      <td>84348301</td>\n",
       "      <td>M</td>\n",
       "      <td>11.42</td>\n",
       "      <td>20.38</td>\n",
       "      <td>77.58</td>\n",
       "      <td>386.1</td>\n",
       "      <td>0.14250</td>\n",
       "      <td>0.28390</td>\n",
       "      <td>0.2414</td>\n",
       "      <td>0.10520</td>\n",
       "      <td>...</td>\n",
       "      <td>26.50</td>\n",
       "      <td>98.87</td>\n",
       "      <td>567.7</td>\n",
       "      <td>0.2098</td>\n",
       "      <td>0.8663</td>\n",
       "      <td>0.6869</td>\n",
       "      <td>0.2575</td>\n",
       "      <td>0.6638</td>\n",
       "      <td>0.17300</td>\n",
       "      <td>NaN</td>\n",
       "    </tr>\n",
       "    <tr>\n",
       "      <th>4</th>\n",
       "      <td>84358402</td>\n",
       "      <td>M</td>\n",
       "      <td>20.29</td>\n",
       "      <td>14.34</td>\n",
       "      <td>135.10</td>\n",
       "      <td>1297.0</td>\n",
       "      <td>0.10030</td>\n",
       "      <td>0.13280</td>\n",
       "      <td>0.1980</td>\n",
       "      <td>0.10430</td>\n",
       "      <td>...</td>\n",
       "      <td>16.67</td>\n",
       "      <td>152.20</td>\n",
       "      <td>1575.0</td>\n",
       "      <td>0.1374</td>\n",
       "      <td>0.2050</td>\n",
       "      <td>0.4000</td>\n",
       "      <td>0.1625</td>\n",
       "      <td>0.2364</td>\n",
       "      <td>0.07678</td>\n",
       "      <td>NaN</td>\n",
       "    </tr>\n",
       "  </tbody>\n",
       "</table>\n",
       "<p>5 rows × 33 columns</p>\n",
       "</div>"
      ],
      "text/plain": [
       "         id diagnosis  radius_mean  texture_mean  perimeter_mean  area_mean  \\\n",
       "0    842302         M        17.99         10.38          122.80     1001.0   \n",
       "1    842517         M        20.57         17.77          132.90     1326.0   \n",
       "2  84300903         M        19.69         21.25          130.00     1203.0   \n",
       "3  84348301         M        11.42         20.38           77.58      386.1   \n",
       "4  84358402         M        20.29         14.34          135.10     1297.0   \n",
       "\n",
       "   smoothness_mean  compactness_mean  concavity_mean  concave points_mean  \\\n",
       "0          0.11840           0.27760          0.3001              0.14710   \n",
       "1          0.08474           0.07864          0.0869              0.07017   \n",
       "2          0.10960           0.15990          0.1974              0.12790   \n",
       "3          0.14250           0.28390          0.2414              0.10520   \n",
       "4          0.10030           0.13280          0.1980              0.10430   \n",
       "\n",
       "   ...  texture_worst  perimeter_worst  area_worst  smoothness_worst  \\\n",
       "0  ...          17.33           184.60      2019.0            0.1622   \n",
       "1  ...          23.41           158.80      1956.0            0.1238   \n",
       "2  ...          25.53           152.50      1709.0            0.1444   \n",
       "3  ...          26.50            98.87       567.7            0.2098   \n",
       "4  ...          16.67           152.20      1575.0            0.1374   \n",
       "\n",
       "   compactness_worst  concavity_worst  concave points_worst  symmetry_worst  \\\n",
       "0             0.6656           0.7119                0.2654          0.4601   \n",
       "1             0.1866           0.2416                0.1860          0.2750   \n",
       "2             0.4245           0.4504                0.2430          0.3613   \n",
       "3             0.8663           0.6869                0.2575          0.6638   \n",
       "4             0.2050           0.4000                0.1625          0.2364   \n",
       "\n",
       "   fractal_dimension_worst  Unnamed: 32  \n",
       "0                  0.11890          NaN  \n",
       "1                  0.08902          NaN  \n",
       "2                  0.08758          NaN  \n",
       "3                  0.17300          NaN  \n",
       "4                  0.07678          NaN  \n",
       "\n",
       "[5 rows x 33 columns]"
      ]
     },
     "execution_count": 3,
     "metadata": {
     },
     "output_type": "execute_result"
    }
   ],
   "source": [
    "# print first five rows of breast_cancer\n",
    "df.head()"
   ]
  },
  {
   "cell_type": "code",
   "execution_count": 4,
   "metadata": {
    "collapsed": false,
    "id": "qQ5KjWIMwGaP"
   },
   "outputs": [
    {
     "name": "stdout",
     "output_type": "stream",
     "text": [
      "id\n",
      "diagnosis\n",
      "radius_mean\n",
      "texture_mean\n",
      "perimeter_mean\n",
      "area_mean\n",
      "smoothness_mean\n",
      "compactness_mean\n",
      "concavity_mean\n",
      "concave points_mean\n",
      "symmetry_mean\n",
      "fractal_dimension_mean\n",
      "radius_se\n",
      "texture_se\n",
      "perimeter_se\n",
      "area_se\n",
      "smoothness_se\n",
      "compactness_se\n",
      "concavity_se\n",
      "concave points_se\n",
      "symmetry_se\n",
      "fractal_dimension_se\n",
      "radius_worst\n",
      "texture_worst\n",
      "perimeter_worst\n",
      "area_worst\n",
      "smoothness_worst\n",
      "compactness_worst\n",
      "concavity_worst\n",
      "concave points_worst\n",
      "symmetry_worst\n",
      "fractal_dimension_worst\n",
      "Unnamed: 32\n"
     ]
    }
   ],
   "source": [
    "# print columns of breast_cancer\n",
    "for i in df:\n",
    "    print(i)"
   ]
  },
  {
   "cell_type": "code",
   "execution_count": 5,
   "metadata": {
    "collapsed": false,
    "id": "LxELBWOdxsrl"
   },
   "outputs": [
    {
     "data": {
      "text/plain": [
       "569"
      ]
     },
     "execution_count": 5,
     "metadata": {
     },
     "output_type": "execute_result"
    }
   ],
   "source": [
    "# print the number of rows in breast_cancer\n",
    "len(df)"
   ]
  },
  {
   "cell_type": "code",
   "execution_count": 6,
   "metadata": {
    "collapsed": false,
    "id": "lFnrZickyynD"
   },
   "outputs": [
    {
     "data": {
      "text/html": [
       "<div>\n",
       "<style scoped>\n",
       "    .dataframe tbody tr th:only-of-type {\n",
       "        vertical-align: middle;\n",
       "    }\n",
       "\n",
       "    .dataframe tbody tr th {\n",
       "        vertical-align: top;\n",
       "    }\n",
       "\n",
       "    .dataframe thead th {\n",
       "        text-align: right;\n",
       "    }\n",
       "</style>\n",
       "<table border=\"1\" class=\"dataframe\">\n",
       "  <thead>\n",
       "    <tr style=\"text-align: right;\">\n",
       "      <th></th>\n",
       "      <th>id</th>\n",
       "      <th>diagnosis</th>\n",
       "      <th>radius_mean</th>\n",
       "      <th>texture_mean</th>\n",
       "      <th>perimeter_mean</th>\n",
       "      <th>area_mean</th>\n",
       "      <th>smoothness_mean</th>\n",
       "      <th>compactness_mean</th>\n",
       "      <th>concavity_mean</th>\n",
       "      <th>concave points_mean</th>\n",
       "      <th>...</th>\n",
       "      <th>texture_worst</th>\n",
       "      <th>perimeter_worst</th>\n",
       "      <th>area_worst</th>\n",
       "      <th>smoothness_worst</th>\n",
       "      <th>compactness_worst</th>\n",
       "      <th>concavity_worst</th>\n",
       "      <th>concave points_worst</th>\n",
       "      <th>symmetry_worst</th>\n",
       "      <th>fractal_dimension_worst</th>\n",
       "      <th>Unnamed: 32</th>\n",
       "    </tr>\n",
       "  </thead>\n",
       "  <tbody>\n",
       "    <tr>\n",
       "      <th>564</th>\n",
       "      <td>926424</td>\n",
       "      <td>M</td>\n",
       "      <td>21.56</td>\n",
       "      <td>22.39</td>\n",
       "      <td>142.00</td>\n",
       "      <td>1479.0</td>\n",
       "      <td>0.11100</td>\n",
       "      <td>0.11590</td>\n",
       "      <td>0.24390</td>\n",
       "      <td>0.13890</td>\n",
       "      <td>...</td>\n",
       "      <td>26.40</td>\n",
       "      <td>166.10</td>\n",
       "      <td>2027.0</td>\n",
       "      <td>0.14100</td>\n",
       "      <td>0.21130</td>\n",
       "      <td>0.4107</td>\n",
       "      <td>0.2216</td>\n",
       "      <td>0.2060</td>\n",
       "      <td>0.07115</td>\n",
       "      <td>NaN</td>\n",
       "    </tr>\n",
       "    <tr>\n",
       "      <th>565</th>\n",
       "      <td>926682</td>\n",
       "      <td>M</td>\n",
       "      <td>20.13</td>\n",
       "      <td>28.25</td>\n",
       "      <td>131.20</td>\n",
       "      <td>1261.0</td>\n",
       "      <td>0.09780</td>\n",
       "      <td>0.10340</td>\n",
       "      <td>0.14400</td>\n",
       "      <td>0.09791</td>\n",
       "      <td>...</td>\n",
       "      <td>38.25</td>\n",
       "      <td>155.00</td>\n",
       "      <td>1731.0</td>\n",
       "      <td>0.11660</td>\n",
       "      <td>0.19220</td>\n",
       "      <td>0.3215</td>\n",
       "      <td>0.1628</td>\n",
       "      <td>0.2572</td>\n",
       "      <td>0.06637</td>\n",
       "      <td>NaN</td>\n",
       "    </tr>\n",
       "    <tr>\n",
       "      <th>566</th>\n",
       "      <td>926954</td>\n",
       "      <td>M</td>\n",
       "      <td>16.60</td>\n",
       "      <td>28.08</td>\n",
       "      <td>108.30</td>\n",
       "      <td>858.1</td>\n",
       "      <td>0.08455</td>\n",
       "      <td>0.10230</td>\n",
       "      <td>0.09251</td>\n",
       "      <td>0.05302</td>\n",
       "      <td>...</td>\n",
       "      <td>34.12</td>\n",
       "      <td>126.70</td>\n",
       "      <td>1124.0</td>\n",
       "      <td>0.11390</td>\n",
       "      <td>0.30940</td>\n",
       "      <td>0.3403</td>\n",
       "      <td>0.1418</td>\n",
       "      <td>0.2218</td>\n",
       "      <td>0.07820</td>\n",
       "      <td>NaN</td>\n",
       "    </tr>\n",
       "    <tr>\n",
       "      <th>567</th>\n",
       "      <td>927241</td>\n",
       "      <td>M</td>\n",
       "      <td>20.60</td>\n",
       "      <td>29.33</td>\n",
       "      <td>140.10</td>\n",
       "      <td>1265.0</td>\n",
       "      <td>0.11780</td>\n",
       "      <td>0.27700</td>\n",
       "      <td>0.35140</td>\n",
       "      <td>0.15200</td>\n",
       "      <td>...</td>\n",
       "      <td>39.42</td>\n",
       "      <td>184.60</td>\n",
       "      <td>1821.0</td>\n",
       "      <td>0.16500</td>\n",
       "      <td>0.86810</td>\n",
       "      <td>0.9387</td>\n",
       "      <td>0.2650</td>\n",
       "      <td>0.4087</td>\n",
       "      <td>0.12400</td>\n",
       "      <td>NaN</td>\n",
       "    </tr>\n",
       "    <tr>\n",
       "      <th>568</th>\n",
       "      <td>92751</td>\n",
       "      <td>B</td>\n",
       "      <td>7.76</td>\n",
       "      <td>24.54</td>\n",
       "      <td>47.92</td>\n",
       "      <td>181.0</td>\n",
       "      <td>0.05263</td>\n",
       "      <td>0.04362</td>\n",
       "      <td>0.00000</td>\n",
       "      <td>0.00000</td>\n",
       "      <td>...</td>\n",
       "      <td>30.37</td>\n",
       "      <td>59.16</td>\n",
       "      <td>268.6</td>\n",
       "      <td>0.08996</td>\n",
       "      <td>0.06444</td>\n",
       "      <td>0.0000</td>\n",
       "      <td>0.0000</td>\n",
       "      <td>0.2871</td>\n",
       "      <td>0.07039</td>\n",
       "      <td>NaN</td>\n",
       "    </tr>\n",
       "  </tbody>\n",
       "</table>\n",
       "<p>5 rows × 33 columns</p>\n",
       "</div>"
      ],
      "text/plain": [
       "         id diagnosis  radius_mean  texture_mean  perimeter_mean  area_mean  \\\n",
       "564  926424         M        21.56         22.39          142.00     1479.0   \n",
       "565  926682         M        20.13         28.25          131.20     1261.0   \n",
       "566  926954         M        16.60         28.08          108.30      858.1   \n",
       "567  927241         M        20.60         29.33          140.10     1265.0   \n",
       "568   92751         B         7.76         24.54           47.92      181.0   \n",
       "\n",
       "     smoothness_mean  compactness_mean  concavity_mean  concave points_mean  \\\n",
       "564          0.11100           0.11590         0.24390              0.13890   \n",
       "565          0.09780           0.10340         0.14400              0.09791   \n",
       "566          0.08455           0.10230         0.09251              0.05302   \n",
       "567          0.11780           0.27700         0.35140              0.15200   \n",
       "568          0.05263           0.04362         0.00000              0.00000   \n",
       "\n",
       "     ...  texture_worst  perimeter_worst  area_worst  smoothness_worst  \\\n",
       "564  ...          26.40           166.10      2027.0           0.14100   \n",
       "565  ...          38.25           155.00      1731.0           0.11660   \n",
       "566  ...          34.12           126.70      1124.0           0.11390   \n",
       "567  ...          39.42           184.60      1821.0           0.16500   \n",
       "568  ...          30.37            59.16       268.6           0.08996   \n",
       "\n",
       "     compactness_worst  concavity_worst  concave points_worst  symmetry_worst  \\\n",
       "564            0.21130           0.4107                0.2216          0.2060   \n",
       "565            0.19220           0.3215                0.1628          0.2572   \n",
       "566            0.30940           0.3403                0.1418          0.2218   \n",
       "567            0.86810           0.9387                0.2650          0.4087   \n",
       "568            0.06444           0.0000                0.0000          0.2871   \n",
       "\n",
       "     fractal_dimension_worst  Unnamed: 32  \n",
       "564                  0.07115          NaN  \n",
       "565                  0.06637          NaN  \n",
       "566                  0.07820          NaN  \n",
       "567                  0.12400          NaN  \n",
       "568                  0.07039          NaN  \n",
       "\n",
       "[5 rows x 33 columns]"
      ]
     },
     "execution_count": 6,
     "metadata": {
     },
     "output_type": "execute_result"
    }
   ],
   "source": [
    "# explore anything else you are interested in here\n",
    "df.tail()"
   ]
  },
  {
   "cell_type": "code",
   "execution_count": 0,
   "metadata": {
    "collapsed": false
   },
   "outputs": [
   ],
   "source": [
   ]
  },
  {
   "cell_type": "markdown",
   "metadata": {
    "collapsed": false,
    "id": "Q8MwFiBX0Zdu"
   },
   "source": [
    "**TODO:** Can you figure out how many rows are malignant (M) and how many are benign (B)? "
   ]
  },
  {
   "cell_type": "code",
   "execution_count": 7,
   "metadata": {
    "collapsed": false,
    "id": "0tYK-EaL0g8y"
   },
   "outputs": [
    {
     "name": "stdout",
     "output_type": "stream",
     "text": [
      "There are 212 malignant rows and 357 benign rows.\n"
     ]
    }
   ],
   "source": [
    "# Figure out how many rows are malignant and how many are benign. Hint: use the .count() function!\n",
    "#df.count()\n",
    "\n",
    "malignant = 0\n",
    "benign = 0\n",
    "for i in df['diagnosis']:\n",
    "    if i == 'M':\n",
    "        malignant += 1\n",
    "    elif i == 'B':\n",
    "        benign += 1\n",
    "    else:\n",
    "        print('Err : Incorrect data value')\n",
    "print('There are '+str(malignant)+' malignant rows and '+str(benign)+' benign rows.')"
   ]
  },
  {
   "cell_type": "markdown",
   "metadata": {
    "collapsed": false,
    "id": "XjS_4CFYxx52"
   },
   "source": [
    "### Step 2: Do Your Research\n",
    "That is a ton of columns. That is a ton of data! Where do we start? \n",
    "\n",
    "You should probably do some research on this dataset to find out what the columns mean. I got it on kaggle - you can read about it here: [Wisconsin Breast Cancer Dataset](https://www.kaggle.com/datasets/uciml/breast-cancer-wisconsin-data).\n"
   ]
  },
  {
   "cell_type": "markdown",
   "metadata": {
    "collapsed": false,
    "id": "ujuEOdIYyaV8"
   },
   "source": [
    "### Step 3: Cleaning our data up!\n",
    "\n",
    "Maybe there are some columns we don't need. The last column makes zero sense right? Do we need an id column for our purposes? You should drop **any** columns that you feel are not worth keeping track of. \n",
    "\n",
    "Pandas' `drop()` documentation: https://pandas.pydata.org/docs/reference/api/pandas.DataFrame.drop.html. Remember to use `inplace = True` if you are changing your dataframe and note creating a new one!\n",
    "\n",
    "**Note:** This data is pretty clean! We only need a few lines for this dataset."
   ]
  },
  {
   "cell_type": "code",
   "execution_count": 8,
   "metadata": {
    "collapsed": false,
    "id": "GsTMmM8EzBJ9"
   },
   "outputs": [
   ],
   "source": [
    "# use df.drop to drop Unnamed: 32 and ID, as well as any columns you don't think we should keep track of.\n",
    "if df['id'] is None:\n",
    "    df.drop(['id', 'Unnamed: 32'], axis=0, inplace=True)"
   ]
  },
  {
   "cell_type": "code",
   "execution_count": 9,
   "metadata": {
    "collapsed": false,
    "id": "H7H0OTAhzoKQ"
   },
   "outputs": [
    {
     "data": {
      "text/html": [
       "<div>\n",
       "<style scoped>\n",
       "    .dataframe tbody tr th:only-of-type {\n",
       "        vertical-align: middle;\n",
       "    }\n",
       "\n",
       "    .dataframe tbody tr th {\n",
       "        vertical-align: top;\n",
       "    }\n",
       "\n",
       "    .dataframe thead th {\n",
       "        text-align: right;\n",
       "    }\n",
       "</style>\n",
       "<table border=\"1\" class=\"dataframe\">\n",
       "  <thead>\n",
       "    <tr style=\"text-align: right;\">\n",
       "      <th></th>\n",
       "      <th>id</th>\n",
       "      <th>diagnosis</th>\n",
       "      <th>radius_mean</th>\n",
       "      <th>texture_mean</th>\n",
       "      <th>perimeter_mean</th>\n",
       "      <th>area_mean</th>\n",
       "      <th>smoothness_mean</th>\n",
       "      <th>compactness_mean</th>\n",
       "      <th>concavity_mean</th>\n",
       "      <th>concave points_mean</th>\n",
       "      <th>...</th>\n",
       "      <th>radius_worst</th>\n",
       "      <th>texture_worst</th>\n",
       "      <th>perimeter_worst</th>\n",
       "      <th>area_worst</th>\n",
       "      <th>smoothness_worst</th>\n",
       "      <th>compactness_worst</th>\n",
       "      <th>concavity_worst</th>\n",
       "      <th>concave points_worst</th>\n",
       "      <th>symmetry_worst</th>\n",
       "      <th>fractal_dimension_worst</th>\n",
       "    </tr>\n",
       "  </thead>\n",
       "  <tbody>\n",
       "    <tr>\n",
       "      <th>0</th>\n",
       "      <td>842302</td>\n",
       "      <td>M</td>\n",
       "      <td>17.99</td>\n",
       "      <td>10.38</td>\n",
       "      <td>122.80</td>\n",
       "      <td>1001.0</td>\n",
       "      <td>0.11840</td>\n",
       "      <td>0.27760</td>\n",
       "      <td>0.30010</td>\n",
       "      <td>0.14710</td>\n",
       "      <td>...</td>\n",
       "      <td>25.380</td>\n",
       "      <td>17.33</td>\n",
       "      <td>184.60</td>\n",
       "      <td>2019.0</td>\n",
       "      <td>0.16220</td>\n",
       "      <td>0.66560</td>\n",
       "      <td>0.7119</td>\n",
       "      <td>0.2654</td>\n",
       "      <td>0.4601</td>\n",
       "      <td>0.11890</td>\n",
       "    </tr>\n",
       "    <tr>\n",
       "      <th>1</th>\n",
       "      <td>842517</td>\n",
       "      <td>M</td>\n",
       "      <td>20.57</td>\n",
       "      <td>17.77</td>\n",
       "      <td>132.90</td>\n",
       "      <td>1326.0</td>\n",
       "      <td>0.08474</td>\n",
       "      <td>0.07864</td>\n",
       "      <td>0.08690</td>\n",
       "      <td>0.07017</td>\n",
       "      <td>...</td>\n",
       "      <td>24.990</td>\n",
       "      <td>23.41</td>\n",
       "      <td>158.80</td>\n",
       "      <td>1956.0</td>\n",
       "      <td>0.12380</td>\n",
       "      <td>0.18660</td>\n",
       "      <td>0.2416</td>\n",
       "      <td>0.1860</td>\n",
       "      <td>0.2750</td>\n",
       "      <td>0.08902</td>\n",
       "    </tr>\n",
       "    <tr>\n",
       "      <th>2</th>\n",
       "      <td>84300903</td>\n",
       "      <td>M</td>\n",
       "      <td>19.69</td>\n",
       "      <td>21.25</td>\n",
       "      <td>130.00</td>\n",
       "      <td>1203.0</td>\n",
       "      <td>0.10960</td>\n",
       "      <td>0.15990</td>\n",
       "      <td>0.19740</td>\n",
       "      <td>0.12790</td>\n",
       "      <td>...</td>\n",
       "      <td>23.570</td>\n",
       "      <td>25.53</td>\n",
       "      <td>152.50</td>\n",
       "      <td>1709.0</td>\n",
       "      <td>0.14440</td>\n",
       "      <td>0.42450</td>\n",
       "      <td>0.4504</td>\n",
       "      <td>0.2430</td>\n",
       "      <td>0.3613</td>\n",
       "      <td>0.08758</td>\n",
       "    </tr>\n",
       "    <tr>\n",
       "      <th>3</th>\n",
       "      <td>84348301</td>\n",
       "      <td>M</td>\n",
       "      <td>11.42</td>\n",
       "      <td>20.38</td>\n",
       "      <td>77.58</td>\n",
       "      <td>386.1</td>\n",
       "      <td>0.14250</td>\n",
       "      <td>0.28390</td>\n",
       "      <td>0.24140</td>\n",
       "      <td>0.10520</td>\n",
       "      <td>...</td>\n",
       "      <td>14.910</td>\n",
       "      <td>26.50</td>\n",
       "      <td>98.87</td>\n",
       "      <td>567.7</td>\n",
       "      <td>0.20980</td>\n",
       "      <td>0.86630</td>\n",
       "      <td>0.6869</td>\n",
       "      <td>0.2575</td>\n",
       "      <td>0.6638</td>\n",
       "      <td>0.17300</td>\n",
       "    </tr>\n",
       "    <tr>\n",
       "      <th>4</th>\n",
       "      <td>84358402</td>\n",
       "      <td>M</td>\n",
       "      <td>20.29</td>\n",
       "      <td>14.34</td>\n",
       "      <td>135.10</td>\n",
       "      <td>1297.0</td>\n",
       "      <td>0.10030</td>\n",
       "      <td>0.13280</td>\n",
       "      <td>0.19800</td>\n",
       "      <td>0.10430</td>\n",
       "      <td>...</td>\n",
       "      <td>22.540</td>\n",
       "      <td>16.67</td>\n",
       "      <td>152.20</td>\n",
       "      <td>1575.0</td>\n",
       "      <td>0.13740</td>\n",
       "      <td>0.20500</td>\n",
       "      <td>0.4000</td>\n",
       "      <td>0.1625</td>\n",
       "      <td>0.2364</td>\n",
       "      <td>0.07678</td>\n",
       "    </tr>\n",
       "    <tr>\n",
       "      <th>...</th>\n",
       "      <td>...</td>\n",
       "      <td>...</td>\n",
       "      <td>...</td>\n",
       "      <td>...</td>\n",
       "      <td>...</td>\n",
       "      <td>...</td>\n",
       "      <td>...</td>\n",
       "      <td>...</td>\n",
       "      <td>...</td>\n",
       "      <td>...</td>\n",
       "      <td>...</td>\n",
       "      <td>...</td>\n",
       "      <td>...</td>\n",
       "      <td>...</td>\n",
       "      <td>...</td>\n",
       "      <td>...</td>\n",
       "      <td>...</td>\n",
       "      <td>...</td>\n",
       "      <td>...</td>\n",
       "      <td>...</td>\n",
       "      <td>...</td>\n",
       "    </tr>\n",
       "    <tr>\n",
       "      <th>564</th>\n",
       "      <td>926424</td>\n",
       "      <td>M</td>\n",
       "      <td>21.56</td>\n",
       "      <td>22.39</td>\n",
       "      <td>142.00</td>\n",
       "      <td>1479.0</td>\n",
       "      <td>0.11100</td>\n",
       "      <td>0.11590</td>\n",
       "      <td>0.24390</td>\n",
       "      <td>0.13890</td>\n",
       "      <td>...</td>\n",
       "      <td>25.450</td>\n",
       "      <td>26.40</td>\n",
       "      <td>166.10</td>\n",
       "      <td>2027.0</td>\n",
       "      <td>0.14100</td>\n",
       "      <td>0.21130</td>\n",
       "      <td>0.4107</td>\n",
       "      <td>0.2216</td>\n",
       "      <td>0.2060</td>\n",
       "      <td>0.07115</td>\n",
       "    </tr>\n",
       "    <tr>\n",
       "      <th>565</th>\n",
       "      <td>926682</td>\n",
       "      <td>M</td>\n",
       "      <td>20.13</td>\n",
       "      <td>28.25</td>\n",
       "      <td>131.20</td>\n",
       "      <td>1261.0</td>\n",
       "      <td>0.09780</td>\n",
       "      <td>0.10340</td>\n",
       "      <td>0.14400</td>\n",
       "      <td>0.09791</td>\n",
       "      <td>...</td>\n",
       "      <td>23.690</td>\n",
       "      <td>38.25</td>\n",
       "      <td>155.00</td>\n",
       "      <td>1731.0</td>\n",
       "      <td>0.11660</td>\n",
       "      <td>0.19220</td>\n",
       "      <td>0.3215</td>\n",
       "      <td>0.1628</td>\n",
       "      <td>0.2572</td>\n",
       "      <td>0.06637</td>\n",
       "    </tr>\n",
       "    <tr>\n",
       "      <th>566</th>\n",
       "      <td>926954</td>\n",
       "      <td>M</td>\n",
       "      <td>16.60</td>\n",
       "      <td>28.08</td>\n",
       "      <td>108.30</td>\n",
       "      <td>858.1</td>\n",
       "      <td>0.08455</td>\n",
       "      <td>0.10230</td>\n",
       "      <td>0.09251</td>\n",
       "      <td>0.05302</td>\n",
       "      <td>...</td>\n",
       "      <td>18.980</td>\n",
       "      <td>34.12</td>\n",
       "      <td>126.70</td>\n",
       "      <td>1124.0</td>\n",
       "      <td>0.11390</td>\n",
       "      <td>0.30940</td>\n",
       "      <td>0.3403</td>\n",
       "      <td>0.1418</td>\n",
       "      <td>0.2218</td>\n",
       "      <td>0.07820</td>\n",
       "    </tr>\n",
       "    <tr>\n",
       "      <th>567</th>\n",
       "      <td>927241</td>\n",
       "      <td>M</td>\n",
       "      <td>20.60</td>\n",
       "      <td>29.33</td>\n",
       "      <td>140.10</td>\n",
       "      <td>1265.0</td>\n",
       "      <td>0.11780</td>\n",
       "      <td>0.27700</td>\n",
       "      <td>0.35140</td>\n",
       "      <td>0.15200</td>\n",
       "      <td>...</td>\n",
       "      <td>25.740</td>\n",
       "      <td>39.42</td>\n",
       "      <td>184.60</td>\n",
       "      <td>1821.0</td>\n",
       "      <td>0.16500</td>\n",
       "      <td>0.86810</td>\n",
       "      <td>0.9387</td>\n",
       "      <td>0.2650</td>\n",
       "      <td>0.4087</td>\n",
       "      <td>0.12400</td>\n",
       "    </tr>\n",
       "    <tr>\n",
       "      <th>568</th>\n",
       "      <td>92751</td>\n",
       "      <td>B</td>\n",
       "      <td>7.76</td>\n",
       "      <td>24.54</td>\n",
       "      <td>47.92</td>\n",
       "      <td>181.0</td>\n",
       "      <td>0.05263</td>\n",
       "      <td>0.04362</td>\n",
       "      <td>0.00000</td>\n",
       "      <td>0.00000</td>\n",
       "      <td>...</td>\n",
       "      <td>9.456</td>\n",
       "      <td>30.37</td>\n",
       "      <td>59.16</td>\n",
       "      <td>268.6</td>\n",
       "      <td>0.08996</td>\n",
       "      <td>0.06444</td>\n",
       "      <td>0.0000</td>\n",
       "      <td>0.0000</td>\n",
       "      <td>0.2871</td>\n",
       "      <td>0.07039</td>\n",
       "    </tr>\n",
       "  </tbody>\n",
       "</table>\n",
       "<p>569 rows × 32 columns</p>\n",
       "</div>"
      ],
      "text/plain": [
       "           id diagnosis  radius_mean  texture_mean  perimeter_mean  area_mean  \\\n",
       "0      842302         M        17.99         10.38          122.80     1001.0   \n",
       "1      842517         M        20.57         17.77          132.90     1326.0   \n",
       "2    84300903         M        19.69         21.25          130.00     1203.0   \n",
       "3    84348301         M        11.42         20.38           77.58      386.1   \n",
       "4    84358402         M        20.29         14.34          135.10     1297.0   \n",
       "..        ...       ...          ...           ...             ...        ...   \n",
       "564    926424         M        21.56         22.39          142.00     1479.0   \n",
       "565    926682         M        20.13         28.25          131.20     1261.0   \n",
       "566    926954         M        16.60         28.08          108.30      858.1   \n",
       "567    927241         M        20.60         29.33          140.10     1265.0   \n",
       "568     92751         B         7.76         24.54           47.92      181.0   \n",
       "\n",
       "     smoothness_mean  compactness_mean  concavity_mean  concave points_mean  \\\n",
       "0            0.11840           0.27760         0.30010              0.14710   \n",
       "1            0.08474           0.07864         0.08690              0.07017   \n",
       "2            0.10960           0.15990         0.19740              0.12790   \n",
       "3            0.14250           0.28390         0.24140              0.10520   \n",
       "4            0.10030           0.13280         0.19800              0.10430   \n",
       "..               ...               ...             ...                  ...   \n",
       "564          0.11100           0.11590         0.24390              0.13890   \n",
       "565          0.09780           0.10340         0.14400              0.09791   \n",
       "566          0.08455           0.10230         0.09251              0.05302   \n",
       "567          0.11780           0.27700         0.35140              0.15200   \n",
       "568          0.05263           0.04362         0.00000              0.00000   \n",
       "\n",
       "     ...  radius_worst  texture_worst  perimeter_worst  area_worst  \\\n",
       "0    ...        25.380          17.33           184.60      2019.0   \n",
       "1    ...        24.990          23.41           158.80      1956.0   \n",
       "2    ...        23.570          25.53           152.50      1709.0   \n",
       "3    ...        14.910          26.50            98.87       567.7   \n",
       "4    ...        22.540          16.67           152.20      1575.0   \n",
       "..   ...           ...            ...              ...         ...   \n",
       "564  ...        25.450          26.40           166.10      2027.0   \n",
       "565  ...        23.690          38.25           155.00      1731.0   \n",
       "566  ...        18.980          34.12           126.70      1124.0   \n",
       "567  ...        25.740          39.42           184.60      1821.0   \n",
       "568  ...         9.456          30.37            59.16       268.6   \n",
       "\n",
       "     smoothness_worst  compactness_worst  concavity_worst  \\\n",
       "0             0.16220            0.66560           0.7119   \n",
       "1             0.12380            0.18660           0.2416   \n",
       "2             0.14440            0.42450           0.4504   \n",
       "3             0.20980            0.86630           0.6869   \n",
       "4             0.13740            0.20500           0.4000   \n",
       "..                ...                ...              ...   \n",
       "564           0.14100            0.21130           0.4107   \n",
       "565           0.11660            0.19220           0.3215   \n",
       "566           0.11390            0.30940           0.3403   \n",
       "567           0.16500            0.86810           0.9387   \n",
       "568           0.08996            0.06444           0.0000   \n",
       "\n",
       "     concave points_worst  symmetry_worst  fractal_dimension_worst  \n",
       "0                  0.2654          0.4601                  0.11890  \n",
       "1                  0.1860          0.2750                  0.08902  \n",
       "2                  0.2430          0.3613                  0.08758  \n",
       "3                  0.2575          0.6638                  0.17300  \n",
       "4                  0.1625          0.2364                  0.07678  \n",
       "..                    ...             ...                      ...  \n",
       "564                0.2216          0.2060                  0.07115  \n",
       "565                0.1628          0.2572                  0.06637  \n",
       "566                0.1418          0.2218                  0.07820  \n",
       "567                0.2650          0.4087                  0.12400  \n",
       "568                0.0000          0.2871                  0.07039  \n",
       "\n",
       "[569 rows x 32 columns]"
      ]
     },
     "execution_count": 9,
     "metadata": {
     },
     "output_type": "execute_result"
    }
   ],
   "source": [
    "# drop any n/a values remaining! Remember inplace!\n",
    "df.dropna(axis=1, inplace=True)\n",
    "df = df.reset_index(drop=True)\n",
    "df"
   ]
  },
  {
   "cell_type": "code",
   "execution_count": 10,
   "metadata": {
    "collapsed": false,
    "id": "tL-d7BNRzz_V"
   },
   "outputs": [
    {
     "data": {
      "text/html": [
       "<div>\n",
       "<style scoped>\n",
       "    .dataframe tbody tr th:only-of-type {\n",
       "        vertical-align: middle;\n",
       "    }\n",
       "\n",
       "    .dataframe tbody tr th {\n",
       "        vertical-align: top;\n",
       "    }\n",
       "\n",
       "    .dataframe thead th {\n",
       "        text-align: right;\n",
       "    }\n",
       "</style>\n",
       "<table border=\"1\" class=\"dataframe\">\n",
       "  <thead>\n",
       "    <tr style=\"text-align: right;\">\n",
       "      <th></th>\n",
       "      <th>id</th>\n",
       "      <th>diagnosis</th>\n",
       "      <th>radius_mean</th>\n",
       "      <th>texture_mean</th>\n",
       "      <th>perimeter_mean</th>\n",
       "      <th>area_mean</th>\n",
       "      <th>smoothness_mean</th>\n",
       "      <th>compactness_mean</th>\n",
       "      <th>concavity_mean</th>\n",
       "      <th>concave points_mean</th>\n",
       "      <th>...</th>\n",
       "      <th>radius_worst</th>\n",
       "      <th>texture_worst</th>\n",
       "      <th>perimeter_worst</th>\n",
       "      <th>area_worst</th>\n",
       "      <th>smoothness_worst</th>\n",
       "      <th>compactness_worst</th>\n",
       "      <th>concavity_worst</th>\n",
       "      <th>concave points_worst</th>\n",
       "      <th>symmetry_worst</th>\n",
       "      <th>fractal_dimension_worst</th>\n",
       "    </tr>\n",
       "  </thead>\n",
       "  <tbody>\n",
       "    <tr>\n",
       "      <th>564</th>\n",
       "      <td>926424</td>\n",
       "      <td>M</td>\n",
       "      <td>21.56</td>\n",
       "      <td>22.39</td>\n",
       "      <td>142.00</td>\n",
       "      <td>1479.0</td>\n",
       "      <td>0.11100</td>\n",
       "      <td>0.11590</td>\n",
       "      <td>0.24390</td>\n",
       "      <td>0.13890</td>\n",
       "      <td>...</td>\n",
       "      <td>25.450</td>\n",
       "      <td>26.40</td>\n",
       "      <td>166.10</td>\n",
       "      <td>2027.0</td>\n",
       "      <td>0.14100</td>\n",
       "      <td>0.21130</td>\n",
       "      <td>0.4107</td>\n",
       "      <td>0.2216</td>\n",
       "      <td>0.2060</td>\n",
       "      <td>0.07115</td>\n",
       "    </tr>\n",
       "    <tr>\n",
       "      <th>565</th>\n",
       "      <td>926682</td>\n",
       "      <td>M</td>\n",
       "      <td>20.13</td>\n",
       "      <td>28.25</td>\n",
       "      <td>131.20</td>\n",
       "      <td>1261.0</td>\n",
       "      <td>0.09780</td>\n",
       "      <td>0.10340</td>\n",
       "      <td>0.14400</td>\n",
       "      <td>0.09791</td>\n",
       "      <td>...</td>\n",
       "      <td>23.690</td>\n",
       "      <td>38.25</td>\n",
       "      <td>155.00</td>\n",
       "      <td>1731.0</td>\n",
       "      <td>0.11660</td>\n",
       "      <td>0.19220</td>\n",
       "      <td>0.3215</td>\n",
       "      <td>0.1628</td>\n",
       "      <td>0.2572</td>\n",
       "      <td>0.06637</td>\n",
       "    </tr>\n",
       "    <tr>\n",
       "      <th>566</th>\n",
       "      <td>926954</td>\n",
       "      <td>M</td>\n",
       "      <td>16.60</td>\n",
       "      <td>28.08</td>\n",
       "      <td>108.30</td>\n",
       "      <td>858.1</td>\n",
       "      <td>0.08455</td>\n",
       "      <td>0.10230</td>\n",
       "      <td>0.09251</td>\n",
       "      <td>0.05302</td>\n",
       "      <td>...</td>\n",
       "      <td>18.980</td>\n",
       "      <td>34.12</td>\n",
       "      <td>126.70</td>\n",
       "      <td>1124.0</td>\n",
       "      <td>0.11390</td>\n",
       "      <td>0.30940</td>\n",
       "      <td>0.3403</td>\n",
       "      <td>0.1418</td>\n",
       "      <td>0.2218</td>\n",
       "      <td>0.07820</td>\n",
       "    </tr>\n",
       "    <tr>\n",
       "      <th>567</th>\n",
       "      <td>927241</td>\n",
       "      <td>M</td>\n",
       "      <td>20.60</td>\n",
       "      <td>29.33</td>\n",
       "      <td>140.10</td>\n",
       "      <td>1265.0</td>\n",
       "      <td>0.11780</td>\n",
       "      <td>0.27700</td>\n",
       "      <td>0.35140</td>\n",
       "      <td>0.15200</td>\n",
       "      <td>...</td>\n",
       "      <td>25.740</td>\n",
       "      <td>39.42</td>\n",
       "      <td>184.60</td>\n",
       "      <td>1821.0</td>\n",
       "      <td>0.16500</td>\n",
       "      <td>0.86810</td>\n",
       "      <td>0.9387</td>\n",
       "      <td>0.2650</td>\n",
       "      <td>0.4087</td>\n",
       "      <td>0.12400</td>\n",
       "    </tr>\n",
       "    <tr>\n",
       "      <th>568</th>\n",
       "      <td>92751</td>\n",
       "      <td>B</td>\n",
       "      <td>7.76</td>\n",
       "      <td>24.54</td>\n",
       "      <td>47.92</td>\n",
       "      <td>181.0</td>\n",
       "      <td>0.05263</td>\n",
       "      <td>0.04362</td>\n",
       "      <td>0.00000</td>\n",
       "      <td>0.00000</td>\n",
       "      <td>...</td>\n",
       "      <td>9.456</td>\n",
       "      <td>30.37</td>\n",
       "      <td>59.16</td>\n",
       "      <td>268.6</td>\n",
       "      <td>0.08996</td>\n",
       "      <td>0.06444</td>\n",
       "      <td>0.0000</td>\n",
       "      <td>0.0000</td>\n",
       "      <td>0.2871</td>\n",
       "      <td>0.07039</td>\n",
       "    </tr>\n",
       "  </tbody>\n",
       "</table>\n",
       "<p>5 rows × 32 columns</p>\n",
       "</div>"
      ],
      "text/plain": [
       "         id diagnosis  radius_mean  texture_mean  perimeter_mean  area_mean  \\\n",
       "564  926424         M        21.56         22.39          142.00     1479.0   \n",
       "565  926682         M        20.13         28.25          131.20     1261.0   \n",
       "566  926954         M        16.60         28.08          108.30      858.1   \n",
       "567  927241         M        20.60         29.33          140.10     1265.0   \n",
       "568   92751         B         7.76         24.54           47.92      181.0   \n",
       "\n",
       "     smoothness_mean  compactness_mean  concavity_mean  concave points_mean  \\\n",
       "564          0.11100           0.11590         0.24390              0.13890   \n",
       "565          0.09780           0.10340         0.14400              0.09791   \n",
       "566          0.08455           0.10230         0.09251              0.05302   \n",
       "567          0.11780           0.27700         0.35140              0.15200   \n",
       "568          0.05263           0.04362         0.00000              0.00000   \n",
       "\n",
       "     ...  radius_worst  texture_worst  perimeter_worst  area_worst  \\\n",
       "564  ...        25.450          26.40           166.10      2027.0   \n",
       "565  ...        23.690          38.25           155.00      1731.0   \n",
       "566  ...        18.980          34.12           126.70      1124.0   \n",
       "567  ...        25.740          39.42           184.60      1821.0   \n",
       "568  ...         9.456          30.37            59.16       268.6   \n",
       "\n",
       "     smoothness_worst  compactness_worst  concavity_worst  \\\n",
       "564           0.14100            0.21130           0.4107   \n",
       "565           0.11660            0.19220           0.3215   \n",
       "566           0.11390            0.30940           0.3403   \n",
       "567           0.16500            0.86810           0.9387   \n",
       "568           0.08996            0.06444           0.0000   \n",
       "\n",
       "     concave points_worst  symmetry_worst  fractal_dimension_worst  \n",
       "564                0.2216          0.2060                  0.07115  \n",
       "565                0.1628          0.2572                  0.06637  \n",
       "566                0.1418          0.2218                  0.07820  \n",
       "567                0.2650          0.4087                  0.12400  \n",
       "568                0.0000          0.2871                  0.07039  \n",
       "\n",
       "[5 rows x 32 columns]"
      ]
     },
     "execution_count": 10,
     "metadata": {
     },
     "output_type": "execute_result"
    }
   ],
   "source": [
    "# print the last five rows of your dataframe \n",
    "df.tail()"
   ]
  },
  {
   "cell_type": "markdown",
   "metadata": {
    "collapsed": false,
    "id": "X1yX_YUAz8ti"
   },
   "source": [
    "**TODO:** at this point, all of our data should be numeric except for our diagnosis column. This is because supervised machine learning models work off of numerical data. Use breast_cancer.info() below to check that all our data besides 'diagnosis' are numeric."
   ]
  },
  {
   "cell_type": "code",
   "execution_count": 11,
   "metadata": {
    "collapsed": false,
    "id": "gAPOpEtcz7U2"
   },
   "outputs": [
    {
     "name": "stdout",
     "output_type": "stream",
     "text": [
      "<class 'pandas.core.frame.DataFrame'>\n",
      "RangeIndex: 569 entries, 0 to 568\n",
      "Data columns (total 32 columns):\n",
      " #   Column                   Non-Null Count  Dtype  \n",
      "---  ------                   --------------  -----  \n",
      " 0   id                       569 non-null    int64  \n",
      " 1   diagnosis                569 non-null    object \n",
      " 2   radius_mean              569 non-null    float64\n",
      " 3   texture_mean             569 non-null    float64\n",
      " 4   perimeter_mean           569 non-null    float64\n",
      " 5   area_mean                569 non-null    float64\n",
      " 6   smoothness_mean          569 non-null    float64\n",
      " 7   compactness_mean         569 non-null    float64\n",
      " 8   concavity_mean           569 non-null    float64\n",
      " 9   concave points_mean      569 non-null    float64\n",
      " 10  symmetry_mean            569 non-null    float64\n",
      " 11  fractal_dimension_mean   569 non-null    float64\n",
      " 12  radius_se                569 non-null    float64\n",
      " 13  texture_se               569 non-null    float64\n",
      " 14  perimeter_se             569 non-null    float64\n",
      " 15  area_se                  569 non-null    float64\n",
      " 16  smoothness_se            569 non-null    float64\n",
      " 17  compactness_se           569 non-null    float64\n",
      " 18  concavity_se             569 non-null    float64\n",
      " 19  concave points_se        569 non-null    float64\n",
      " 20  symmetry_se              569 non-null    float64\n",
      " 21  fractal_dimension_se     569 non-null    float64\n",
      " 22  radius_worst             569 non-null    float64\n",
      " 23  texture_worst            569 non-null    float64\n",
      " 24  perimeter_worst          569 non-null    float64\n",
      " 25  area_worst               569 non-null    float64\n",
      " 26  smoothness_worst         569 non-null    float64\n",
      " 27  compactness_worst        569 non-null    float64\n",
      " 28  concavity_worst          569 non-null    float64\n",
      " 29  concave points_worst     569 non-null    float64\n",
      " 30  symmetry_worst           569 non-null    float64\n",
      " 31  fractal_dimension_worst  569 non-null    float64\n",
      "dtypes: float64(30), int64(1), object(1)\n",
      "memory usage: 142.4+ KB\n"
     ]
    }
   ],
   "source": [
    "# Run breast_cancer.info()\n",
    "df.info()"
   ]
  },
  {
   "cell_type": "markdown",
   "metadata": {
    "collapsed": false,
    "id": "c4ocJucC3-p2"
   },
   "source": [
    "### Dummy Variables - Preprocessing\n",
    "\n",
    "Our target variable (the variable we are trying to predict) is `diagnosis`. Our only problem is that the diagnosis variable will either be an 'M' or a 'B', which is not something our model will understand. We need to change our M's to 1's and B's to 0's so that our model can think like computers do -- using numbers!  \n",
    "\n",
    "To do so, we use something called a dummy variable. I'll show you how to do so below. \n",
    "\n"
   ]
  },
  {
   "cell_type": "code",
   "execution_count": 1,
   "metadata": {
    "collapsed": false,
    "id": "k2w_QD0e3-WY"
   },
   "outputs": [
    {
     "ename": "NameError",
     "evalue": "name 'pd' is not defined",
     "output_type": "error",
     "traceback": [
      "\u001b[0;31m---------------------------------------------------------------------------\u001b[0m",
      "\u001b[0;31mNameError\u001b[0m                                 Traceback (most recent call last)",
      "Input \u001b[0;32mIn [1]\u001b[0m, in \u001b[0;36m<cell line: 1>\u001b[0;34m()\u001b[0m\n\u001b[0;32m----> 1\u001b[0m dummies \u001b[38;5;241m=\u001b[39m \u001b[43mpd\u001b[49m\u001b[38;5;241m.\u001b[39mget_dummies(df[\u001b[38;5;124m\"\u001b[39m\u001b[38;5;124mtumor_size\u001b[39m\u001b[38;5;124m\"\u001b[39m])\n\u001b[1;32m      2\u001b[0m dummies\u001b[38;5;241m.\u001b[39mhead()\n",
      "\u001b[0;31mNameError\u001b[0m: name 'pd' is not defined"
     ]
    }
   ],
   "source": [
    "dummies = pd.get_dummies(df[\"diagnosis\"])\n",
    "dummies.head()"
   ]
  },
  {
   "cell_type": "markdown",
   "metadata": {
    "collapsed": false,
    "id": "YXI5tmDd5CKh"
   },
   "source": [
    "**Ok, we've got our dummy variables. What now?** Now we have to pick one and add it to our dataframe -- we also have to delete the old diagnosis column!"
   ]
  },
  {
   "cell_type": "code",
   "execution_count": 13,
   "metadata": {
    "collapsed": false,
    "id": "QtT1BaBF5M3V"
   },
   "outputs": [
    {
     "data": {
      "text/html": [
       "<div>\n",
       "<style scoped>\n",
       "    .dataframe tbody tr th:only-of-type {\n",
       "        vertical-align: middle;\n",
       "    }\n",
       "\n",
       "    .dataframe tbody tr th {\n",
       "        vertical-align: top;\n",
       "    }\n",
       "\n",
       "    .dataframe thead th {\n",
       "        text-align: right;\n",
       "    }\n",
       "</style>\n",
       "<table border=\"1\" class=\"dataframe\">\n",
       "  <thead>\n",
       "    <tr style=\"text-align: right;\">\n",
       "      <th></th>\n",
       "      <th>id</th>\n",
       "      <th>diagnosis</th>\n",
       "      <th>radius_mean</th>\n",
       "      <th>texture_mean</th>\n",
       "      <th>perimeter_mean</th>\n",
       "      <th>area_mean</th>\n",
       "      <th>smoothness_mean</th>\n",
       "      <th>compactness_mean</th>\n",
       "      <th>concavity_mean</th>\n",
       "      <th>concave points_mean</th>\n",
       "      <th>...</th>\n",
       "      <th>texture_worst</th>\n",
       "      <th>perimeter_worst</th>\n",
       "      <th>area_worst</th>\n",
       "      <th>smoothness_worst</th>\n",
       "      <th>compactness_worst</th>\n",
       "      <th>concavity_worst</th>\n",
       "      <th>concave points_worst</th>\n",
       "      <th>symmetry_worst</th>\n",
       "      <th>fractal_dimension_worst</th>\n",
       "      <th>outcome</th>\n",
       "    </tr>\n",
       "  </thead>\n",
       "  <tbody>\n",
       "    <tr>\n",
       "      <th>0</th>\n",
       "      <td>842302</td>\n",
       "      <td>M</td>\n",
       "      <td>17.99</td>\n",
       "      <td>10.38</td>\n",
       "      <td>122.80</td>\n",
       "      <td>1001.0</td>\n",
       "      <td>0.11840</td>\n",
       "      <td>0.27760</td>\n",
       "      <td>0.3001</td>\n",
       "      <td>0.14710</td>\n",
       "      <td>...</td>\n",
       "      <td>17.33</td>\n",
       "      <td>184.60</td>\n",
       "      <td>2019.0</td>\n",
       "      <td>0.1622</td>\n",
       "      <td>0.6656</td>\n",
       "      <td>0.7119</td>\n",
       "      <td>0.2654</td>\n",
       "      <td>0.4601</td>\n",
       "      <td>0.11890</td>\n",
       "      <td>1</td>\n",
       "    </tr>\n",
       "    <tr>\n",
       "      <th>1</th>\n",
       "      <td>842517</td>\n",
       "      <td>M</td>\n",
       "      <td>20.57</td>\n",
       "      <td>17.77</td>\n",
       "      <td>132.90</td>\n",
       "      <td>1326.0</td>\n",
       "      <td>0.08474</td>\n",
       "      <td>0.07864</td>\n",
       "      <td>0.0869</td>\n",
       "      <td>0.07017</td>\n",
       "      <td>...</td>\n",
       "      <td>23.41</td>\n",
       "      <td>158.80</td>\n",
       "      <td>1956.0</td>\n",
       "      <td>0.1238</td>\n",
       "      <td>0.1866</td>\n",
       "      <td>0.2416</td>\n",
       "      <td>0.1860</td>\n",
       "      <td>0.2750</td>\n",
       "      <td>0.08902</td>\n",
       "      <td>1</td>\n",
       "    </tr>\n",
       "    <tr>\n",
       "      <th>2</th>\n",
       "      <td>84300903</td>\n",
       "      <td>M</td>\n",
       "      <td>19.69</td>\n",
       "      <td>21.25</td>\n",
       "      <td>130.00</td>\n",
       "      <td>1203.0</td>\n",
       "      <td>0.10960</td>\n",
       "      <td>0.15990</td>\n",
       "      <td>0.1974</td>\n",
       "      <td>0.12790</td>\n",
       "      <td>...</td>\n",
       "      <td>25.53</td>\n",
       "      <td>152.50</td>\n",
       "      <td>1709.0</td>\n",
       "      <td>0.1444</td>\n",
       "      <td>0.4245</td>\n",
       "      <td>0.4504</td>\n",
       "      <td>0.2430</td>\n",
       "      <td>0.3613</td>\n",
       "      <td>0.08758</td>\n",
       "      <td>1</td>\n",
       "    </tr>\n",
       "    <tr>\n",
       "      <th>3</th>\n",
       "      <td>84348301</td>\n",
       "      <td>M</td>\n",
       "      <td>11.42</td>\n",
       "      <td>20.38</td>\n",
       "      <td>77.58</td>\n",
       "      <td>386.1</td>\n",
       "      <td>0.14250</td>\n",
       "      <td>0.28390</td>\n",
       "      <td>0.2414</td>\n",
       "      <td>0.10520</td>\n",
       "      <td>...</td>\n",
       "      <td>26.50</td>\n",
       "      <td>98.87</td>\n",
       "      <td>567.7</td>\n",
       "      <td>0.2098</td>\n",
       "      <td>0.8663</td>\n",
       "      <td>0.6869</td>\n",
       "      <td>0.2575</td>\n",
       "      <td>0.6638</td>\n",
       "      <td>0.17300</td>\n",
       "      <td>1</td>\n",
       "    </tr>\n",
       "    <tr>\n",
       "      <th>4</th>\n",
       "      <td>84358402</td>\n",
       "      <td>M</td>\n",
       "      <td>20.29</td>\n",
       "      <td>14.34</td>\n",
       "      <td>135.10</td>\n",
       "      <td>1297.0</td>\n",
       "      <td>0.10030</td>\n",
       "      <td>0.13280</td>\n",
       "      <td>0.1980</td>\n",
       "      <td>0.10430</td>\n",
       "      <td>...</td>\n",
       "      <td>16.67</td>\n",
       "      <td>152.20</td>\n",
       "      <td>1575.0</td>\n",
       "      <td>0.1374</td>\n",
       "      <td>0.2050</td>\n",
       "      <td>0.4000</td>\n",
       "      <td>0.1625</td>\n",
       "      <td>0.2364</td>\n",
       "      <td>0.07678</td>\n",
       "      <td>1</td>\n",
       "    </tr>\n",
       "  </tbody>\n",
       "</table>\n",
       "<p>5 rows × 33 columns</p>\n",
       "</div>"
      ],
      "text/plain": [
       "         id diagnosis  radius_mean  texture_mean  perimeter_mean  area_mean  \\\n",
       "0    842302         M        17.99         10.38          122.80     1001.0   \n",
       "1    842517         M        20.57         17.77          132.90     1326.0   \n",
       "2  84300903         M        19.69         21.25          130.00     1203.0   \n",
       "3  84348301         M        11.42         20.38           77.58      386.1   \n",
       "4  84358402         M        20.29         14.34          135.10     1297.0   \n",
       "\n",
       "   smoothness_mean  compactness_mean  concavity_mean  concave points_mean  \\\n",
       "0          0.11840           0.27760          0.3001              0.14710   \n",
       "1          0.08474           0.07864          0.0869              0.07017   \n",
       "2          0.10960           0.15990          0.1974              0.12790   \n",
       "3          0.14250           0.28390          0.2414              0.10520   \n",
       "4          0.10030           0.13280          0.1980              0.10430   \n",
       "\n",
       "   ...  texture_worst  perimeter_worst  area_worst  smoothness_worst  \\\n",
       "0  ...          17.33           184.60      2019.0            0.1622   \n",
       "1  ...          23.41           158.80      1956.0            0.1238   \n",
       "2  ...          25.53           152.50      1709.0            0.1444   \n",
       "3  ...          26.50            98.87       567.7            0.2098   \n",
       "4  ...          16.67           152.20      1575.0            0.1374   \n",
       "\n",
       "   compactness_worst  concavity_worst  concave points_worst  symmetry_worst  \\\n",
       "0             0.6656           0.7119                0.2654          0.4601   \n",
       "1             0.1866           0.2416                0.1860          0.2750   \n",
       "2             0.4245           0.4504                0.2430          0.3613   \n",
       "3             0.8663           0.6869                0.2575          0.6638   \n",
       "4             0.2050           0.4000                0.1625          0.2364   \n",
       "\n",
       "   fractal_dimension_worst  outcome  \n",
       "0                  0.11890        1  \n",
       "1                  0.08902        1  \n",
       "2                  0.08758        1  \n",
       "3                  0.17300        1  \n",
       "4                  0.07678        1  \n",
       "\n",
       "[5 rows x 33 columns]"
      ]
     },
     "execution_count": 13,
     "metadata": {
     },
     "output_type": "execute_result"
    }
   ],
   "source": [
    "df[\"outcome\"] = dummies[\"M\"]\n",
    "df.head()"
   ]
  },
  {
   "cell_type": "markdown",
   "metadata": {
    "collapsed": false,
    "id": "kXUk3fFs5VxV"
   },
   "source": [
    "**TODO:** Now that our outcome column is there, we need to remove the diagnosis column that had the bad data, right? Please do so below.\n"
   ]
  },
  {
   "cell_type": "code",
   "execution_count": 14,
   "metadata": {
    "collapsed": false,
    "id": "_e-rGtPu5VIL"
   },
   "outputs": [
   ],
   "source": [
    "#Drop the 'diagnosis' column from your dataframe. Remember to use inplace if you are changing the dataframe itself!\n",
    "df.drop(['diagnosis'], axis=1, inplace=True)"
   ]
  },
  {
   "cell_type": "markdown",
   "metadata": {
    "collapsed": false,
    "id": "jhMq9yAj3x78"
   },
   "source": [
    "### Visualize our data\n",
    "Now that we've cleaned our data and it is all ready for our model, we should understand some of the relationships. Use your learnings from last week to create two plots -- you can always start with simple [scatter plots](https://plotly.com/python/line-and-scatter/) or maybe a [scatterplot matrix](https://plotly.com/python/splom/). Get creative!"
   ]
  },
  {
   "cell_type": "code",
   "execution_count": 15,
   "metadata": {
    "collapsed": false,
    "id": "QtEadcGS3sP3"
   },
   "outputs": [
   ],
   "source": [
    "import plotly.express as px\n",
    "import numpy\n",
    "import matplotlib.pyplot as plt\n",
    "import seaborn as sns"
   ]
  },
  {
   "cell_type": "code",
   "execution_count": 16,
   "metadata": {
    "collapsed": false,
    "id": "zAXnnF9f1Mp-"
   },
   "outputs": [
    {
     "data": {
      "text/html": "<html>\n<head><meta charset=\"utf-8\" /></head>\n<body>\n    <div>            <script src=\"https://cdnjs.cloudflare.com/ajax/libs/mathjax/2.7.5/MathJax.js?config=TeX-AMS-MML_SVG\"></script><script type=\"text/javascript\">if (window.MathJax) {MathJax.Hub.Config({SVG: {font: \"STIX-Web\"}});}</script>                <script type=\"text/javascript\">window.PlotlyConfig = {MathJaxConfig: 'local'};</script>\n        <script src=\"https://cdn.plot.ly/plotly-2.9.0.min.js\"></script>                <div id=\"5b446cfc-3820-4160-969f-c439b2369891\" class=\"plotly-graph-div\" style=\"height:1600px; width:1600px;\"></div>            <script type=\"text/javascript\">                                    window.PLOTLYENV=window.PLOTLYENV || {};                                    if (document.getElementById(\"5b446cfc-3820-4160-969f-c439b2369891\")) {                    Plotly.newPlot(                        \"5b446cfc-3820-4160-969f-c439b2369891\",                        [{\"dimensions\":[{\"axis\":{\"matches\":true},\"label\":\"id\",\"values\":[842302,842517,84300903,84348301,84358402,843786,844359,84458202,844981,84501001,845636,84610002,846226,846381,84667401,84799002,848406,84862001,849014,8510426,8510653,8510824,8511133,851509,852552,852631,852763,852781,852973,853201,853401,853612,85382601,854002,854039,854253,854268,854941,855133,855138,855167,855563,855625,856106,85638502,857010,85713702,85715,857155,857156,857343,857373,857374,857392,857438,85759902,857637,857793,857810,858477,858970,858981,858986,859196,85922302,859283,859464,859465,859471,859487,859575,859711,859717,859983,8610175,8610404,8610629,8610637,8610862,8610908,861103,8611161,8611555,8611792,8612080,8612399,86135501,86135502,861597,861598,861648,861799,861853,862009,862028,86208,86211,862261,862485,862548,862717,862722,862965,862980,862989,863030,863031,863270,86355,864018,864033,86408,86409,864292,864496,864685,864726,864729,864877,865128,865137,86517,865423,865432,865468,86561,866083,866203,866458,866674,866714,8670,86730502,867387,867739,868202,868223,868682,868826,868871,868999,869104,869218,869224,869254,869476,869691,86973701,86973702,869931,871001501,871001502,8710441,87106,8711002,8711003,8711202,8711216,871122,871149,8711561,8711803,871201,8712064,8712289,8712291,87127,8712729,8712766,8712853,87139402,87163,87164,871641,871642,872113,872608,87281702,873357,873586,873592,873593,873701,873843,873885,874158,874217,874373,874662,874839,874858,875093,875099,875263,87556202,875878,875938,877159,877486,877500,877501,877989,878796,87880,87930,879523,879804,879830,8810158,8810436,881046502,8810528,8810703,881094802,8810955,8810987,8811523,8811779,8811842,88119002,8812816,8812818,8812844,8812877,8813129,88143502,88147101,88147102,88147202,881861,881972,88199202,88203002,88206102,882488,88249602,88299702,883263,883270,88330202,88350402,883539,883852,88411702,884180,884437,884448,884626,88466802,884689,884948,88518501,885429,8860702,886226,886452,88649001,886776,887181,88725602,887549,888264,888570,889403,889719,88995002,8910251,8910499,8910506,8910720,8910721,8910748,8910988,8910996,8911163,8911164,8911230,8911670,8911800,8911834,8912049,8912055,89122,8912280,8912284,8912521,8912909,8913,8913049,89143601,89143602,8915,891670,891703,891716,891923,891936,892189,892214,892399,892438,892604,89263202,892657,89296,893061,89344,89346,893526,893548,893783,89382601,89382602,893988,894047,894089,894090,894326,894329,894335,894604,894618,894855,895100,89511501,89511502,89524,895299,8953902,895633,896839,896864,897132,897137,897374,89742801,897604,897630,897880,89812,89813,898143,89827,898431,89864002,898677,898678,89869,898690,899147,899187,899667,899987,9010018,901011,9010258,9010259,901028,9010333,901034301,901034302,901041,9010598,9010872,9010877,901088,9011494,9011495,9011971,9012000,9012315,9012568,9012795,901288,9013005,901303,901315,9013579,9013594,9013838,901549,901836,90250,90251,902727,90291,902975,902976,903011,90312,90317302,903483,903507,903516,903554,903811,90401601,90401602,904302,904357,90439701,904647,904689,9047,904969,904971,905189,905190,90524101,905501,905502,905520,905539,905557,905680,905686,905978,90602302,906024,906290,906539,906564,906616,906878,907145,907367,907409,90745,90769601,90769602,907914,907915,908194,908445,908469,908489,908916,909220,909231,909410,909411,909445,90944601,909777,9110127,9110720,9110732,9110944,911150,911157302,9111596,9111805,9111843,911201,911202,9112085,9112366,9112367,9112594,9112712,911296201,911296202,9113156,911320501,911320502,9113239,9113455,9113514,9113538,911366,9113778,9113816,911384,9113846,911391,911408,911654,911673,911685,911916,912193,91227,912519,912558,912600,913063,913102,913505,913512,913535,91376701,91376702,914062,914101,914102,914333,914366,914580,914769,91485,914862,91504,91505,915143,915186,915276,91544001,91544002,915452,915460,91550,915664,915691,915940,91594602,916221,916799,916838,917062,917080,917092,91762702,91789,917896,917897,91805,91813701,91813702,918192,918465,91858,91903901,91903902,91930402,919537,919555,91979701,919812,921092,921362,921385,921386,921644,922296,922297,922576,922577,922840,923169,923465,923748,923780,924084,924342,924632,924934,924964,925236,925277,925291,925292,925311,925622,926125,926424,926682,926954,927241,92751]},{\"axis\":{\"matches\":true},\"label\":\"radius mean\",\"values\":[17.99,20.57,19.69,11.42,20.29,12.45,18.25,13.71,13.0,12.46,16.02,15.78,19.17,15.85,13.73,14.54,14.68,16.13,19.81,13.54,13.08,9.504,15.34,21.16,16.65,17.14,14.58,18.61,15.3,17.57,18.63,11.84,17.02,19.27,16.13,16.74,14.25,13.03,14.99,13.48,13.44,10.95,19.07,13.28,13.17,18.65,8.196,13.17,12.05,13.49,11.76,13.64,11.94,18.22,15.1,11.52,19.21,14.71,13.05,8.618,10.17,8.598,14.25,9.173,12.68,14.78,9.465,11.31,9.029,12.78,18.94,8.888,17.2,13.8,12.31,16.07,13.53,18.05,20.18,12.86,11.45,13.34,25.22,19.1,12.0,18.46,14.48,19.02,12.36,14.64,14.62,15.37,13.27,13.45,15.06,20.26,12.18,9.787,11.6,14.42,13.61,6.981,12.18,9.876,10.49,13.11,11.64,12.36,22.27,11.34,9.777,12.63,14.26,10.51,8.726,11.93,8.95,14.87,15.78,17.95,11.41,18.66,24.25,14.5,13.37,13.85,13.61,19.0,15.1,19.79,12.19,15.46,16.16,15.71,18.45,12.77,11.71,11.43,14.95,11.28,9.738,16.11,11.43,12.9,10.75,11.9,11.8,14.95,14.44,13.74,13.0,8.219,9.731,11.15,13.15,12.25,17.68,16.84,12.06,10.9,11.75,19.19,19.59,12.34,23.27,14.97,10.8,16.78,17.47,14.97,12.32,13.43,15.46,11.08,10.66,8.671,9.904,16.46,13.01,12.81,27.22,21.09,15.7,11.41,15.28,10.08,18.31,11.71,11.81,12.3,14.22,12.77,9.72,12.34,14.86,12.91,13.77,18.08,19.18,14.45,12.23,17.54,23.29,13.81,12.47,15.12,9.876,17.01,13.11,15.27,20.58,11.84,28.11,17.42,14.19,13.86,11.89,10.2,19.8,19.53,13.65,13.56,10.18,15.75,13.27,14.34,10.44,15.0,12.62,12.83,17.05,11.32,11.22,20.51,9.567,14.03,23.21,20.48,14.22,17.46,13.64,12.42,11.3,13.75,19.4,10.48,13.2,12.89,10.65,11.52,20.94,11.5,19.73,17.3,19.45,13.96,19.55,15.32,15.66,15.53,20.31,17.35,17.29,15.61,17.19,20.73,10.6,13.59,12.87,10.71,14.29,11.29,21.75,9.742,17.93,11.89,11.33,18.81,13.59,13.85,19.16,11.74,19.4,16.24,12.89,12.58,11.94,12.89,11.26,11.37,14.41,14.96,12.95,11.85,12.72,13.77,10.91,11.76,14.26,10.51,19.53,12.46,20.09,10.49,11.46,11.6,13.2,9.0,13.5,13.05,11.7,14.61,12.76,11.54,8.597,12.49,12.18,18.22,9.042,12.43,10.25,20.16,12.86,20.34,12.2,12.67,14.11,12.03,16.27,16.26,16.03,12.98,11.22,11.25,12.3,17.06,12.99,18.77,10.05,23.51,14.42,9.606,11.06,19.68,11.71,10.26,12.06,14.76,11.47,11.95,11.66,15.75,25.73,15.08,11.14,12.56,13.05,13.87,8.878,9.436,12.54,13.3,12.76,16.5,13.4,20.44,20.2,12.21,21.71,22.01,16.35,15.19,21.37,20.64,13.69,16.17,10.57,13.46,13.66,11.08,11.27,11.04,12.05,12.39,13.28,14.6,12.21,13.88,11.27,19.55,10.26,8.734,15.49,21.61,12.1,14.06,13.51,12.8,11.06,11.8,17.91,11.93,12.96,12.94,12.34,10.94,16.14,12.85,17.99,12.27,11.36,11.04,9.397,14.99,15.13,11.89,9.405,15.5,12.7,11.16,11.57,14.69,11.61,13.66,9.742,10.03,10.48,10.8,11.13,12.72,14.9,12.4,20.18,18.82,14.86,13.98,12.87,14.04,13.85,14.02,10.97,17.27,13.78,10.57,18.03,11.99,17.75,14.8,14.53,21.1,11.87,19.59,12.0,14.53,12.62,13.38,11.63,13.21,13.0,9.755,17.08,27.42,14.4,11.6,13.17,13.24,13.14,9.668,17.6,11.62,9.667,12.04,14.92,12.27,10.88,12.83,14.2,13.9,11.49,16.25,12.16,13.9,13.47,13.7,15.73,12.45,14.64,19.44,11.68,16.69,12.25,17.85,18.01,12.46,13.16,14.87,12.65,12.47,18.49,20.59,15.04,13.82,12.54,23.09,9.268,9.676,12.22,11.06,16.3,15.46,11.74,14.81,13.4,14.58,15.05,11.34,18.31,19.89,12.88,12.75,9.295,24.63,11.26,13.71,9.847,8.571,13.46,12.34,13.94,12.07,11.75,11.67,13.68,20.47,10.96,20.55,14.27,11.69,7.729,7.691,11.54,14.47,14.74,13.21,13.87,13.62,10.32,10.26,9.683,10.82,10.86,11.13,12.77,9.333,12.88,10.29,10.16,9.423,14.59,11.51,14.05,11.2,15.22,20.92,21.56,20.13,16.6,20.6,7.76]},{\"axis\":{\"matches\":true},\"label\":\"texture mean\",\"values\":[10.38,17.77,21.25,20.38,14.34,15.7,19.98,20.83,21.82,24.04,23.24,17.89,24.8,23.95,22.61,27.54,20.13,20.68,22.15,14.36,15.71,12.44,14.26,23.04,21.38,16.4,21.53,20.25,25.27,15.05,25.11,18.7,23.98,26.47,17.88,21.59,21.72,18.42,25.2,20.82,21.58,21.35,24.81,20.28,21.81,17.6,16.84,18.66,14.63,22.3,21.6,16.34,18.24,18.7,22.02,18.75,18.57,21.59,19.31,11.79,14.88,20.98,22.15,13.86,23.84,23.94,21.01,19.04,17.33,16.49,21.31,14.64,24.52,15.79,16.52,19.65,10.94,16.15,23.97,18.0,20.97,15.86,24.91,26.29,15.65,18.52,21.46,24.59,21.8,15.24,24.02,22.76,14.76,18.3,19.83,23.03,17.84,19.94,12.84,19.77,24.98,13.43,20.52,19.4,19.29,15.56,18.33,18.54,19.67,21.26,16.99,20.76,19.65,20.19,15.83,21.53,15.76,16.67,22.91,20.01,10.82,17.12,20.2,10.89,16.39,17.21,24.69,18.91,16.39,25.12,13.29,19.48,21.54,13.93,21.91,22.47,16.67,15.39,17.57,13.39,11.97,18.05,17.31,15.92,14.97,14.65,16.58,18.77,15.18,17.91,20.78,20.7,15.34,13.08,15.34,17.94,20.74,19.46,12.74,12.96,20.18,15.94,18.15,22.22,22.04,19.76,9.71,18.8,24.68,16.95,12.39,19.63,11.89,14.71,15.15,14.45,18.06,20.11,22.22,13.06,21.87,26.57,20.31,14.92,22.41,15.11,18.58,17.19,17.39,15.9,23.12,21.41,18.22,26.86,23.21,16.33,22.29,21.84,22.49,20.22,19.56,19.32,26.67,23.75,18.6,16.68,17.27,20.26,22.54,12.91,22.14,18.94,18.47,25.56,23.81,16.93,18.35,17.48,21.56,32.47,13.16,13.9,17.53,20.25,17.02,13.47,15.46,15.51,23.97,22.33,19.08,27.08,33.81,27.81,15.91,21.25,26.97,21.46,27.85,39.28,15.6,15.04,18.19,23.77,23.5,19.86,17.43,14.11,25.22,14.93,23.56,18.45,19.82,17.08,19.33,17.05,28.77,17.27,23.2,33.56,27.06,23.06,22.13,19.38,22.07,31.12,18.95,21.84,16.21,20.39,16.82,13.04,20.99,15.67,24.48,17.36,14.16,19.98,17.84,15.18,26.6,14.02,18.18,18.77,15.7,18.4,20.76,13.12,19.96,18.89,19.73,19.1,16.02,17.46,13.78,13.27,12.35,18.14,18.17,23.09,18.9,19.89,23.86,18.61,18.16,24.49,15.82,14.4,12.71,13.84,19.11,15.69,13.37,10.72,18.6,16.85,14.08,18.87,18.9,17.0,16.18,19.66,13.32,21.51,15.21,17.3,12.88,17.93,20.71,21.88,15.51,19.35,19.86,14.78,19.02,21.0,14.23,21.43,17.53,24.27,16.54,16.84,14.96,21.68,15.45,14.71,18.9,14.74,16.03,14.96,17.07,19.22,17.46,25.74,14.07,19.07,18.59,16.21,15.49,18.32,18.07,21.57,18.84,18.29,16.95,21.78,26.83,18.02,17.25,21.9,23.29,13.21,15.1,17.35,16.07,16.07,20.22,28.21,15.15,18.83,12.96,14.93,22.72,17.48,13.72,23.29,14.09,16.16,15.5,23.21,12.22,16.84,19.97,22.28,17.72,17.18,18.89,17.46,14.83,17.26,21.02,10.91,18.29,16.17,14.95,18.59,14.86,21.37,20.66,17.92,17.57,16.83,21.68,22.11,29.81,21.17,21.7,21.08,12.17,21.41,19.04,13.98,16.02,19.13,19.12,21.28,14.98,21.98,16.62,17.67,22.53,17.68,19.54,21.97,16.94,19.62,19.54,15.98,19.6,15.66,17.2,25.42,15.79,18.32,16.85,24.89,28.03,17.66,19.34,20.52,21.54,25.0,28.23,13.98,17.15,30.72,29.29,25.25,25.13,28.2,27.15,26.27,26.99,18.36,18.22,20.13,20.74,18.1,23.33,18.18,18.49,28.14,14.93,29.97,15.62,15.73,20.53,16.62,14.59,19.51,18.03,19.24,14.06,17.64,11.28,16.41,16.85,18.82,16.17,20.2,22.44,13.23,20.56,12.83,20.54,20.21,18.17,17.31,17.52,21.24,16.74,24.49,16.32,19.83,12.87,13.14,20.04,17.12,15.7,23.95,14.69,14.7,20.52,13.66,19.07,18.61,20.58,20.26,18.22,16.7,13.9,21.6,19.83,18.68,15.68,13.1,18.75,12.27,13.17,13.44,17.56,20.02,16.33,20.67,17.62,20.86,22.55,24.44,25.49,25.44,14.44,24.99,25.42,28.06,20.7,23.23,16.35,16.58,19.34,24.21,21.48,22.44,29.43,21.94,28.92,27.61,19.59,27.88,22.68,23.93,27.15,29.37,30.62,25.09,22.39,28.25,28.08,29.33,24.54]},{\"axis\":{\"matches\":true},\"label\":\"perimeter mean\",\"values\":[122.8,132.9,130.0,77.58,135.1,82.57,119.6,90.2,87.5,83.97,102.7,103.6,132.4,103.7,93.6,96.73,94.74,108.1,130.0,87.46,85.63,60.34,102.5,137.2,110.0,116.0,97.41,122.1,102.4,115.0,124.8,77.93,112.8,127.9,107.0,110.1,93.63,82.61,95.54,88.4,86.18,71.9,128.3,87.32,85.42,123.7,51.71,85.98,78.04,86.91,74.72,87.21,75.71,120.3,97.26,73.34,125.5,95.55,82.61,54.34,64.55,54.66,96.42,59.2,82.69,97.4,60.11,71.8,58.79,81.37,123.6,58.79,114.2,90.43,79.19,104.1,87.91,120.2,143.7,83.19,73.81,86.49,171.5,129.1,76.95,121.1,94.25,122.0,79.78,95.77,94.57,100.2,84.74,86.6,100.3,132.4,77.79,62.11,74.34,94.48,88.05,43.79,77.22,63.95,67.41,87.21,75.17,79.01,152.8,72.48,62.5,82.15,97.83,68.64,55.84,76.53,58.74,98.64,105.7,114.2,73.34,121.4,166.2,94.28,86.1,88.44,87.76,123.4,99.58,130.4,79.08,101.7,106.2,102.0,120.2,81.72,74.72,73.06,96.85,73.0,61.24,105.1,73.66,83.74,68.26,78.11,78.99,97.84,93.97,88.12,83.51,53.27,63.78,70.87,85.31,78.27,117.4,108.4,76.84,68.69,76.1,126.3,130.7,79.85,152.1,95.5,68.77,109.3,116.1,96.22,78.85,85.84,102.5,70.21,67.49,54.42,64.6,109.3,82.01,81.29,182.1,142.7,101.2,73.53,98.92,63.76,118.6,74.68,75.27,78.83,94.37,82.02,60.73,81.15,100.4,82.53,90.63,117.4,127.5,94.49,78.54,115.1,158.9,91.56,81.09,98.78,62.92,109.7,87.02,98.17,134.7,75.51,188.5,114.5,92.87,90.96,77.32,65.05,129.7,128.0,87.88,88.59,65.12,102.6,84.55,92.51,66.62,97.45,81.35,85.26,113.4,71.76,70.79,134.4,60.21,89.79,153.5,132.5,92.55,113.4,87.38,78.61,73.93,88.54,129.1,66.72,84.13,84.95,68.01,73.87,138.9,73.28,130.7,113.0,126.5,91.43,133.6,103.2,110.2,103.7,132.9,111.0,114.4,100.0,111.6,135.7,69.28,87.16,82.38,69.5,90.3,72.23,147.3,61.5,115.2,76.2,71.79,120.9,86.24,88.99,126.2,74.24,127.2,108.8,84.08,79.83,77.87,81.89,73.72,72.17,96.03,97.03,83.14,75.54,81.78,88.06,69.14,75.0,91.22,66.85,129.5,80.43,134.7,66.86,73.59,74.23,84.07,56.36,85.69,82.71,74.33,92.68,82.29,73.73,54.09,79.19,77.25,118.7,60.07,78.6,66.52,131.1,82.82,135.9,78.01,81.25,90.03,76.09,106.9,107.5,105.8,84.52,71.94,71.38,77.88,111.8,84.08,122.9,64.41,155.1,94.15,61.64,71.49,129.9,75.03,66.2,76.66,94.87,73.02,77.23,73.7,107.1,174.2,98.0,71.24,81.92,85.09,88.52,56.74,59.82,79.42,85.24,81.87,106.6,85.48,133.8,133.7,78.31,140.9,147.2,109.0,97.65,141.3,134.8,87.84,106.3,70.15,85.89,88.27,73.3,73.16,70.67,78.75,80.64,85.79,93.97,78.78,88.37,73.38,128.9,65.75,55.27,102.4,144.4,78.07,89.75,88.1,83.05,70.31,75.26,124.4,76.14,84.18,83.18,78.29,70.39,104.3,82.63,117.8,78.41,72.49,70.92,59.75,97.53,96.71,76.39,59.6,102.9,80.88,70.95,74.2,98.22,75.46,89.46,61.93,63.19,67.49,68.79,70.47,80.98,102.1,81.47,133.8,123.7,94.89,91.12,82.67,89.78,88.68,89.59,71.73,112.4,88.37,66.82,117.5,77.61,117.3,95.88,94.25,138.1,76.83,127.7,76.77,93.86,80.62,86.34,74.87,84.1,82.61,61.68,111.2,186.9,92.25,73.88,84.28,86.87,85.98,61.06,119.0,76.38,61.49,76.85,96.45,77.42,70.41,82.89,92.41,88.97,73.99,109.8,78.29,88.73,87.32,87.76,102.8,82.85,94.21,128.1,75.49,107.1,78.18,114.6,118.4,78.83,84.06,96.12,82.69,80.45,121.3,137.8,98.73,92.33,81.25,152.1,61.49,64.12,79.47,71.25,104.7,103.8,76.31,94.66,88.64,94.29,97.26,72.76,120.8,130.5,84.45,82.51,59.96,165.5,71.3,88.73,63.0,54.53,87.44,78.94,90.31,77.83,75.89,75.21,87.76,134.7,70.79,137.8,93.77,76.37,47.98,48.34,74.65,95.81,94.7,84.88,89.77,87.19,65.31,65.85,61.05,68.89,68.51,71.49,81.35,59.01,82.5,65.67,64.73,59.26,96.39,74.52,91.38,70.67,103.4,143.0,142.0,131.2,108.3,140.1,47.92]},{\"axis\":{\"matches\":true},\"label\":\"area mean\",\"values\":[1001.0,1326.0,1203.0,386.1,1297.0,477.1,1040.0,577.9,519.8,475.9,797.8,781.0,1123.0,782.7,578.3,658.8,684.5,798.8,1260.0,566.3,520.0,273.9,704.4,1404.0,904.6,912.7,644.8,1094.0,732.4,955.1,1088.0,440.6,899.3,1162.0,807.2,869.5,633.0,523.8,698.8,559.2,563.0,371.1,1104.0,545.2,531.5,1076.0,201.9,534.6,449.3,561.0,427.9,571.8,437.6,1033.0,712.8,409.0,1152.0,656.9,527.2,224.5,311.9,221.8,645.7,260.9,499.0,668.3,269.4,394.1,250.5,502.5,1130.0,244.0,929.4,584.1,470.9,817.7,559.2,1006.0,1245.0,506.3,401.5,520.0,1878.0,1132.0,443.3,1075.0,648.2,1076.0,466.1,651.9,662.7,728.2,551.7,555.1,705.6,1264.0,451.1,294.5,412.6,642.5,582.7,143.5,458.7,298.3,336.1,530.2,412.5,466.7,1509.0,396.5,290.2,480.4,629.9,334.2,230.9,438.6,245.2,682.5,782.6,982.0,403.3,1077.0,1761.0,640.7,553.5,588.7,572.6,1138.0,674.5,1192.0,455.8,748.9,809.8,761.7,1075.0,506.3,423.6,399.8,678.1,384.8,288.5,813.0,398.0,512.2,355.3,432.8,432.0,689.5,640.1,585.0,519.4,203.9,300.2,381.9,538.9,460.3,963.7,880.2,448.6,366.8,419.8,1157.0,1214.0,464.5,1686.0,690.2,357.6,886.3,984.6,685.9,464.1,565.4,736.9,372.7,349.6,227.2,302.4,832.9,526.4,508.8,2250.0,1311.0,766.6,402.0,710.6,317.5,1041.0,420.3,428.9,463.7,609.9,507.4,288.1,477.4,671.4,516.4,588.9,1024.0,1148.0,642.7,461.0,951.6,1685.0,597.8,481.9,716.6,295.4,904.3,529.4,725.5,1290.0,428.0,2499.0,948.0,610.7,578.9,432.2,321.2,1230.0,1223.0,568.9,561.3,313.1,761.3,546.4,641.2,329.6,684.5,496.4,503.2,895.0,395.7,386.8,1319.0,279.6,603.4,1670.0,1306.0,623.9,920.6,575.3,476.5,389.4,590.0,1155.0,337.7,541.6,512.2,347.0,406.3,1364.0,407.4,1206.0,928.2,1169.0,602.4,1207.0,713.3,773.5,744.9,1288.0,933.1,947.8,758.6,928.3,1419.0,346.4,561.0,512.2,344.9,632.6,388.0,1491.0,289.9,998.9,435.6,396.6,1102.0,572.3,587.4,1138.0,427.3,1145.0,805.1,516.6,489.0,441.0,515.9,394.1,396.0,651.0,687.3,513.7,432.7,492.1,582.7,363.7,431.1,633.1,334.2,1217.0,471.3,1247.0,334.3,403.1,417.2,537.3,246.3,566.2,530.6,418.7,664.9,504.1,409.1,221.2,481.6,461.4,1027.0,244.5,477.3,324.2,1274.0,504.8,1264.0,457.9,489.9,616.5,446.0,813.7,826.8,793.2,514.0,387.3,390.0,464.4,918.6,514.3,1092.0,310.8,1747.0,641.2,280.5,373.9,1194.0,420.3,321.6,445.3,668.7,402.7,426.7,421.0,758.6,2010.0,716.6,384.6,485.8,512.0,593.7,241.0,278.6,491.9,546.1,496.6,838.1,552.4,1293.0,1234.0,458.4,1546.0,1482.0,840.4,711.8,1386.0,1335.0,579.1,788.5,338.3,562.1,580.6,361.6,386.3,372.7,447.8,462.9,541.8,664.7,462.0,596.6,392.0,1174.0,321.6,234.3,744.7,1407.0,446.2,609.1,558.1,508.3,378.2,431.9,994.0,442.7,525.2,507.6,469.1,370.0,800.0,514.5,991.7,466.1,399.8,373.2,268.8,693.7,719.5,433.8,271.2,803.1,495.0,380.3,409.7,656.1,408.2,575.3,289.7,307.3,333.6,359.9,381.1,501.3,685.0,467.8,1250.0,1110.0,673.7,599.5,509.2,611.2,592.6,606.5,371.5,928.8,585.9,340.9,990.0,441.3,981.6,674.8,659.7,1384.0,432.0,1191.0,442.5,644.2,492.9,557.2,415.1,537.9,520.2,290.9,930.9,2501.0,646.1,412.7,537.3,542.9,536.9,286.3,980.5,408.8,289.1,449.9,686.9,465.4,358.9,506.9,618.4,599.4,404.9,815.8,455.3,602.9,546.3,571.1,747.2,476.7,666.0,1167.0,420.5,857.6,466.5,992.1,1007.0,477.3,538.7,680.9,485.6,480.1,1068.0,1320.0,689.4,595.9,476.3,1682.0,248.7,272.5,453.1,366.5,819.8,731.3,426.0,680.7,556.7,658.8,701.9,391.2,1052.0,1214.0,493.1,493.8,257.8,1841.0,388.1,571.0,293.2,221.3,551.1,468.5,594.2,445.2,422.9,416.2,575.5,1299.0,365.6,1308.0,629.8,406.4,178.8,170.4,402.9,656.4,668.6,538.4,584.8,573.2,324.9,320.8,285.7,361.6,360.5,378.4,507.9,264.0,514.3,321.4,311.7,271.3,657.1,403.5,600.4,386.0,716.9,1347.0,1479.0,1261.0,858.1,1265.0,181.0]},{\"axis\":{\"matches\":true},\"label\":\"smoothness mean\",\"values\":[0.1184,0.08474,0.1096,0.1425,0.1003,0.1278,0.09463,0.1189,0.1273,0.1186,0.08206,0.0971,0.0974,0.08401,0.1131,0.1139,0.09867,0.117,0.09831,0.09779,0.1075,0.1024,0.1073,0.09428,0.1121,0.1186,0.1054,0.0944,0.1082,0.09847,0.1064,0.1109,0.1197,0.09401,0.104,0.0961,0.09823,0.08983,0.09387,0.1016,0.08162,0.1227,0.09081,0.1041,0.09714,0.1099,0.086,0.1158,0.1031,0.08752,0.08637,0.07685,0.08261,0.1148,0.09056,0.09524,0.1053,0.1137,0.0806,0.09752,0.1134,0.1243,0.1049,0.07721,0.1122,0.1172,0.1044,0.08139,0.1066,0.09831,0.09009,0.09783,0.1071,0.1007,0.09172,0.09168,0.1291,0.1065,0.1286,0.09934,0.1102,0.1078,0.1063,0.1215,0.09723,0.09874,0.09444,0.09029,0.08772,0.1132,0.08974,0.092,0.07355,0.1022,0.1039,0.09078,0.1045,0.1024,0.08983,0.09752,0.09488,0.117,0.08013,0.1005,0.09989,0.1398,0.1142,0.08477,0.1326,0.08759,0.1037,0.09933,0.07837,0.1122,0.115,0.09768,0.09462,0.1162,0.1155,0.08402,0.09373,0.1054,0.1447,0.1101,0.07115,0.08785,0.09258,0.08217,0.115,0.1015,0.1066,0.1092,0.1008,0.09462,0.0943,0.09055,0.1051,0.09639,0.1167,0.1164,0.0925,0.09721,0.1092,0.08677,0.07793,0.1152,0.1091,0.08138,0.0997,0.07944,0.1135,0.09405,0.1072,0.09754,0.09384,0.08654,0.1115,0.07445,0.09311,0.07515,0.1089,0.08694,0.112,0.1012,0.08439,0.08421,0.09594,0.08865,0.1049,0.09855,0.1028,0.09048,0.1257,0.1006,0.08792,0.09138,0.09699,0.09831,0.06251,0.08739,0.1094,0.1141,0.09597,0.09059,0.09057,0.09267,0.08588,0.09774,0.1007,0.0808,0.1075,0.08749,0.0695,0.1034,0.1044,0.07941,0.12,0.07371,0.08523,0.09872,0.09586,0.08968,0.1141,0.1323,0.09965,0.08876,0.1089,0.08772,0.1002,0.08182,0.0909,0.08871,0.1142,0.1006,0.09463,0.1026,0.09363,0.08054,0.09383,0.0842,0.09646,0.1051,0.1061,0.1025,0.08445,0.09906,0.1053,0.08371,0.07903,0.1088,0.1141,0.06883,0.0778,0.09159,0.08464,0.0907,0.09509,0.08355,0.08223,0.09812,0.09423,0.07926,0.09592,0.08043,0.1027,0.107,0.07215,0.0876,0.09657,0.1013,0.1007,0.09345,0.1062,0.1008,0.1035,0.1096,0.0926,0.1335,0.1109,0.1063,0.1,0.08662,0.08999,0.0784,0.09726,0.09469,0.09688,0.07956,0.09425,0.1082,0.06429,0.09834,0.09401,0.09037,0.08855,0.1225,0.09379,0.08923,0.07948,0.09516,0.102,0.07813,0.1037,0.1066,0.07818,0.08393,0.08605,0.06955,0.0802,0.08713,0.08757,0.08992,0.1005,0.08372,0.09667,0.09198,0.08518,0.09968,0.06576,0.1015,0.115,0.08451,0.108,0.1068,0.08853,0.07474,0.08511,0.07005,0.07376,0.08352,0.08814,0.07618,0.08794,0.08597,0.1074,0.08511,0.07734,0.09746,0.09968,0.07557,0.1061,0.0802,0.1134,0.117,0.08673,0.1028,0.09309,0.07683,0.1169,0.1165,0.09491,0.09579,0.1054,0.08306,0.08313,0.1119,0.09462,0.09116,0.1007,0.1069,0.09751,0.08481,0.1033,0.09797,0.115,0.09882,0.08386,0.08875,0.09076,0.1158,0.07561,0.1243,0.1149,0.1024,0.07274,0.0876,0.1082,0.08743,0.08293,0.1009,0.07436,0.08582,0.09676,0.09686,0.07937,0.0915,0.09905,0.09231,0.09384,0.1063,0.09742,0.07963,0.1001,0.09446,0.08302,0.0988,0.09073,0.07517,0.08268,0.1216,0.1237,0.07987,0.06935,0.1042,0.08363,0.08682,0.08108,0.07026,0.08365,0.101,0.09996,0.1039,0.116,0.1167,0.1029,0.08045,0.1059,0.08044,0.07741,0.09087,0.123,0.08872,0.07351,0.09879,0.08682,0.1004,0.09495,0.07551,0.1036,0.08685,0.08858,0.1077,0.07969,0.08515,0.0832,0.09773,0.1044,0.112,0.08785,0.1018,0.08546,0.1031,0.1088,0.09057,0.1075,0.08117,0.09816,0.08801,0.08151,0.07896,0.09947,0.1054,0.1133,0.1018,0.08924,0.106,0.09136,0.08458,0.08684,0.07966,0.08915,0.08331,0.08817,0.08142,0.08947,0.103,0.09997,0.09179,0.08388,0.09684,0.06613,0.1032,0.08437,0.1099,0.08583,0.09245,0.09357,0.08791,0.08369,0.07984,0.09898,0.1084,0.06995,0.08508,0.07466,0.08284,0.08675,0.08311,0.09289,0.1175,0.08946,0.08752,0.08098,0.07699,0.1007,0.0904,0.08931,0.06828,0.1046,0.1026,0.09087,0.07991,0.1071,0.0995,0.1043,0.09514,0.08641,0.1089,0.1128,0.07497,0.08192,0.07838,0.1001,0.07372,0.07335,0.09587,0.1076,0.08928,0.1012,0.1085,0.09883,0.1162,0.1158,0.09342,0.1634,0.1255,0.1096,0.1194,0.09427,0.1183,0.08099,0.08472,0.1106,0.09832,0.09215,0.1049,0.1068,0.1037,0.1218,0.1125,0.1371,0.103,0.08511,0.09916,0.09492,0.1036,0.1075,0.09003,0.1248,0.11,0.1073,0.1016,0.09277,0.09156,0.09687,0.1046,0.1038,0.1236,0.08098,0.08668,0.09984,0.08837,0.08275,0.08671,0.09578,0.09246,0.09434,0.08877,0.08491,0.08192,0.07431,0.09566,0.08276,0.0924,0.08123,0.0903,0.1003,0.08123,0.08473,0.09261,0.09929,0.07449,0.1048,0.1099,0.111,0.0978,0.08455,0.1178,0.05263]},{\"axis\":{\"matches\":true},\"label\":\"compactness mean\",\"values\":[0.2776,0.07864,0.1599,0.2839,0.1328,0.17,0.109,0.1645,0.1932,0.2396,0.06669,0.1292,0.2458,0.1002,0.2293,0.1595,0.072,0.2022,0.1027,0.08129,0.127,0.06492,0.2135,0.1022,0.1457,0.2276,0.1868,0.1066,0.1697,0.1157,0.1887,0.1516,0.1496,0.1719,0.1559,0.1336,0.1098,0.03766,0.05131,0.1255,0.06031,0.1218,0.219,0.1436,0.1047,0.1686,0.05943,0.1231,0.09092,0.07698,0.04966,0.06059,0.04751,0.1485,0.07081,0.05473,0.1267,0.1365,0.03789,0.05272,0.08061,0.08963,0.2008,0.08751,0.1262,0.1479,0.07773,0.04701,0.1413,0.05234,0.1029,0.1531,0.183,0.128,0.06829,0.08424,0.1047,0.2146,0.3454,0.09546,0.09362,0.1535,0.2665,0.1791,0.07165,0.1053,0.09947,0.1206,0.09445,0.1339,0.08606,0.1036,0.05055,0.08165,0.1553,0.1313,0.07057,0.05301,0.07525,0.1141,0.08511,0.07568,0.04038,0.09697,0.08578,0.1765,0.1017,0.06815,0.2768,0.06575,0.08404,0.1209,0.2233,0.1303,0.08201,0.07849,0.1243,0.1649,0.1752,0.06722,0.06685,0.11,0.2867,0.1099,0.07325,0.06136,0.07862,0.08028,0.1807,0.1589,0.09509,0.1223,0.1284,0.09462,0.09709,0.05761,0.06095,0.06889,0.1305,0.1136,0.04102,0.1137,0.09486,0.09509,0.05139,0.1296,0.17,0.1167,0.1021,0.06376,0.07589,0.1305,0.1599,0.05113,0.08498,0.06679,0.1665,0.07223,0.05241,0.03718,0.1141,0.1185,0.1666,0.1015,0.1145,0.05352,0.05736,0.09182,0.1603,0.07885,0.06981,0.06288,0.1555,0.05743,0.04302,0.04276,0.1294,0.1556,0.01938,0.03774,0.1914,0.2832,0.08799,0.08155,0.1052,0.04695,0.08468,0.06141,0.05562,0.07253,0.2413,0.06601,0.02344,0.1353,0.198,0.05366,0.1267,0.08642,0.1428,0.1206,0.08087,0.1198,0.2084,0.1768,0.1058,0.09588,0.07232,0.07304,0.1483,0.0623,0.1348,0.069,0.1516,0.1146,0.1306,0.1517,0.1154,0.05907,0.1306,0.113,0.08711,0.1192,0.08502,0.1204,0.04994,0.07624,0.07722,0.1096,0.07529,0.1799,0.1572,0.03813,0.03574,0.1074,0.04087,0.06945,0.1682,0.08348,0.1039,0.1298,0.0663,0.03393,0.1325,0.06807,0.1558,0.05971,0.04524,0.1346,0.07234,0.07808,0.1606,0.05991,0.1849,0.1041,0.1188,0.1279,0.2063,0.2284,0.3114,0.1639,0.1088,0.0629,0.1273,0.05616,0.08995,0.1143,0.1147,0.08259,0.06219,0.1289,0.02675,0.07608,0.1961,0.04689,0.07027,0.0721,0.03872,0.05884,0.04052,0.07688,0.1453,0.0434,0.1442,0.1802,0.0958,0.04216,0.1011,0.03729,0.1181,0.05008,0.1676,0.09823,0.07943,0.05642,0.08393,0.06221,0.04721,0.05914,0.0522,0.06797,0.1642,0.1014,0.1838,0.06678,0.07694,0.05688,0.05251,0.03116,0.03614,0.03735,0.05253,0.03515,0.07948,0.05969,0.05847,0.03834,0.03212,0.1117,0.1972,0.03454,0.1111,0.08564,0.08834,0.1875,0.06545,0.07664,0.05306,0.03892,0.1319,0.1283,0.1371,0.1125,0.06779,0.04458,0.04202,0.1056,0.09965,0.1402,0.07326,0.1283,0.1139,0.09228,0.09097,0.1339,0.07281,0.09159,0.05794,0.0778,0.05886,0.1206,0.0363,0.2364,0.2363,0.09769,0.06064,0.1038,0.1304,0.05492,0.07698,0.05956,0.0265,0.06373,0.07952,0.08468,0.05696,0.1131,0.1669,0.07175,0.08562,0.1954,0.1497,0.06934,0.1515,0.1076,0.06374,0.1438,0.166,0.04726,0.07548,0.2154,0.1111,0.07079,0.1073,0.1297,0.08575,0.06636,0.07823,0.04831,0.1114,0.1318,0.07542,0.07428,0.1562,0.2087,0.09758,0.05361,0.1147,0.08895,0.04768,0.06232,0.2576,0.05242,0.07899,0.08836,0.04571,0.0746,0.08501,0.08316,0.1304,0.06526,0.05313,0.07804,0.06053,0.1025,0.04605,0.0812,0.06159,0.1571,0.05794,0.05978,0.07722,0.1836,0.1168,0.1147,0.08333,0.03912,0.1013,0.05743,0.03834,0.04522,0.2225,0.1316,0.1489,0.1389,0.07074,0.1133,0.07883,0.05895,0.0633,0.05581,0.1113,0.1109,0.06718,0.04462,0.1232,0.09218,0.1314,0.0889,0.078,0.1175,0.1064,0.09871,0.0645,0.09242,0.0543,0.07426,0.08574,0.05205,0.05073,0.04626,0.111,0.1988,0.05223,0.05855,0.05994,0.1223,0.1089,0.05428,0.2004,0.1483,0.06258,0.06,0.08549,0.03398,0.1069,0.08269,0.1108,0.05319,0.08228,0.1893,0.07838,0.05326,0.1155,0.07957,0.1299,0.1511,0.06698,0.1448,0.09263,0.07112,0.052,0.06217,0.1289,0.04043,0.05275,0.08345,0.1334,0.0763,0.1317,0.1644,0.1364,0.1681,0.1085,0.1275,0.2239,0.2204,0.1152,0.1071,0.06712,0.187,0.09661,0.05016,0.1469,0.08918,0.08597,0.08499,0.1248,0.131,0.1661,0.1117,0.1225,0.2106,0.04413,0.107,0.08419,0.07632,0.1138,0.06307,0.09755,0.09009,0.09713,0.09453,0.07255,0.1313,0.09752,0.1739,0.1154,0.1552,0.04878,0.1199,0.112,0.123,0.07214,0.06877,0.1018,0.06747,0.04994,0.08066,0.0503,0.06602,0.04227,0.08194,0.04234,0.05605,0.05824,0.07658,0.07504,0.04971,0.133,0.1021,0.1126,0.03558,0.2087,0.2236,0.1159,0.1034,0.1023,0.277,0.04362]},{\"axis\":{\"matches\":true},\"label\":\"concavity mean\",\"values\":[0.3001,0.0869,0.1974,0.2414,0.198,0.1578,0.1127,0.09366,0.1859,0.2273,0.03299,0.09954,0.2065,0.09938,0.2128,0.1639,0.07395,0.1722,0.1479,0.06664,0.04568,0.02956,0.2077,0.1097,0.1525,0.2229,0.1425,0.149,0.1683,0.09875,0.2319,0.1218,0.2417,0.1657,0.1354,0.1348,0.1319,0.02562,0.02398,0.1063,0.0311,0.1044,0.2107,0.09847,0.08259,0.1974,0.01588,0.1226,0.06592,0.04751,0.01657,0.01857,0.01972,0.1772,0.05253,0.03036,0.1323,0.1293,0.000692,0.02061,0.01084,0.03,0.2135,0.05988,0.1128,0.1267,0.02172,0.03709,0.313,0.03653,0.108,0.08606,0.1692,0.07789,0.03372,0.09769,0.06877,0.1684,0.3754,0.03889,0.04591,0.1169,0.3339,0.1937,0.04151,0.1335,0.1204,0.1468,0.06015,0.09966,0.03102,0.1122,0.03261,0.03974,0.17,0.1465,0.0249,0.006829,0.04196,0.09388,0.08625,0.0,0.02383,0.06154,0.02995,0.2071,0.0707,0.02643,0.4264,0.05133,0.04334,0.1065,0.3003,0.06476,0.04132,0.03328,0.09263,0.169,0.2133,0.07293,0.03512,0.1457,0.4268,0.08842,0.08092,0.0142,0.05285,0.09271,0.1138,0.2545,0.02855,0.1466,0.1043,0.07135,0.1153,0.04711,0.03592,0.03503,0.1539,0.04635,0.0,0.09447,0.02031,0.04894,0.02251,0.0371,0.1659,0.0905,0.08487,0.02881,0.03136,0.1321,0.4108,0.01982,0.09293,0.03885,0.1855,0.0515,0.01972,0.00309,0.06843,0.1193,0.2508,0.0537,0.1324,0.01947,0.02531,0.08422,0.2159,0.02602,0.03987,0.05858,0.2032,0.02363,0.0,0.0,0.1307,0.1793,0.001595,0.009193,0.2871,0.2487,0.06593,0.06181,0.05375,0.001597,0.08169,0.03809,0.02353,0.03844,0.1981,0.03112,0.0,0.1085,0.1697,0.03873,0.1385,0.1103,0.1114,0.118,0.04187,0.1036,0.3523,0.1558,0.08005,0.0755,0.01756,0.0695,0.08705,0.05892,0.164,0.02669,0.3201,0.1682,0.1115,0.09901,0.06636,0.05774,0.1272,0.1145,0.03888,0.0786,0.01768,0.1147,0.03554,0.05724,0.006643,0.06505,0.05438,0.1695,0.191,0.01633,0.004967,0.1554,0.01652,0.01462,0.195,0.09042,0.1103,0.1417,0.04705,0.01053,0.1548,0.04697,0.2049,0.04831,0.04336,0.1374,0.02379,0.04328,0.2712,0.02638,0.2417,0.1266,0.1379,0.09789,0.1784,0.2448,0.3176,0.1751,0.1519,0.02891,0.09697,0.04209,0.09061,0.1367,0.06387,0.04072,0.039,0.08448,0.00725,0.03265,0.2195,0.01103,0.05699,0.05929,0.001487,0.0802,0.01997,0.04479,0.1921,0.02245,0.1626,0.1948,0.1115,0.00186,0.06574,0.0226,0.09274,0.02399,0.1362,0.0594,0.06155,0.02688,0.01288,0.01063,0.01236,0.02685,0.02475,0.02495,0.2197,0.0683,0.2283,0.02297,0.03344,0.01974,0.001461,0.003681,0.002758,0.004559,0.01583,0.01447,0.04052,0.01367,0.0,0.004473,0.01123,0.113,0.1975,0.01342,0.06726,0.1155,0.038,0.2565,0.01994,0.03193,0.01765,0.001546,0.1478,0.1799,0.1204,0.07107,0.005006,0.0009737,0.007756,0.1508,0.03738,0.106,0.02511,0.2308,0.08007,0.08422,0.05397,0.1863,0.04006,0.03581,0.00751,0.04608,0.02587,0.01171,0.008306,0.2914,0.3368,0.1235,0.04505,0.103,0.09603,0.01502,0.04721,0.0271,0.001194,0.03344,0.02688,0.05862,0.02181,0.09799,0.1641,0.04392,0.1168,0.2448,0.1811,0.03393,0.1932,0.1527,0.02556,0.06651,0.228,0.01271,0.04249,0.1689,0.079,0.03546,0.07943,0.05892,0.05077,0.0839,0.06839,0.02045,0.1007,0.1856,0.01923,0.0,0.1891,0.281,0.04783,0.02681,0.0858,0.0739,0.02712,0.02853,0.3189,0.02606,0.04057,0.03296,0.02109,0.04944,0.055,0.06126,0.1201,0.03211,0.02783,0.03046,0.03735,0.06859,0.04686,0.02555,0.02047,0.1522,0.0236,0.008955,0.05485,0.145,0.07097,0.09657,0.008934,0.00247,0.06335,0.03614,0.01369,0.01402,0.2733,0.07741,0.2133,0.1594,0.03346,0.1126,0.01797,0.03534,0.01342,0.02087,0.09457,0.1204,0.01055,0.01993,0.109,0.05441,0.1698,0.04069,0.08817,0.1572,0.08777,0.1655,0.04055,0.06895,0.02966,0.02819,0.0716,0.02772,0.01206,0.01541,0.1007,0.3635,0.03476,0.03367,0.04859,0.101,0.1085,0.01479,0.2136,0.102,0.02948,0.02367,0.05539,0.0,0.05115,0.05835,0.05063,0.02224,0.05308,0.2236,0.02916,0.02995,0.05786,0.04548,0.1191,0.1544,0.05192,0.2256,0.04279,0.03649,0.01714,0.04445,0.117,0.007173,0.018,0.06824,0.08017,0.03609,0.1491,0.2188,0.07721,0.1357,0.05928,0.1676,0.0973,0.1188,0.08175,0.04063,0.05526,0.203,0.06726,0.03416,0.1445,0.08222,0.07486,0.04302,0.1569,0.1411,0.04825,0.0388,0.03332,0.231,0.005067,0.05385,0.0233,0.02565,0.04201,0.02958,0.101,0.03781,0.05282,0.042,0.01752,0.1523,0.05263,0.2085,0.1463,0.04515,0.0,0.09252,0.06737,0.1009,0.04105,0.02987,0.03688,0.02974,0.01012,0.04358,0.02337,0.01548,0.0,0.04824,0.01997,0.03996,0.06195,0.05999,0.005025,0.0,0.1029,0.1112,0.04462,0.0,0.255,0.3174,0.2439,0.144,0.09251,0.3514,0.0]},{\"axis\":{\"matches\":true},\"label\":\"concave points mean\",\"values\":[0.1471,0.07017,0.1279,0.1052,0.1043,0.08089,0.074,0.05985,0.09353,0.08543,0.03323,0.06606,0.1118,0.05364,0.08025,0.07364,0.05259,0.1028,0.09498,0.04781,0.0311,0.02076,0.09756,0.08632,0.0917,0.1401,0.08783,0.07731,0.08751,0.07953,0.1244,0.05182,0.1203,0.07593,0.07752,0.06018,0.05598,0.02923,0.02899,0.05439,0.02031,0.05669,0.09961,0.06158,0.05252,0.1009,0.005917,0.0734,0.02749,0.03384,0.01115,0.01723,0.01349,0.106,0.03334,0.02278,0.08994,0.08123,0.004167,0.007799,0.0129,0.009259,0.08653,0.0218,0.06873,0.09029,0.01504,0.0223,0.04375,0.02864,0.07951,0.02872,0.07944,0.05069,0.02272,0.06638,0.06556,0.108,0.1604,0.02315,0.02233,0.06987,0.1845,0.1469,0.01863,0.08795,0.04938,0.08271,0.03745,0.07064,0.02957,0.07483,0.02648,0.0278,0.08815,0.08683,0.02941,0.007937,0.0335,0.05839,0.04489,0.0,0.0177,0.03029,0.01201,0.09601,0.03485,0.01921,0.1823,0.01899,0.01778,0.06021,0.07798,0.03068,0.01924,0.02008,0.02308,0.08923,0.09479,0.05596,0.02623,0.08665,0.2012,0.05778,0.028,0.01141,0.03085,0.05627,0.08534,0.1149,0.02882,0.08087,0.05613,0.05933,0.06847,0.02704,0.026,0.02875,0.08624,0.04796,0.0,0.05943,0.01861,0.03088,0.007875,0.03003,0.07415,0.03562,0.05532,0.01329,0.02645,0.02168,0.07857,0.01786,0.03483,0.02331,0.1054,0.02771,0.01963,0.006588,0.03738,0.09667,0.1286,0.02822,0.09702,0.01939,0.01698,0.06576,0.1043,0.03781,0.037,0.03438,0.1097,0.02583,0.0,0.0,0.03716,0.08866,0.001852,0.0133,0.1878,0.1496,0.05189,0.02361,0.03263,0.002404,0.05814,0.03239,0.01553,0.01654,0.06618,0.02864,0.0,0.04562,0.08878,0.02377,0.06526,0.05778,0.06772,0.0598,0.04107,0.07488,0.162,0.09176,0.03821,0.04079,0.01952,0.0539,0.05102,0.03157,0.09561,0.01393,0.1595,0.06597,0.06462,0.05602,0.03142,0.01071,0.08691,0.06637,0.02563,0.04451,0.01915,0.06462,0.02456,0.04603,0.01216,0.0378,0.02036,0.06861,0.109,0.003125,0.006434,0.0834,0.01667,0.01896,0.1237,0.06022,0.04408,0.08811,0.03731,0.01108,0.02854,0.02344,0.08886,0.0307,0.01105,0.0398,0.01615,0.02929,0.131,0.02069,0.0974,0.08353,0.08591,0.05246,0.1144,0.1242,0.1377,0.08399,0.09333,0.02837,0.07507,0.02847,0.06527,0.08646,0.02642,0.02142,0.01615,0.02867,0.00625,0.02755,0.1088,0.01407,0.04744,0.07404,0.003333,0.05843,0.01238,0.03711,0.09664,0.02763,0.09464,0.09052,0.0339,0.002924,0.03791,0.01171,0.05588,0.02173,0.06602,0.04819,0.0337,0.0228,0.01924,0.01917,0.01369,0.03515,0.01374,0.01875,0.1062,0.03099,0.128,0.0178,0.01502,0.01313,0.003261,0.003472,0.004419,0.008829,0.01148,0.01877,0.02548,0.008907,0.0,0.006423,0.005051,0.0795,0.04908,0.01699,0.03965,0.07726,0.034,0.1504,0.01692,0.02107,0.02733,0.005592,0.08488,0.07981,0.07041,0.0295,0.007583,0.002941,0.008535,0.09934,0.02098,0.0609,0.01775,0.141,0.04223,0.02292,0.03341,0.1103,0.0325,0.02037,0.008488,0.03528,0.02322,0.01787,0.01162,0.1242,0.1913,0.06553,0.01471,0.04391,0.05603,0.02088,0.02381,0.01406,0.005449,0.02424,0.01781,0.04835,0.01473,0.07785,0.1265,0.02027,0.08465,0.1501,0.08773,0.02657,0.1255,0.08941,0.02031,0.05397,0.05941,0.01117,0.02471,0.06367,0.0555,0.02074,0.02978,0.0288,0.02864,0.05271,0.02534,0.008507,0.02757,0.1021,0.01968,0.0,0.09113,0.1562,0.03326,0.03251,0.05381,0.04083,0.007246,0.01638,0.1198,0.01796,0.01883,0.0239,0.02054,0.02932,0.04528,0.01867,0.08824,0.02653,0.021,0.0248,0.005128,0.03876,0.02739,0.02179,0.01257,0.08481,0.02402,0.01076,0.01428,0.063,0.04497,0.04812,0.01967,0.005159,0.02218,0.01404,0.0137,0.01835,0.09711,0.02799,0.1259,0.08744,0.02877,0.06463,0.0209,0.02944,0.02293,0.02652,0.03613,0.05736,0.009937,0.01111,0.06254,0.04274,0.08293,0.0226,0.02925,0.1155,0.02386,0.09063,0.01945,0.06495,0.02272,0.03264,0.02017,0.02068,0.01762,0.01043,0.06431,0.1689,0.01737,0.01777,0.0287,0.02833,0.0351,0.005769,0.1002,0.05564,0.01514,0.02377,0.03221,0.0,0.01571,0.03078,0.03058,0.01339,0.01969,0.09194,0.01527,0.0207,0.05266,0.0316,0.06211,0.04846,0.02791,0.1194,0.03132,0.02307,0.01261,0.04178,0.07762,0.01149,0.01256,0.04951,0.05074,0.02369,0.09183,0.1121,0.06142,0.06759,0.03279,0.1003,0.05252,0.07038,0.02166,0.04268,0.04563,0.0852,0.02639,0.02541,0.08172,0.04349,0.04335,0.02594,0.09451,0.09431,0.05303,0.02995,0.02421,0.1471,0.005664,0.03783,0.02416,0.0151,0.03152,0.02647,0.06615,0.02798,0.0444,0.02157,0.0188,0.1015,0.02788,0.1322,0.06139,0.04531,0.0,0.01364,0.02594,0.0389,0.03027,0.03275,0.02369,0.02443,0.005495,0.02438,0.009615,0.00816,0.0,0.02257,0.01499,0.01282,0.02343,0.02738,0.01116,0.0,0.03736,0.04105,0.04304,0.0,0.09429,0.1474,0.1389,0.09791,0.05302,0.152,0.0]},{\"axis\":{\"matches\":true},\"label\":\"symmetry mean\",\"values\":[0.2419,0.1812,0.2069,0.2597,0.1809,0.2087,0.1794,0.2196,0.235,0.203,0.1528,0.1842,0.2397,0.1847,0.2069,0.2303,0.1586,0.2164,0.1582,0.1885,0.1967,0.1815,0.2521,0.1769,0.1995,0.304,0.2252,0.1697,0.1926,0.1739,0.2183,0.2301,0.2248,0.1853,0.1998,0.1896,0.1885,0.1467,0.1565,0.172,0.1784,0.1895,0.231,0.1974,0.1746,0.1907,0.1769,0.2128,0.1675,0.1809,0.1495,0.1353,0.1868,0.2092,0.1616,0.192,0.1917,0.2027,0.1819,0.1683,0.2743,0.1828,0.1949,0.2341,0.1905,0.1953,0.1717,0.1516,0.2111,0.159,0.1582,0.1902,0.1927,0.1662,0.172,0.1798,0.2403,0.2152,0.2906,0.1718,0.1842,0.1942,0.1829,0.1634,0.2079,0.2132,0.2075,0.1953,0.193,0.2116,0.1685,0.1717,0.1386,0.1638,0.1855,0.2095,0.19,0.135,0.162,0.1879,0.1609,0.193,0.1739,0.1945,0.2217,0.1925,0.1801,0.1602,0.2556,0.1487,0.1584,0.1735,0.1704,0.1922,0.1649,0.1688,0.1305,0.2157,0.2096,0.2129,0.1667,0.1966,0.2655,0.1856,0.1422,0.1614,0.1761,0.1946,0.2001,0.2202,0.188,0.1931,0.216,0.1816,0.1692,0.1585,0.1339,0.1734,0.1957,0.1771,0.1903,0.1861,0.1645,0.1778,0.1399,0.1995,0.2678,0.1744,0.1724,0.1473,0.254,0.2222,0.2548,0.183,0.1822,0.197,0.1971,0.1844,0.159,0.1442,0.1993,0.1741,0.2027,0.1551,0.1801,0.1515,0.1381,0.1893,0.1538,0.178,0.1959,0.1598,0.1966,0.1566,0.1928,0.1722,0.1669,0.1794,0.1395,0.1466,0.18,0.2395,0.1618,0.1167,0.1727,0.1703,0.1621,0.1516,0.1718,0.1667,0.2384,0.1694,0.1653,0.1943,0.1737,0.1829,0.1834,0.177,0.1767,0.195,0.1979,0.1506,0.22,0.2251,0.1925,0.1594,0.1934,0.2026,0.185,0.1359,0.1765,0.1533,0.1648,0.1308,0.2235,0.2106,0.1967,0.1964,0.2094,0.1428,0.136,0.1962,0.191,0.1935,0.1496,0.2075,0.1788,0.1881,0.1514,0.2123,0.2131,0.1869,0.1845,0.1448,0.1551,0.1517,0.1909,0.1467,0.1342,0.1809,0.1717,0.1546,0.2054,0.1773,0.1978,0.1737,0.1487,0.1596,0.1897,0.1883,0.2205,0.1834,0.1733,0.1813,0.1776,0.1908,0.1893,0.2398,0.2495,0.2091,0.1814,0.1564,0.2108,0.1547,0.1867,0.1769,0.1922,0.1635,0.201,0.1668,0.1508,0.1769,0.1721,0.2081,0.1538,0.2015,0.1954,0.155,0.1573,0.211,0.1902,0.2101,0.1893,0.1876,0.1432,0.1697,0.1588,0.1337,0.2595,0.2013,0.1714,0.1879,0.173,0.1875,0.1638,0.1592,0.1449,0.1619,0.1635,0.1695,0.1792,0.1781,0.2249,0.1482,0.1411,0.1935,0.1632,0.1788,0.1365,0.1453,0.1936,0.1632,0.1601,0.1833,0.2163,0.1215,0.1673,0.1807,0.233,0.1472,0.1743,0.1928,0.1543,0.2569,0.1638,0.1707,0.1373,0.1382,0.1948,0.1869,0.1782,0.1761,0.194,0.1773,0.1539,0.1727,0.1652,0.1953,0.189,0.1797,0.1912,0.2036,0.1776,0.2082,0.2009,0.1633,0.1555,0.1521,0.1634,0.2459,0.1671,0.2375,0.1956,0.1647,0.169,0.1533,0.2035,0.1424,0.193,0.1506,0.1528,0.1815,0.1759,0.1495,0.165,0.1618,0.1875,0.1695,0.1717,0.1824,0.2175,0.1721,0.1973,0.1571,0.1872,0.199,0.2188,0.1421,0.1792,0.2196,0.2018,0.2003,0.1203,0.1779,0.1617,0.1627,0.1646,0.1607,0.181,0.1989,0.18,0.1985,0.1929,0.2162,0.1937,0.1641,0.1806,0.1574,0.1535,0.1847,0.2113,0.1601,0.1874,0.1735,0.1571,0.1486,0.1735,0.158,0.1992,0.1966,0.1601,0.1714,0.1274,0.1944,0.1852,0.2019,0.2025,0.2085,0.1583,0.1615,0.2031,0.2086,0.1886,0.1848,0.2538,0.163,0.1925,0.2016,0.1511,0.1459,0.2041,0.1811,0.1724,0.1943,0.1573,0.1669,0.1861,0.1714,0.1555,0.1589,0.1489,0.1467,0.1405,0.2372,0.172,0.182,0.1713,0.1893,0.1473,0.1554,0.1349,0.1663,0.1615,0.165,0.1799,0.1375,0.1799,0.1619,0.1667,0.1621,0.1793,0.2061,0.1707,0.1516,0.1454,0.1601,0.1562,0.168,0.1696,0.1957,0.2238,0.1854,0.1687,0.1701,0.1861,0.1705,0.1506,0.1813,0.1779,0.2151,0.1464,0.1579,0.1779,0.1732,0.1784,0.2082,0.1409,0.1823,0.1853,0.1846,0.1544,0.122,0.2116,0.1613,0.1713,0.1487,0.1641,0.1526,0.1832,0.1848,0.1668,0.2275,0.1943,0.1505,0.2378,0.2057,0.2124,0.1954,0.1711,0.1807,0.1499,0.1659,0.2116,0.1739,0.1561,0.1927,0.186,0.1802,0.1709,0.212,0.2197,0.1991,0.1637,0.1714,0.1387,0.1678,0.1723,0.1689,0.1976,0.1657,0.1598,0.1859,0.1631,0.2166,0.1619,0.2127,0.1926,0.2131,0.187,0.2037,0.1818,0.1872,0.184,0.1628,0.162,0.1664,0.1885,0.1669,0.158,0.1976,0.1661,0.203,0.1539,0.1692,0.1566,0.1593,0.1791,0.1742,0.1454,0.1388,0.1537,0.106,0.2128,0.2149,0.1726,0.1752,0.159,0.2397,0.1587]},{\"axis\":{\"matches\":true},\"label\":\"fractal dimension mean\",\"values\":[0.07871,0.05667,0.05999,0.09744,0.05883,0.07613,0.05742,0.07451,0.07389,0.08243,0.05697,0.06082,0.078,0.05338,0.07682,0.07077,0.05922,0.07356,0.05395,0.05766,0.06811,0.06905,0.07032,0.05278,0.0633,0.07413,0.06924,0.05699,0.0654,0.06149,0.06197,0.07799,0.06382,0.06261,0.06515,0.05656,0.06125,0.05863,0.05504,0.06419,0.05587,0.0687,0.06343,0.06782,0.06177,0.06049,0.06503,0.06777,0.06043,0.05718,0.05888,0.05953,0.0611,0.0631,0.05684,0.05907,0.05961,0.06758,0.05501,0.07187,0.0696,0.06757,0.07292,0.06963,0.0659,0.06654,0.06899,0.05667,0.08046,0.05653,0.05461,0.0898,0.06487,0.06566,0.05914,0.05391,0.06641,0.06673,0.08142,0.05997,0.07005,0.06902,0.06782,0.07224,0.05968,0.06022,0.05636,0.05629,0.06404,0.06346,0.05866,0.06097,0.05318,0.0571,0.06284,0.05649,0.06635,0.0689,0.06582,0.0639,0.05871,0.07818,0.05677,0.06322,0.06481,0.07692,0.0652,0.06066,0.07039,0.06529,0.07065,0.0707,0.07769,0.07782,0.07633,0.06194,0.07163,0.06768,0.07331,0.05025,0.06113,0.06213,0.06877,0.06402,0.05823,0.0589,0.0613,0.05044,0.06467,0.06113,0.06471,0.05796,0.05891,0.05723,0.05727,0.06065,0.05945,0.05865,0.06216,0.06072,0.06422,0.06248,0.06562,0.06235,0.05688,0.07839,0.07371,0.06493,0.06081,0.0558,0.06087,0.08261,0.09296,0.06105,0.06207,0.06228,0.06166,0.05268,0.05907,0.05743,0.06453,0.05176,0.06082,0.06761,0.05553,0.05266,0.064,0.05534,0.06365,0.0565,0.05955,0.05671,0.07069,0.06669,0.05975,0.06724,0.08116,0.06323,0.05234,0.06133,0.0577,0.07398,0.05549,0.06217,0.06317,0.06048,0.05425,0.06095,0.0578,0.05474,0.07542,0.06287,0.06447,0.06937,0.06672,0.05667,0.06877,0.0534,0.05529,0.06466,0.06013,0.05491,0.06229,0.07421,0.06373,0.05986,0.06285,0.05223,0.0731,0.05526,0.05024,0.06057,0.05525,0.05866,0.06433,0.06916,0.06314,0.06315,0.05581,0.05313,0.06344,0.06303,0.06908,0.06303,0.05674,0.05448,0.0645,0.05907,0.06019,0.07254,0.06325,0.05628,0.05828,0.05592,0.06403,0.05835,0.06309,0.05177,0.06129,0.05966,0.0566,0.05754,0.07669,0.05429,0.06,0.0644,0.05635,0.06409,0.06329,0.06168,0.05898,0.05934,0.06697,0.05613,0.05647,0.0613,0.06232,0.07596,0.08104,0.0665,0.05572,0.05307,0.05464,0.05443,0.0558,0.05674,0.06491,0.05859,0.05769,0.06862,0.05376,0.0627,0.06194,0.06312,0.0551,0.05875,0.05821,0.04996,0.0552,0.05853,0.0622,0.06113,0.05892,0.06684,0.05935,0.05855,0.06766,0.05581,0.06233,0.05955,0.07192,0.05852,0.0647,0.05715,0.061,0.05912,0.06031,0.06287,0.05586,0.06556,0.06552,0.06249,0.07469,0.066,0.06243,0.05878,0.05894,0.06833,0.05335,0.05518,0.06128,0.05255,0.0614,0.061,0.07359,0.05673,0.05649,0.05664,0.08743,0.05561,0.07279,0.05096,0.06476,0.0667,0.06129,0.05984,0.057,0.0607,0.06277,0.06532,0.05976,0.0654,0.06028,0.06081,0.05945,0.06071,0.07238,0.06083,0.06331,0.05506,0.06412,0.07125,0.06907,0.05715,0.06506,0.07005,0.06048,0.05912,0.06372,0.06581,0.05731,0.07603,0.06121,0.06464,0.06083,0.06184,0.06501,0.05883,0.06621,0.06959,0.05185,0.05696,0.06183,0.05593,0.05701,0.05557,0.0602,0.05916,0.05054,0.0614,0.06218,0.05544,0.06183,0.05478,0.05669,0.06572,0.0845,0.05763,0.05897,0.0795,0.06914,0.06246,0.06659,0.06588,0.05594,0.05416,0.06154,0.05474,0.07252,0.05884,0.06569,0.07098,0.06744,0.06606,0.06161,0.05764,0.06079,0.0575,0.06214,0.06019,0.07115,0.05541,0.05899,0.062,0.05708,0.06615,0.05875,0.06114,0.06069,0.05597,0.05913,0.0634,0.06724,0.05913,0.05294,0.0629,0.06601,0.06864,0.06275,0.06144,0.06267,0.07406,0.0632,0.06181,0.07029,0.06439,0.06915,0.05977,0.06148,0.05544,0.06898,0.07102,0.06053,0.06132,0.05703,0.06544,0.06347,0.05898,0.05673,0.05586,0.0664,0.05407,0.05848,0.05768,0.0578,0.0685,0.05916,0.05886,0.05746,0.05661,0.06612,0.05391,0.06104,0.06121,0.05826,0.06016,0.06166,0.05584,0.05449,0.05952,0.06281,0.05623,0.05433,0.05859,0.05549,0.06432,0.0602,0.06412,0.07369,0.07255,0.06413,0.05698,0.05669,0.0596,0.06837,0.05913,0.06009,0.05536,0.06574,0.06578,0.06284,0.05594,0.06639,0.06088,0.06259,0.07325,0.05355,0.06115,0.06401,0.05325,0.05976,0.05243,0.06077,0.06013,0.05888,0.05748,0.06854,0.06046,0.06697,0.06222,0.06869,0.07237,0.06612,0.05484,0.09502,0.09575,0.06894,0.07976,0.05657,0.07083,0.06758,0.05348,0.07325,0.0564,0.05915,0.06211,0.05941,0.06188,0.07253,0.06623,0.07696,0.06739,0.06343,0.06843,0.06891,0.07126,0.06317,0.05808,0.06457,0.06608,0.06677,0.06461,0.06155,0.05419,0.06408,0.06251,0.05982,0.07405,0.07285,0.07751,0.06782,0.06341,0.0568,0.05781,0.06688,0.05801,0.06201,0.06714,0.06235,0.06328,0.05948,0.06552,0.05637,0.06576,0.05708,0.06127,0.06331,0.06059,0.06147,0.0657,0.06171,0.05502,0.07152,0.06879,0.05623,0.05533,0.05648,0.07016,0.05884]},{\"axis\":{\"matches\":true},\"label\":\"radius se\",\"values\":[1.095,0.5435,0.7456,0.4956,0.7572,0.3345,0.4467,0.5835,0.3063,0.2976,0.3795,0.5058,0.9555,0.4033,0.2121,0.37,0.4727,0.5692,0.7582,0.2699,0.1852,0.2773,0.4388,0.6917,0.8068,1.046,0.2545,0.8529,0.439,0.6003,0.8307,0.4825,0.6009,0.5558,0.334,0.4615,0.286,0.1839,1.214,0.213,0.2385,0.2366,0.9811,0.3704,0.1938,0.6289,0.1563,0.2871,0.2636,0.2338,0.4062,0.1872,0.2273,0.8337,0.3105,0.3249,0.7275,0.4226,0.404,0.1559,0.5158,0.3582,0.7036,0.4098,0.4255,0.3577,0.2351,0.2727,0.3274,0.2368,0.7888,0.5262,0.5907,0.2787,0.2505,0.7474,0.4101,0.9806,0.9317,0.2655,0.3251,0.286,0.8973,0.519,0.2271,0.6997,0.4204,0.5495,0.2978,0.5115,0.3721,0.3129,0.4057,0.295,0.4768,0.7576,0.3661,0.335,0.2315,0.2895,0.4565,0.2241,0.1924,0.1803,0.355,0.3908,0.306,0.1199,1.215,0.2344,0.403,0.3424,0.3628,0.3336,0.1665,0.3118,0.3132,0.4266,0.552,0.5506,0.1408,0.7128,1.509,0.2929,0.1639,0.2185,0.231,0.6896,0.4309,0.4953,0.2005,0.4743,0.4332,0.3117,0.5959,0.2367,0.4489,0.1759,1.296,0.3384,0.1988,0.7049,0.2843,0.2143,0.2525,0.3962,0.3197,0.422,0.2406,0.25,0.4202,0.1935,0.8245,0.2251,0.271,0.22,0.8113,0.4789,0.1822,0.2818,0.5018,1.0,0.7364,0.2949,0.6642,0.184,0.1728,0.599,1.088,0.2713,0.236,0.4697,0.4209,0.2073,0.3309,0.2204,0.4311,0.3037,0.1731,0.2889,0.8361,0.6298,0.3699,0.3344,0.2054,0.4245,0.2577,0.2451,0.1859,0.2382,0.286,0.7311,0.3539,0.4053,0.2796,0.1942,0.6191,0.6362,0.4357,0.2092,0.3534,0.3971,0.5539,0.5648,0.3961,0.2711,0.2137,0.5858,0.1931,0.2134,0.8601,0.2222,2.873,0.5296,0.4207,0.2563,0.2963,0.3567,0.9553,0.7392,0.2102,0.2569,0.2467,0.3473,0.2927,0.522,0.1913,0.2318,0.2449,0.3061,0.2959,0.121,0.2239,0.524,0.2152,0.2589,1.058,0.6874,0.3354,0.5366,0.3242,0.1153,0.2428,0.4347,0.5243,0.3719,0.163,0.2025,0.2497,0.2562,1.004,0.3927,0.7661,0.3093,0.5959,0.425,0.8426,0.6592,1.292,0.2419,0.3977,0.4007,0.8348,0.2298,0.4203,1.172,0.4505,0.338,0.2345,0.3198,0.1302,0.1904,1.167,0.2684,0.4212,0.6412,0.2375,0.3283,0.258,0.2479,0.6361,0.5619,0.4709,0.2873,0.2913,0.2719,0.2742,0.1532,0.4866,0.2656,0.8811,0.2877,0.2094,0.207,0.1807,0.2191,0.1753,0.645,0.23,0.2868,1.111,0.3642,1.072,0.1485,0.3278,0.2512,0.1903,0.1746,0.2244,0.3975,0.1601,0.316,0.3265,0.1312,0.3368,0.1716,0.2113,0.4041,0.4653,0.3778,0.3677,0.5925,0.2212,0.5702,0.2575,0.21,0.2571,0.2335,0.4375,0.5706,0.3371,0.2684,0.2976,0.2144,0.184,0.8161,0.1814,0.6422,0.2619,1.009,0.3491,0.1844,0.1601,0.6226,0.3446,0.338,0.243,0.3428,0.1707,0.361,0.3534,0.5204,0.9948,0.6534,0.4222,0.3602,0.3106,0.2543,0.5381,0.5079,0.3511,0.2621,0.2213,0.3389,0.1584,0.5781,0.9761,0.2527,1.207,1.008,0.4312,0.1783,0.3414,0.6137,0.1705,0.1745,0.1115,0.1689,0.1402,0.2114,0.2562,0.1642,0.1194,0.2608,0.1833,0.4157,0.2666,0.2541,0.3305,0.6107,0.1911,0.5169,0.647,0.6242,0.2841,0.1504,0.2136,0.3639,0.1855,0.3438,0.403,0.2522,0.2357,0.1458,0.3833,0.3796,0.2387,0.4993,0.4537,0.3342,0.1916,0.1967,0.1186,0.3186,0.4681,0.2747,0.4302,1.37,0.2253,0.2865,0.2864,0.5462,0.2456,0.2244,0.6965,0.1851,0.3276,0.3077,0.1415,0.2954,0.253,0.1767,0.4331,0.8191,0.3028,0.2208,0.3665,0.3892,0.3419,0.2142,0.2574,0.51,0.3563,0.1818,0.2986,0.2623,0.3897,0.2204,0.2535,0.6643,0.256,0.4674,0.1912,0.306,0.1692,0.3408,0.3135,0.2084,0.2621,0.1781,0.9291,2.547,0.2315,0.1816,0.2023,0.281,0.3152,0.3416,0.9289,0.4101,0.3776,0.6061,0.2446,0.4455,0.1482,0.1499,0.3478,0.1555,0.2034,0.3147,0.2194,0.3316,0.1588,0.2431,0.163,0.3921,0.2204,0.5659,0.3713,0.2473,0.2239,0.4834,0.7548,0.3276,0.3237,0.2323,0.2324,0.1532,0.7923,0.5904,0.372,0.4751,0.2577,1.291,0.4076,0.2744,0.1811,0.1779,0.2067,0.3331,0.1924,0.2182,0.3906,0.4165,0.386,0.243,0.5449,0.5079,0.4426,0.3834,0.3538,0.9915,0.1344,0.3191,0.2498,0.1267,0.1998,0.1166,0.5461,0.2513,0.4384,0.2067,0.2047,0.8336,0.1507,0.6986,0.2027,0.2957,0.3777,0.2196,0.2784,0.2542,0.3031,0.2351,0.272,0.346,0.2104,0.1144,0.2957,0.5196,0.3163,0.28,0.2409,0.3013,0.2116,0.2199,0.2441,0.5375,0.2254,0.2388,0.3645,0.3141,0.2602,0.9622,1.176,0.7655,0.4564,0.726,0.3857]},{\"axis\":{\"matches\":true},\"label\":\"texture se\",\"values\":[0.9053,0.7339,0.7869,1.156,0.7813,0.8902,0.7732,1.377,1.002,1.599,1.187,0.9849,3.568,1.078,1.169,1.033,1.24,1.073,1.017,0.7886,0.7477,0.9768,0.7096,1.127,0.9017,0.976,0.9832,1.849,1.012,0.8225,1.466,1.03,1.398,0.6062,0.6857,0.9197,1.019,2.342,2.188,0.5914,0.8265,1.428,1.666,0.8249,0.6123,0.6633,0.9567,0.8937,0.7294,1.353,1.21,0.9234,0.6329,1.593,0.8339,0.9591,1.193,1.15,1.214,0.5796,1.441,2.067,1.268,2.265,1.178,1.281,2.011,0.9429,1.194,0.8732,0.7975,0.8522,1.041,0.6205,1.025,1.016,1.014,0.5505,1.885,1.095,2.174,1.016,1.474,2.91,1.255,1.475,2.22,0.6636,1.502,0.7372,1.111,0.8413,1.153,1.373,0.9644,1.509,1.511,2.043,0.5391,1.851,1.29,1.508,1.571,1.222,1.534,0.9238,1.657,0.8944,1.545,0.9861,1.424,1.803,1.49,1.86,0.5864,0.9227,0.9789,0.9489,1.072,1.214,0.4607,1.581,3.12,0.857,1.14,0.8561,1.005,1.342,1.068,1.199,0.8163,0.7859,1.265,0.8155,1.202,1.38,2.508,0.9938,1.452,1.343,0.496,1.332,1.908,0.7712,1.239,0.6538,1.426,1.909,0.7394,0.7574,1.322,1.962,2.664,0.7815,0.7927,0.9823,1.4,2.06,0.7285,0.7614,1.693,0.6336,1.048,1.656,0.8561,1.065,0.4064,1.391,1.41,1.217,0.6656,1.147,0.6583,1.805,1.925,0.7873,2.261,1.284,1.142,0.9899,1.481,0.7629,1.15,1.108,0.4956,1.268,0.4757,0.7655,1.926,0.8355,2.11,1.748,4.885,1.809,0.9622,0.9086,2.112,1.305,1.073,0.6509,1.326,0.8282,1.56,1.93,1.044,0.3621,1.342,0.8554,0.9223,0.3628,1.48,0.8652,1.476,1.667,1.845,1.194,1.563,1.922,1.186,1.321,0.4336,0.4981,1.217,0.9209,0.8907,0.8121,0.9027,0.4966,1.066,1.069,0.679,0.8927,1.647,1.189,0.8301,1.503,0.9635,1.041,2.324,0.8561,0.6612,0.6745,1.642,1.057,1.802,2.612,1.601,0.4402,1.493,1.038,0.8208,0.8429,0.78,0.8568,0.6342,0.8098,1.199,1.059,2.454,1.278,1.033,1.317,1.633,0.9988,0.7383,1.617,1.197,1.916,1.219,1.489,0.7198,0.5293,1.352,1.409,1.433,2.293,1.28,0.828,1.166,0.9195,1.001,1.268,0.9951,0.9173,1.389,1.35,1.39,0.469,1.905,1.974,1.77,0.948,0.7636,1.238,0.6931,0.6946,1.027,2.105,0.669,1.143,1.161,1.04,1.743,1.563,1.059,1.786,0.5735,1.305,0.6864,0.8285,1.43,0.9115,0.6594,0.3602,2.777,0.7151,0.5996,0.5503,1.911,2.2,1.471,0.6863,1.042,1.023,0.8073,0.9505,1.081,0.9097,1.232,1.457,0.7476,0.5664,1.966,0.9961,1.532,2.129,0.6412,1.53,2.015,0.9245,0.7706,0.9429,0.8225,2.284,0.7395,2.509,1.152,0.3981,0.7615,1.05,0.6724,1.324,0.8509,1.506,0.8092,1.478,1.51,1.363,1.2,1.247,0.9527,1.539,1.285,1.439,0.6124,0.9168,1.892,0.7786,1.051,0.6999,1.022,0.4125,1.309,0.6575,0.5066,0.489,1.231,1.15,0.5417,1.027,0.9858,1.031,1.434,0.873,0.5308,1.627,0.8309,0.6218,1.067,2.836,0.5477,2.079,1.331,0.9209,1.652,1.685,1.332,1.265,0.6881,1.14,0.7747,1.045,1.299,0.905,0.9078,1.743,0.6372,1.798,0.8733,1.781,1.555,1.387,1.182,1.336,1.627,1.203,2.878,1.213,0.6457,1.678,1.44,1.511,0.7339,0.895,1.747,1.341,1.127,1.621,0.9671,0.8836,0.8749,1.46,1.001,1.931,0.6683,0.9533,0.7693,1.046,1.678,0.6549,1.376,1.679,0.4833,2.542,0.5906,1.204,1.077,0.6221,1.354,1.361,1.554,1.375,1.705,0.7213,0.6674,1.924,2.426,1.35,1.232,1.687,1.152,1.306,0.9112,0.7656,0.685,0.8135,0.7884,1.312,1.465,1.74,1.35,2.643,0.4334,3.647,0.538,0.4875,1.018,0.5762,1.166,0.9857,1.19,0.9264,0.5733,0.9462,0.3871,1.207,1.006,1.408,1.154,0.5679,1.139,1.046,1.288,1.486,1.473,1.636,0.6332,0.781,1.045,1.216,0.8423,1.528,1.095,0.7452,1.093,1.39,0.7959,1.03,0.4706,1.961,0.6417,0.6232,0.9306,0.6237,1.198,1.01,0.9225,0.8737,1.169,1.003,1.13,0.9004,1.083,1.249,1.216,0.6793,0.6068,0.4957,2.635,0.504,1.907,0.8745,0.4801,1.736,1.583,0.9901,1.851,1.978,1.462,1.479,1.768,1.079,1.385,1.597,1.047,1.336,0.967,1.023,1.363,1.918,1.304,1.467,1.367,1.879,1.36,2.239,2.09,2.927,1.108,2.904,1.492,3.896,1.205,1.026,1.256,2.463,1.075,1.595,1.428]},{\"axis\":{\"matches\":true},\"label\":\"perimeter se\",\"values\":[8.589,3.398,4.585,3.445,5.438,2.217,3.18,3.856,2.406,2.039,2.466,3.564,11.07,2.903,2.061,2.879,3.195,3.854,5.865,2.058,1.383,1.909,3.384,4.303,5.455,7.276,2.11,5.632,3.498,4.655,5.574,3.475,3.999,3.528,2.183,3.008,2.657,1.17,8.077,1.545,1.572,1.822,8.83,2.427,1.334,4.293,1.094,1.897,1.848,1.735,2.635,1.449,1.52,4.877,2.097,2.183,4.837,2.735,2.595,1.046,3.312,2.493,5.373,2.608,2.927,2.45,1.66,1.831,1.885,1.471,5.486,3.168,3.705,1.957,1.74,5.029,2.652,6.311,8.649,1.778,2.077,1.535,7.382,5.801,1.441,4.782,3.301,3.055,2.203,3.814,2.279,2.075,2.701,2.099,3.706,4.554,2.41,2.132,1.475,2.376,2.861,1.553,1.183,1.528,2.302,2.41,2.155,0.8484,10.05,1.597,2.747,2.711,3.399,2.041,1.354,2.0,3.28,2.989,3.598,3.357,1.103,4.895,9.807,1.928,1.223,1.495,1.752,5.216,2.796,2.765,1.973,3.094,2.844,1.972,3.766,1.457,3.258,1.143,8.419,1.851,1.218,4.533,1.937,1.689,1.806,3.021,2.281,3.271,2.12,1.573,2.873,1.243,4.073,1.429,1.819,1.484,5.54,3.479,1.171,1.808,3.926,6.971,4.792,1.955,4.603,1.286,1.126,4.129,7.337,1.893,1.67,3.142,2.805,1.377,2.155,1.435,3.132,2.482,1.101,1.778,5.82,4.414,2.406,1.902,1.344,2.68,1.817,1.742,1.011,1.687,2.112,5.118,2.23,2.642,3.591,1.493,4.906,4.312,3.833,1.446,2.308,3.088,4.667,3.909,2.497,1.974,1.517,4.106,1.491,1.525,7.029,1.444,21.98,3.767,3.534,1.933,2.087,2.747,6.487,4.722,1.391,2.011,1.641,2.244,2.044,3.763,1.208,2.276,1.445,2.257,2.153,1.059,1.489,3.767,1.215,1.667,7.247,5.144,2.105,3.002,1.996,0.757,2.369,2.829,4.037,2.517,0.873,2.393,1.497,1.686,6.372,2.684,4.115,2.193,3.797,2.563,7.158,4.061,10.12,1.903,2.587,2.577,6.146,1.534,2.819,7.749,3.43,2.591,1.546,2.23,0.8439,1.164,8.867,1.75,2.765,4.021,1.565,2.363,1.683,1.83,4.321,3.717,2.903,2.464,2.347,1.721,3.198,1.115,2.877,1.954,4.36,2.171,1.231,1.234,1.34,1.479,1.267,4.138,1.661,2.289,7.237,2.579,7.804,1.035,2.475,1.961,1.204,1.144,1.509,2.567,1.109,1.954,2.346,1.107,2.222,1.047,1.438,2.547,3.769,2.487,1.597,3.868,1.614,4.012,1.959,1.566,1.558,1.466,3.27,2.961,2.629,2.465,1.959,1.529,1.199,6.076,0.9219,4.369,1.778,6.462,2.677,1.429,1.355,5.173,2.355,2.394,1.559,2.537,1.09,2.455,2.225,3.477,7.222,4.174,3.33,3.212,2.59,1.737,4.277,3.267,2.329,2.028,1.535,2.344,1.036,4.218,7.128,1.874,7.733,7.561,2.972,1.338,2.407,4.119,1.372,1.349,2.363,1.4,1.101,1.719,1.809,1.281,1.778,2.117,1.592,2.914,2.097,1.709,2.569,5.383,1.348,3.167,4.675,4.158,1.869,1.237,1.513,2.668,1.263,2.225,3.123,1.649,2.397,0.9975,2.602,3.018,1.729,2.552,3.061,2.079,1.359,1.342,1.174,2.31,3.043,1.93,2.759,9.424,1.527,1.968,2.206,4.795,1.667,1.804,4.607,1.184,2.564,2.24,0.968,2.109,3.466,2.204,3.008,4.493,1.612,1.602,2.597,2.644,2.331,1.606,2.806,3.283,2.235,1.277,1.921,1.865,2.873,1.482,1.994,4.542,1.955,2.916,1.516,2.143,1.116,2.287,2.15,1.314,1.657,1.243,6.051,18.65,1.727,1.303,1.236,3.369,2.312,2.275,5.801,3.027,2.569,4.099,1.826,2.884,1.301,1.195,2.749,1.392,1.567,3.07,1.678,2.056,1.102,1.564,1.143,5.004,1.471,3.631,2.554,1.775,1.577,3.163,5.353,2.108,2.326,1.596,1.696,1.253,4.851,4.206,2.304,2.974,1.566,9.635,3.014,1.787,0.9857,1.318,1.146,2.937,1.345,1.677,3.093,2.561,2.63,1.491,3.218,3.654,3.176,2.495,2.388,7.05,0.9812,2.284,1.976,1.069,1.443,0.7714,4.091,1.714,3.149,1.393,1.373,5.168,1.165,4.706,1.895,2.158,2.492,1.445,1.628,2.615,2.177,1.539,2.076,2.066,1.356,0.9887,2.054,3.564,2.115,1.994,1.477,2.121,1.502,1.437,1.648,3.618,2.224,1.936,2.888,2.041,2.362,8.758,7.673,5.203,3.425,5.772,2.548]},{\"axis\":{\"matches\":true},\"label\":\"area se\",\"values\":[153.4,74.08,94.03,27.23,94.44,27.19,53.91,50.96,24.32,23.94,40.51,54.16,116.2,36.58,19.21,32.55,45.4,54.18,112.4,23.56,14.67,15.7,44.91,93.99,102.6,111.4,21.05,93.54,43.5,61.1,105.0,41.0,67.78,68.17,35.03,45.19,24.91,14.16,106.0,18.52,20.53,16.97,104.9,31.33,14.49,71.56,8.205,24.25,19.87,20.2,28.47,14.55,17.47,98.81,29.91,23.47,102.5,40.09,32.96,8.322,34.62,18.39,60.78,23.52,36.46,35.24,14.2,18.15,17.67,18.33,96.05,25.44,69.47,23.35,19.68,79.25,32.65,134.8,116.4,20.35,24.62,12.96,120.0,67.1,16.16,80.6,38.87,57.65,20.95,42.76,33.76,29.44,36.35,25.22,47.14,87.87,24.44,20.05,15.75,26.85,43.14,9.833,14.68,11.77,23.13,34.66,20.62,9.227,170.0,16.41,22.87,20.48,29.25,19.91,8.966,24.79,16.94,41.18,58.63,54.04,10.5,90.47,233.0,24.19,14.66,17.91,19.83,81.23,39.84,63.33,15.24,48.31,43.68,27.94,68.35,19.87,34.37,12.67,101.9,26.33,12.26,74.08,21.38,16.64,17.74,25.03,24.72,39.43,21.2,21.47,34.78,10.21,49.85,15.48,22.79,16.51,93.91,46.61,13.25,18.54,38.34,119.3,97.07,21.55,97.85,16.64,11.48,67.34,122.3,24.28,17.43,43.4,44.64,19.08,21.98,11.36,27.48,31.59,14.34,21.79,128.7,81.46,40.98,22.77,19.53,26.43,28.92,17.86,14.47,18.32,31.72,53.65,21.69,34.44,25.2,15.75,49.7,76.36,54.22,19.42,27.24,40.73,83.16,52.72,30.29,26.44,12.33,68.46,15.09,20.0,111.7,17.12,525.6,58.53,31.0,22.69,21.46,22.79,124.4,109.9,17.4,21.03,15.05,32.19,24.68,48.29,11.86,19.88,18.51,25.13,31.98,8.605,15.46,70.01,12.64,22.07,155.8,83.5,29.96,49.0,27.19,9.006,16.39,39.93,60.41,23.22,13.56,16.35,16.64,18.62,137.9,26.99,92.81,33.63,71.0,35.74,106.4,59.46,138.5,23.02,52.34,44.41,90.94,22.18,45.42,199.7,27.1,26.76,18.24,20.74,10.77,13.17,156.8,16.39,45.81,48.84,17.09,36.74,22.22,19.41,69.65,37.83,53.16,28.09,23.29,22.45,21.91,12.68,34.68,17.49,77.11,24.87,17.67,13.88,13.38,17.74,11.09,49.11,20.56,20.56,133.0,28.32,130.8,10.08,22.93,18.21,15.5,9.789,20.39,33.01,11.28,28.9,25.18,9.438,17.81,12.69,15.82,48.9,24.2,31.16,22.68,74.85,16.57,69.06,19.01,17.61,23.92,16.97,44.41,57.72,33.27,20.65,19.62,15.07,13.24,87.17,14.41,88.25,16.85,164.1,32.14,12.07,10.8,67.66,24.53,19.33,18.02,29.06,12.25,26.65,26.03,51.22,153.1,63.37,28.84,27.49,21.57,20.74,30.18,30.48,28.3,20.98,17.26,33.58,13.22,72.44,103.6,18.57,224.1,130.2,45.5,17.72,39.06,77.02,14.0,14.91,7.228,14.91,11.35,13.99,16.04,11.68,9.549,19.2,15.26,33.01,19.96,23.12,22.97,70.1,11.88,28.85,66.91,80.99,22.22,12.67,19.29,30.57,12.98,25.06,41.51,18.95,20.21,11.36,30.15,25.78,21.83,41.24,49.81,25.79,13.66,13.54,6.802,28.51,45.38,19.53,25.17,176.5,17.37,18.99,20.3,49.45,15.89,19.36,43.52,11.6,20.77,20.2,9.704,23.24,24.19,15.43,52.49,103.9,23.92,18.85,26.5,32.74,29.63,19.25,18.15,58.38,29.34,13.12,35.77,19.39,43.95,19.75,23.04,81.89,20.24,56.18,13.86,25.7,13.32,28.93,23.13,17.58,21.19,11.28,115.2,542.2,20.52,12.89,16.89,23.81,27.4,20.98,104.9,27.85,22.73,44.96,23.31,35.13,9.597,11.64,31.01,14.03,14.34,33.12,16.26,28.41,12.84,20.64,13.87,30.19,19.98,67.74,27.57,22.95,18.04,50.95,89.74,24.6,26.07,21.84,18.4,11.91,95.77,75.09,34.84,39.05,18.49,180.2,20.04,17.67,12.58,12.3,20.67,32.52,13.04,20.72,33.67,37.11,38.49,18.19,67.36,59.7,34.37,28.62,19.63,139.9,9.332,26.45,15.24,7.254,16.07,8.955,44.74,18.54,30.66,15.34,17.25,100.4,10.09,87.78,18.54,20.95,19.14,11.73,20.86,23.11,27.41,17.85,23.12,31.24,12.97,7.326,18.24,33.0,20.67,17.85,18.76,17.86,16.83,14.46,16.8,29.11,19.54,16.97,29.84,22.81,22.65,118.8,158.7,99.04,48.55,86.22,19.15]},{\"axis\":{\"matches\":true},\"label\":\"smoothness se\",\"values\":[0.006399,0.005225,0.00615,0.00911,0.01149,0.00751,0.004314,0.008805,0.005731,0.007149,0.004029,0.005771,0.003139,0.009769,0.006429,0.005607,0.005718,0.007026,0.006494,0.008462,0.004097,0.009606,0.006789,0.004728,0.006048,0.008029,0.004452,0.01075,0.005233,0.005627,0.006248,0.005551,0.008268,0.005015,0.004185,0.005776,0.005878,0.004352,0.006883,0.005367,0.00328,0.008064,0.006548,0.005072,0.00335,0.006294,0.008968,0.006532,0.005488,0.004455,0.005857,0.004477,0.00721,0.003899,0.004675,0.008328,0.006458,0.003659,0.007491,0.01011,0.007514,0.01193,0.009407,0.008738,0.007781,0.006703,0.01052,0.009282,0.009549,0.007962,0.004444,0.01721,0.00582,0.004717,0.004854,0.01082,0.0134,0.00794,0.01038,0.005293,0.01037,0.006794,0.008166,0.007545,0.005969,0.006471,0.009369,0.003872,0.007112,0.005508,0.004868,0.009882,0.004481,0.005884,0.00925,0.006016,0.005433,0.01113,0.006153,0.008005,0.005872,0.01019,0.00508,0.009058,0.007595,0.007162,0.00854,0.003457,0.006515,0.009113,0.01385,0.01291,0.005298,0.01188,0.008261,0.007803,0.01835,0.006985,0.008699,0.004024,0.00604,0.008102,0.02333,0.003818,0.005919,0.004599,0.004088,0.004428,0.009006,0.005033,0.006773,0.00624,0.004877,0.005217,0.006001,0.007499,0.006578,0.005133,0.01,0.01127,0.00604,0.00677,0.006664,0.005324,0.006547,0.01017,0.005427,0.00579,0.005706,0.002838,0.007017,0.01243,0.01097,0.009019,0.008584,0.005518,0.009037,0.003443,0.005528,0.006142,0.009433,0.009406,0.004057,0.01134,0.00491,0.003634,0.007809,0.006123,0.006174,0.00508,0.008045,0.006003,0.005393,0.01496,0.008713,0.009172,0.01286,0.006627,0.003418,0.008534,0.004631,0.004253,0.004626,0.007356,0.00329,0.01439,0.002866,0.006905,0.007831,0.005996,0.00797,0.004571,0.001713,0.009098,0.008081,0.005298,0.0138,0.00553,0.005524,0.004044,0.007514,0.00609,0.009327,0.008824,0.006953,0.005472,0.009719,0.005038,0.005251,0.004291,0.008124,0.005517,0.01345,0.03113,0.01088,0.00596,0.008872,0.00468,0.006804,0.005539,0.004133,0.005851,0.007899,0.004766,0.006032,0.007089,0.006513,0.004119,0.005169,0.006983,0.005532,0.003653,0.004359,0.00502,0.01164,0.007389,0.006428,0.007959,0.006307,0.00486,0.00647,0.003265,0.006663,0.004351,0.01061,0.01604,0.006261,0.005501,0.007189,0.006662,0.005283,0.00638,0.008482,0.004757,0.004649,0.006351,0.006356,0.01015,0.01236,0.005345,0.005043,0.005726,0.006717,0.002826,0.004493,0.004551,0.00747,0.005436,0.005518,0.008902,0.003492,0.006472,0.005687,0.0138,0.005444,0.01418,0.008426,0.007571,0.003741,0.004235,0.007392,0.008034,0.005654,0.004563,0.006418,0.006383,0.006719,0.004731,0.01574,0.006538,0.007762,0.005332,0.008725,0.007595,0.006064,0.004348,0.003478,0.005596,0.003169,0.01017,0.006056,0.00653,0.007964,0.008875,0.006652,0.006122,0.003632,0.007389,0.003338,0.004148,0.006064,0.005031,0.006494,0.004124,0.02075,0.004928,0.005343,0.004821,0.009845,0.007357,0.01049,0.004536,0.00591,0.005485,0.005403,0.006809,0.006692,0.004729,0.006697,0.01056,0.005839,0.005727,0.01289,0.005617,0.007881,0.006455,0.005231,0.007548,0.007803,0.006292,0.004577,0.005954,0.007416,0.004756,0.009536,0.01736,0.00718,0.004732,0.009191,0.0058,0.006583,0.009329,0.006369,0.01052,0.005541,0.009853,0.007807,0.005638,0.01093,0.006836,0.005783,0.005498,0.005608,0.007257,0.004394,0.006208,0.008439,0.005833,0.005568,0.003978,0.005635,0.005012,0.004426,0.006211,0.00423,0.00451,0.008499,0.004942,0.005212,0.007405,0.006635,0.005296,0.005042,0.006715,0.004271,0.008312,0.004405,0.003728,0.01038,0.01124,0.005682,0.01582,0.007269,0.005215,0.008146,0.005371,0.005442,0.005421,0.004259,0.005463,0.007159,0.006175,0.003629,0.002887,0.007702,0.009519,0.003958,0.006011,0.007231,0.005888,0.005391,0.005158,0.005515,0.004449,0.006831,0.009895,0.01474,0.008198,0.006131,0.006908,0.007278,0.009976,0.005884,0.00398,0.01307,0.005724,0.007364,0.006543,0.005883,0.007337,0.006965,0.01,0.009087,0.008074,0.005756,0.005314,0.00591,0.007976,0.005836,0.004837,0.008565,0.008109,0.006432,0.01072,0.004117,0.00832,0.004714,0.004796,0.004147,0.005467,0.006854,0.0119,0.007334,0.006133,0.003888,0.005841,0.009861,0.005768,0.006054,0.006588,0.00874,0.00765,0.005356,0.006709,0.005969,0.004929,0.007295,0.01098,0.006766,0.01459,0.007501,0.007517,0.003271,0.007339,0.004474,0.004873,0.004107,0.003308,0.004957,0.009197,0.004911,0.003704,0.00445,0.003245,0.006034,0.007234,0.003535,0.005288,0.008998,0.002667,0.005096,0.004369,0.007997,0.01039,0.007802,0.005415,0.005704,0.003796,0.007974,0.006666,0.004123,0.00968,0.009702,0.005753,0.009783,0.02177,0.006272,0.01262,0.007394,0.009538,0.006982,0.006708,0.005414,0.004953,0.004952,0.008577,0.006176,0.005089,0.005273,0.007509,0.01546,0.004989,0.0042,0.006739,0.008732,0.007897,0.004413,0.003681,0.01004,0.007327,0.006587,0.005251,0.003828,0.004938,0.009501,0.004578,0.006113,0.01288,0.01266,0.01547,0.01215,0.007138,0.004775,0.004973,0.006298,0.005868,0.007086,0.01027,0.00744,0.008263,0.009579,0.003495,0.008835,0.01094,0.008412,0.01205,0.01291,0.01159,0.004242,0.0082,0.007256,0.007594,0.004625,0.006399,0.0103,0.005769,0.005903,0.006522,0.007189]},{\"axis\":{\"matches\":true},\"label\":\"compactness se\",\"values\":[0.04904,0.01308,0.04006,0.07458,0.02461,0.03345,0.01382,0.03029,0.03502,0.07217,0.009269,0.04061,0.08297,0.03126,0.05936,0.0424,0.01162,0.02501,0.01893,0.0146,0.01898,0.01432,0.05328,0.01259,0.01882,0.03799,0.03055,0.02722,0.03057,0.03033,0.03374,0.03414,0.03082,0.03318,0.02868,0.02499,0.02995,0.004899,0.01094,0.02239,0.01102,0.01764,0.1006,0.02147,0.01384,0.03994,0.01646,0.02336,0.01427,0.01382,0.009758,0.01177,0.00838,0.02961,0.0103,0.008722,0.02306,0.02855,0.008593,0.01055,0.01099,0.03162,0.07056,0.03938,0.02648,0.0231,0.01755,0.009216,0.08606,0.005612,0.01652,0.09368,0.05616,0.02065,0.01819,0.02203,0.02839,0.05839,0.06835,0.01661,0.01706,0.03575,0.05693,0.0605,0.01812,0.01649,0.02983,0.01842,0.02493,0.04412,0.01818,0.02444,0.01038,0.01491,0.03715,0.03482,0.01179,0.01463,0.0133,0.02895,0.01488,0.01084,0.006098,0.02196,0.02219,0.02912,0.0231,0.01047,0.08668,0.01557,0.02932,0.04042,0.07446,0.03747,0.02213,0.02507,0.0676,0.02563,0.03976,0.008422,0.01529,0.02101,0.09806,0.01276,0.0327,0.009169,0.01174,0.02731,0.04185,0.03179,0.02456,0.01484,0.01952,0.01515,0.01422,0.01202,0.0138,0.01521,0.0348,0.03498,0.005656,0.01938,0.01735,0.01563,0.01781,0.04741,0.03633,0.04877,0.02297,0.01592,0.01142,0.05416,0.09586,0.008985,0.02017,0.01562,0.04954,0.02661,0.009789,0.006134,0.02405,0.03055,0.02277,0.03175,0.02544,0.007983,0.009816,0.0247,0.03634,0.0137,0.0118,0.01063,0.02321,0.02121,0.01017,0.008007,0.08808,0.04094,0.002252,0.006364,0.02537,0.04759,0.02263,0.03728,0.01395,0.012,0.009181,0.008704,0.008776,0.02212,0.1354,0.0179,0.006736,0.03845,0.05122,0.01587,0.03348,0.05296,0.03698,0.01597,0.01779,0.02569,0.05121,0.03108,0.01911,0.01919,0.01249,0.01503,0.03041,0.01236,0.03611,0.01727,0.02772,0.08555,0.0371,0.03438,0.04192,0.0312,0.03169,0.02644,0.01695,0.02314,0.014,0.02374,0.01104,0.01428,0.008061,0.03207,0.02294,0.03858,0.02008,0.01647,0.006813,0.02062,0.0104,0.01383,0.02863,0.03133,0.02845,0.02785,0.01248,0.00493,0.05914,0.02667,0.03252,0.01386,0.01569,0.05592,0.01035,0.01228,0.03908,0.01065,0.05057,0.01503,0.018,0.02679,0.04765,0.04588,0.05995,0.02556,0.01578,0.01106,0.05981,0.009105,0.01206,0.01478,0.03581,0.02406,0.02178,0.04785,0.00371,0.01122,0.0496,0.01067,0.01169,0.01489,0.008998,0.01114,0.005274,0.01541,0.02449,0.01442,0.02199,0.03481,0.03961,0.008008,0.05156,0.01345,0.08262,0.01395,0.1064,0.02115,0.02003,0.015,0.0118,0.008153,0.01221,0.01005,0.01377,0.01443,0.03203,0.03369,0.04732,0.009362,0.02652,0.02337,0.007861,0.004883,0.003746,0.004711,0.00911,0.006021,0.02768,0.0134,0.01403,0.003012,0.005767,0.01659,0.0659,0.01079,0.04265,0.01376,0.02016,0.02431,0.01418,0.009514,0.01132,0.006887,0.02083,0.03756,0.03245,0.03255,0.01104,0.007124,0.008432,0.01797,0.02305,0.03897,0.01449,0.01971,0.03053,0.03471,0.01877,0.03368,0.01097,0.04671,0.01096,0.01506,0.008548,0.02417,0.006991,0.06559,0.04243,0.02431,0.03387,0.04235,0.03932,0.007939,0.02899,0.008982,0.004693,0.02045,0.01646,0.01805,0.0125,0.01906,0.04674,0.01388,0.01112,0.02821,0.03917,0.01485,0.02675,0.01895,0.01587,0.01812,0.07643,0.01203,0.02984,0.04549,0.01777,0.01903,0.0456,0.03705,0.02073,0.01742,0.03026,0.01415,0.06669,0.04097,0.01365,0.01966,0.02928,0.03726,0.01631,0.01273,0.01957,0.03477,0.01469,0.01964,0.03718,0.01204,0.03713,0.01285,0.008491,0.02134,0.01246,0.0448,0.02772,0.0231,0.009947,0.009355,0.02674,0.02808,0.01427,0.03053,0.01674,0.03889,0.01263,0.009442,0.02047,0.05244,0.02005,0.02809,0.01885,0.005697,0.03867,0.02148,0.006263,0.01174,0.06213,0.03295,0.02715,0.04088,0.01665,0.01791,0.01362,0.01295,0.01095,0.009238,0.04638,0.04308,0.01156,0.01331,0.0156,0.02025,0.02015,0.01171,0.02048,0.02075,0.06063,0.01929,0.02589,0.01251,0.008539,0.01246,0.02418,0.008082,0.008974,0.0127,0.02219,0.05374,0.01679,0.01701,0.01493,0.06657,0.03179,0.01257,0.07025,0.03206,0.01989,0.01555,0.0177,0.008243,0.03093,0.01796,0.03288,0.01315,0.02114,0.0547,0.01666,0.01082,0.01452,0.008186,0.0182,0.07471,0.01393,0.02833,0.01292,0.01446,0.01205,0.008274,0.027,0.01003,0.02052,0.01371,0.02502,0.01371,0.03214,0.02791,0.01819,0.03856,0.01567,0.03356,0.04542,0.04888,0.02198,0.02348,0.01203,0.0494,0.03916,0.01197,0.02265,0.01812,0.0163,0.01641,0.01877,0.02303,0.02329,0.01561,0.0254,0.03212,0.0059,0.02251,0.02042,0.01762,0.01443,0.009169,0.03247,0.01153,0.01815,0.01727,0.007228,0.03089,0.03378,0.02616,0.02583,0.03495,0.009692,0.06457,0.04112,0.04653,0.01172,0.01372,0.02172,0.02099,0.007247,0.03084,0.01123,0.0187,0.01104,0.03051,0.01233,0.01834,0.02153,0.02736,0.02222,0.01124,0.04639,0.02982,0.02678,0.008878,0.04844,0.0431,0.02891,0.02423,0.03731,0.06158,0.00466]},{\"axis\":{\"matches\":true},\"label\":\"concavity se\",\"values\":[0.05373,0.0186,0.03832,0.05661,0.05688,0.03672,0.02254,0.02488,0.03553,0.07743,0.01101,0.02791,0.0889,0.05051,0.05501,0.04741,0.01998,0.03188,0.03391,0.02387,0.01698,0.01985,0.06446,0.01715,0.02741,0.03732,0.02681,0.05081,0.03576,0.03407,0.05196,0.04205,0.05042,0.03497,0.02664,0.03695,0.04815,0.01343,0.01818,0.03049,0.0139,0.02595,0.09723,0.02185,0.01452,0.05554,0.01588,0.02905,0.02322,0.02095,0.01168,0.01079,0.01311,0.02817,0.01603,0.01349,0.02945,0.02572,0.000692,0.01981,0.007665,0.03,0.06899,0.04312,0.02973,0.02315,0.01714,0.02063,0.3038,0.01585,0.02269,0.05671,0.04252,0.01759,0.01826,0.035,0.01162,0.04658,0.1091,0.02071,0.02586,0.0398,0.0573,0.02134,0.02007,0.02806,0.05371,0.0371,0.02703,0.04436,0.01121,0.04531,0.01358,0.01872,0.04867,0.04232,0.01131,0.005308,0.01693,0.03321,0.02647,0.0,0.01069,0.03029,0.0288,0.05473,0.02945,0.01167,0.104,0.02443,0.02722,0.05101,0.1435,0.04591,0.03259,0.01835,0.09263,0.03011,0.0595,0.02291,0.01514,0.03342,0.1278,0.02882,0.04957,0.009127,0.01796,0.0404,0.03204,0.04755,0.01018,0.02813,0.02219,0.01678,0.02855,0.02332,0.02662,0.01434,0.06577,0.02187,0.0,0.03067,0.01158,0.0151,0.02018,0.02789,0.04649,0.05303,0.03114,0.0178,0.01949,0.07753,0.396,0.01196,0.03047,0.01994,0.05206,0.03056,0.008342,0.001835,0.04167,0.04344,0.04029,0.03125,0.02822,0.008268,0.01099,0.02626,0.04644,0.007276,0.01683,0.02151,0.04303,0.01453,0.0,0.0,0.1197,0.05371,0.001595,0.00618,0.03109,0.03872,0.01954,0.05915,0.01774,0.001597,0.01412,0.01978,0.01556,0.02117,0.1166,0.02176,0.0,0.03763,0.05551,0.02321,0.04665,0.0611,0.02706,0.02,0.01401,0.02713,0.08958,0.03112,0.02701,0.02039,0.007975,0.01946,0.02526,0.01841,0.05489,0.02045,0.06389,0.1438,0.03688,0.03909,0.05946,0.05774,0.03446,0.02664,0.01652,0.02544,0.008534,0.02384,0.02259,0.0236,0.002817,0.03644,0.03016,0.04683,0.03055,0.01633,0.003223,0.03457,0.01186,0.007302,0.04497,0.04257,0.0385,0.02602,0.0181,0.006493,0.0888,0.03371,0.03915,0.01865,0.03079,0.08158,0.01081,0.02105,0.09518,0.01245,0.068,0.02332,0.02749,0.03119,0.03863,0.04983,0.08232,0.02889,0.02117,0.01246,0.04638,0.01311,0.02048,0.02143,0.03354,0.03099,0.02589,0.07339,0.004826,0.01282,0.06329,0.008347,0.01622,0.01267,0.001487,0.02623,0.01065,0.01457,0.03988,0.01514,0.03059,0.03872,0.07927,0.00186,0.04387,0.01652,0.08099,0.01376,0.0996,0.01536,0.02335,0.01412,0.006564,0.004272,0.01072,0.01272,0.01079,0.01861,0.05638,0.04712,0.07649,0.01808,0.02221,0.01596,0.001128,0.003681,0.00203,0.002831,0.01042,0.005325,0.03137,0.01003,0.0,0.00262,0.01123,0.02408,0.1027,0.009959,0.04004,0.02645,0.01902,0.0319,0.01051,0.01329,0.005717,0.001184,0.03248,0.05839,0.03715,0.04393,0.003297,0.0009737,0.007004,0.04502,0.03113,0.03914,0.0169,0.03582,0.0384,0.05028,0.02758,0.04345,0.01651,0.02611,0.005832,0.01855,0.0094,0.007816,0.005949,0.09953,0.04266,0.04912,0.04505,0.06271,0.05112,0.005254,0.03214,0.02348,0.0007929,0.01795,0.01529,0.01832,0.01451,0.02375,0.05904,0.02,0.02096,0.03576,0.06072,0.01551,0.03437,0.02681,0.01169,0.01951,0.1535,0.007508,0.02443,0.04588,0.02101,0.01723,0.04305,0.04757,0.02828,0.03389,0.04344,0.01988,0.09472,0.07469,0.008496,0.0,0.04972,0.04718,0.01843,0.01132,0.03304,0.04545,0.0194,0.02079,0.06165,0.01376,0.03452,0.01613,0.01307,0.0199,0.01831,0.05175,0.02509,0.02059,0.01163,0.01056,0.03735,0.03312,0.02489,0.0163,0.01367,0.04493,0.009075,0.006972,0.04447,0.05278,0.02631,0.03669,0.006021,0.002074,0.05263,0.02991,0.009398,0.005383,0.07926,0.04861,0.05546,0.05321,0.01461,0.02185,0.007066,0.01608,0.005812,0.009213,0.0643,0.04942,0.007741,0.01993,0.02975,0.02334,0.03697,0.01758,0.03379,0.03185,0.06663,0.04907,0.02941,0.01615,0.01256,0.007936,0.04275,0.0151,0.005681,0.0145,0.02721,0.08055,0.01971,0.0208,0.01564,0.07683,0.04615,0.01031,0.06591,0.04961,0.02714,0.01465,0.0231,0.0,0.02757,0.03318,0.02821,0.009904,0.04156,0.08079,0.01397,0.0153,0.01334,0.01698,0.03336,0.1114,0.018,0.04256,0.01851,0.01423,0.00941,0.01153,0.03737,0.006416,0.01341,0.02153,0.02636,0.01346,0.04435,0.04062,0.01996,0.03476,0.02575,0.03976,0.03483,0.05189,0.03966,0.018,0.0247,0.06019,0.04017,0.01482,0.03452,0.03035,0.02967,0.02099,0.02913,0.03052,0.01405,0.01977,0.02197,0.03571,0.003846,0.02086,0.01062,0.01801,0.01509,0.008732,0.04763,0.01798,0.01737,0.0184,0.007078,0.04093,0.04401,0.04005,0.04645,0.01865,0.0,0.09252,0.05553,0.03829,0.01947,0.01498,0.02615,0.02021,0.01012,0.02613,0.02337,0.01277,0.0,0.03445,0.01328,0.03996,0.03898,0.04804,0.004174,0.0,0.06578,0.05738,0.02071,0.0,0.07359,0.07845,0.05198,0.0395,0.0473,0.07117,0.0]},{\"axis\":{\"matches\":true},\"label\":\"concave points se\",\"values\":[0.01587,0.0134,0.02058,0.01867,0.01885,0.01137,0.01039,0.01448,0.01226,0.01432,0.007591,0.01282,0.0409,0.01992,0.01628,0.0109,0.01109,0.01297,0.01521,0.01315,0.00649,0.01421,0.02252,0.01038,0.0113,0.02397,0.01352,0.01911,0.01083,0.01354,0.01158,0.01044,0.01112,0.009643,0.009067,0.01195,0.01161,0.01164,0.01917,0.01262,0.006881,0.01037,0.02638,0.00956,0.006853,0.01695,0.005917,0.01215,0.00566,0.01184,0.007445,0.007956,0.008,0.009222,0.009222,0.00867,0.01538,0.01272,0.004167,0.005742,0.008193,0.009259,0.01848,0.0156,0.0129,0.01184,0.009333,0.008965,0.03322,0.008662,0.0137,0.01766,0.01127,0.009206,0.007965,0.01809,0.008239,0.0207,0.02593,0.008179,0.007506,0.01383,0.0203,0.01843,0.007027,0.0142,0.01761,0.012,0.01293,0.01623,0.008606,0.01763,0.01082,0.009366,0.01851,0.01269,0.01519,0.00525,0.006884,0.01424,0.009921,0.0,0.006797,0.01112,0.008614,0.01388,0.01398,0.005558,0.0248,0.006435,0.01023,0.02295,0.02292,0.01544,0.0104,0.007711,0.02308,0.01271,0.0139,0.009863,0.00646,0.01601,0.01822,0.012,0.01038,0.004814,0.00688,0.01361,0.02258,0.01043,0.008094,0.01093,0.009231,0.01268,0.009148,0.00892,0.01307,0.008602,0.02801,0.01965,0.0,0.01167,0.00952,0.007584,0.005612,0.0111,0.01843,0.01527,0.01493,0.005828,0.01153,0.01022,0.05279,0.008232,0.009536,0.007924,0.01841,0.0111,0.006273,0.003576,0.01152,0.02794,0.01303,0.01135,0.01623,0.006432,0.005344,0.01604,0.01569,0.009073,0.01241,0.009443,0.0132,0.01583,0.0,0.0,0.0246,0.01813,0.001852,0.007408,0.01241,0.01567,0.009767,0.01712,0.006009,0.002404,0.006719,0.01185,0.00624,0.006433,0.01666,0.01757,0.0,0.01321,0.01883,0.00842,0.0206,0.01444,0.01221,0.007303,0.0114,0.01345,0.02465,0.01291,0.01037,0.00826,0.007527,0.01123,0.008304,0.007373,0.02765,0.006747,0.01407,0.03927,0.01627,0.01435,0.01785,0.01071,0.01712,0.01078,0.006659,0.00836,0.007624,0.008637,0.009057,0.01286,0.004972,0.01155,0.008691,0.01499,0.01384,0.003125,0.003419,0.01091,0.009623,0.01004,0.01716,0.01671,0.01011,0.01374,0.01103,0.003762,0.01314,0.01007,0.01559,0.01133,0.005383,0.0137,0.006245,0.01006,0.01864,0.009175,0.01971,0.01262,0.01267,0.01342,0.01519,0.02127,0.03024,0.01022,0.008185,0.007671,0.02149,0.005174,0.009875,0.00928,0.01365,0.009919,0.00633,0.01745,0.003608,0.008849,0.01561,0.009472,0.008522,0.0191,0.003333,0.01463,0.005044,0.01043,0.01293,0.01846,0.01499,0.01209,0.01774,0.002924,0.01633,0.005905,0.03487,0.009924,0.02771,0.01187,0.01132,0.008578,0.007978,0.006829,0.009393,0.01432,0.005243,0.0125,0.01733,0.01403,0.01936,0.009199,0.007807,0.006998,0.002386,0.003472,0.003242,0.004821,0.007638,0.006324,0.01069,0.004667,0.0,0.00339,0.005051,0.01143,0.02527,0.0112,0.01544,0.01247,0.01011,0.01369,0.005142,0.006474,0.006627,0.003951,0.01392,0.01186,0.01459,0.009811,0.004967,0.002941,0.006522,0.01744,0.007315,0.01816,0.008043,0.01301,0.01243,0.00851,0.0101,0.01806,0.01121,0.01296,0.005495,0.01067,0.006315,0.01052,0.006296,0.02283,0.01508,0.01746,0.01471,0.01966,0.01876,0.006042,0.01506,0.006565,0.003617,0.006399,0.009997,0.01033,0.005484,0.01461,0.02536,0.007087,0.01197,0.01471,0.01656,0.009155,0.01343,0.01232,0.006335,0.01196,0.02919,0.005179,0.008356,0.01339,0.01164,0.00696,0.01667,0.01051,0.008468,0.01576,0.01087,0.007016,0.02047,0.03441,0.006929,0.0,0.01639,0.01288,0.007513,0.009155,0.01367,0.01384,0.004168,0.005398,0.01051,0.005832,0.01065,0.007308,0.0103,0.01155,0.008747,0.01341,0.0148,0.01075,0.005872,0.007483,0.005128,0.01196,0.009087,0.009276,0.008674,0.02139,0.008231,0.006159,0.008799,0.0158,0.01304,0.01274,0.01052,0.003527,0.01264,0.01045,0.006189,0.005623,0.02234,0.01167,0.0191,0.01834,0.008281,0.009567,0.006502,0.009046,0.007039,0.01076,0.01768,0.01742,0.005657,0.01111,0.009753,0.01665,0.0111,0.006897,0.008848,0.01466,0.01553,0.01499,0.009166,0.01136,0.006888,0.009128,0.009215,0.006451,0.006336,0.006104,0.01458,0.02598,0.00637,0.007497,0.008463,0.01368,0.01254,0.003934,0.02311,0.01841,0.009883,0.01183,0.008399,0.0,0.006691,0.00836,0.0135,0.004832,0.008038,0.02215,0.005161,0.006275,0.008791,0.009233,0.01067,0.02721,0.006144,0.01176,0.01167,0.005297,0.004551,0.007437,0.01648,0.007895,0.005564,0.01183,0.01032,0.007096,0.01573,0.01479,0.01004,0.01616,0.01161,0.02156,0.02188,0.0145,0.009894,0.01285,0.01431,0.02041,0.01528,0.01056,0.01334,0.008648,0.009423,0.01107,0.01046,0.01178,0.01244,0.009199,0.0158,0.01597,0.004065,0.01352,0.006801,0.00732,0.007369,0.00574,0.02853,0.007986,0.01316,0.005298,0.005077,0.01699,0.01346,0.01421,0.01276,0.01766,0.0,0.01364,0.01494,0.01162,0.01269,0.009117,0.009061,0.009064,0.005495,0.01097,0.009615,0.005917,0.0,0.01024,0.009305,0.01282,0.00762,0.01721,0.007082,0.0,0.01606,0.01267,0.01626,0.0,0.01608,0.02624,0.02454,0.01678,0.01557,0.01664,0.0]},{\"axis\":{\"matches\":true},\"label\":\"symmetry se\",\"values\":[0.03003,0.01389,0.0225,0.05963,0.01756,0.02165,0.01369,0.01486,0.02143,0.01789,0.0146,0.02008,0.04484,0.02981,0.01961,0.01857,0.0141,0.01689,0.01356,0.0198,0.01678,0.02027,0.03672,0.01083,0.01468,0.02308,0.01454,0.02293,0.01768,0.01925,0.02007,0.02273,0.02102,0.01543,0.01703,0.02789,0.02028,0.02671,0.007882,0.01377,0.0138,0.01357,0.05333,0.01719,0.01113,0.02428,0.02574,0.01743,0.01428,0.01641,0.02406,0.01325,0.01996,0.02674,0.01095,0.03218,0.01852,0.01817,0.0219,0.0209,0.04183,0.03357,0.017,0.04192,0.01635,0.019,0.02279,0.02183,0.04197,0.02254,0.01386,0.02541,0.01527,0.0122,0.01386,0.0155,0.02572,0.02591,0.07895,0.01748,0.01816,0.02134,0.01065,0.03056,0.01972,0.0237,0.02418,0.01964,0.01958,0.02427,0.02085,0.02471,0.01069,0.01884,0.01498,0.02657,0.0222,0.01801,0.01651,0.01462,0.01465,0.02659,0.01447,0.01609,0.0271,0.01547,0.01565,0.01251,0.03112,0.01568,0.03281,0.02144,0.02566,0.02287,0.01708,0.01278,0.02384,0.01602,0.01495,0.05014,0.01344,0.02045,0.04547,0.0191,0.01208,0.01247,0.01323,0.0203,0.02353,0.01578,0.02662,0.01397,0.01535,0.01669,0.01492,0.01647,0.01359,0.01501,0.05168,0.0158,0.02277,0.01875,0.02282,0.02104,0.01671,0.03127,0.05628,0.03356,0.01454,0.01329,0.02951,0.02309,0.03546,0.02388,0.02769,0.01799,0.01778,0.0152,0.01465,0.01637,0.03397,0.03156,0.01686,0.01879,0.01956,0.01924,0.01254,0.02091,0.01145,0.0135,0.01924,0.0152,0.01792,0.03082,0.03265,0.02711,0.0388,0.01682,0.01613,0.01065,0.01575,0.01798,0.01547,0.02165,0.01172,0.02538,0.01069,0.01897,0.03139,0.02025,0.05113,0.03373,0.03799,0.01878,0.02545,0.01853,0.02689,0.0214,0.01415,0.01522,0.01503,0.01594,0.02175,0.01998,0.01782,0.01523,0.0221,0.02294,0.02514,0.009539,0.03176,0.01616,0.04783,0.02175,0.04499,0.01939,0.02793,0.0256,0.01897,0.01332,0.01371,0.01842,0.02637,0.01772,0.01482,0.02266,0.01502,0.01391,0.01365,0.0168,0.01177,0.01537,0.01916,0.01298,0.02383,0.01263,0.0159,0.01341,0.01185,0.01226,0.01898,0.0172,0.01995,0.02598,0.02186,0.03476,0.01962,0.01266,0.02158,0.01677,0.02401,0.02292,0.01467,0.01394,0.01365,0.02062,0.01936,0.01884,0.02337,0.009947,0.01282,0.01411,0.02747,0.01013,0.01144,0.01367,0.03504,0.0203,0.02593,0.02728,0.01536,0.01692,0.01924,0.01798,0.01419,0.02678,0.02358,0.0193,0.01344,0.01528,0.01435,0.02921,0.01623,0.01388,0.01878,0.02571,0.01872,0.01619,0.03418,0.03416,0.04077,0.01522,0.02625,0.01792,0.01374,0.02154,0.02941,0.01575,0.01103,0.03464,0.01884,0.0274,0.02736,0.01791,0.01894,0.03194,0.01344,0.02701,0.0148,0.01422,0.02349,0.01494,0.01731,0.02032,0.06146,0.01393,0.01977,0.01275,0.03491,0.03433,0.02719,0.02193,0.01202,0.02768,0.01333,0.02057,0.01416,0.01466,0.01536,0.04022,0.01467,0.02751,0.04243,0.017,0.01939,0.01829,0.01639,0.02168,0.021,0.01479,0.01873,0.0175,0.02348,0.03756,0.01953,0.03675,0.01982,0.02163,0.01755,0.02734,0.02216,0.05543,0.02335,0.0212,0.03102,0.02639,0.0286,0.01544,0.02837,0.01942,0.02043,0.01829,0.01909,0.01694,0.01291,0.01445,0.0371,0.01938,0.01263,0.01518,0.03197,0.01647,0.01675,0.01276,0.01943,0.01934,0.01617,0.01442,0.01818,0.01738,0.02108,0.0188,0.0247,0.01838,0.01461,0.0174,0.01921,0.01647,0.01219,0.02768,0.01938,0.01865,0.01852,0.02045,0.02015,0.01719,0.01315,0.01869,0.01191,0.01477,0.01591,0.01096,0.02632,0.0187,0.0297,0.02079,0.015,0.02669,0.01414,0.02578,0.01341,0.01718,0.01951,0.01906,0.03151,0.02258,0.03044,0.02018,0.01713,0.02694,0.01868,0.02653,0.01848,0.01581,0.031,0.01445,0.02161,0.01844,0.02009,0.0194,0.01499,0.02187,0.02451,0.02383,0.01551,0.01223,0.02223,0.02005,0.02014,0.01171,0.01516,0.01594,0.01227,0.01717,0.01295,0.02094,0.01237,0.02254,0.01394,0.01029,0.02354,0.01641,0.01745,0.02207,0.01608,0.01564,0.02475,0.01347,0.01215,0.01574,0.02045,0.01697,0.01414,0.02124,0.01093,0.01526,0.01561,0.02693,0.01673,0.01807,0.0196,0.02047,0.01148,0.03141,0.01212,0.01601,0.0161,0.01316,0.01843,0.02773,0.01454,0.01062,0.01698,0.01285,0.01175,0.03232,0.01254,0.01717,0.02152,0.01961,0.01608,0.01302,0.02897,0.02869,0.02086,0.01959,0.01759,0.01536,0.01617,0.01117,0.01055,0.02434,0.02801,0.02201,0.02542,0.02632,0.0132,0.0222,0.01344,0.02105,0.0226,0.0158,0.01705,0.01539,0.01152,0.02434,0.01559,0.01057,0.01816,0.01805,0.03997,0.01879,0.01487,0.0187,0.01824,0.01592,0.01354,0.01129,0.01715,0.01962,0.01835,0.01449,0.01054,0.02816,0.01322,0.01948,0.01451,0.0156,0.02882,0.02105,0.0184,0.02068,0.0187,0.01724,0.0149,0.02087,0.0156,0.02277,0.02203,0.02466,0.03004,0.02912,0.01897,0.03759,0.01695,0.01843,0.02572,0.03004,0.01638,0.01488,0.0208,0.01989,0.02137,0.02057,0.01114,0.01898,0.01318,0.02324,0.02676]},{\"axis\":{\"matches\":true},\"label\":\"fractal dimension se\",\"values\":[0.006193,0.003532,0.004571,0.009208,0.005115,0.005082,0.002179,0.005412,0.003749,0.01008,0.003042,0.004144,0.01284,0.003002,0.008093,0.005466,0.002085,0.004142,0.001997,0.0023,0.002425,0.002968,0.004394,0.001987,0.002801,0.007444,0.003711,0.004217,0.002967,0.003742,0.00456,0.005667,0.003854,0.003896,0.003817,0.002665,0.004022,0.001777,0.001754,0.003187,0.001286,0.00304,0.007646,0.003317,0.00172,0.003535,0.002582,0.003643,0.002422,0.001956,0.001769,0.002551,0.002635,0.005126,0.001629,0.002386,0.002608,0.004108,0.00299,0.002788,0.005953,0.003048,0.006113,0.005822,0.003601,0.003224,0.004237,0.002146,0.009559,0.001906,0.001698,0.02193,0.006299,0.00313,0.002304,0.001948,0.006164,0.007054,0.005987,0.002848,0.003976,0.004603,0.005893,0.01039,0.002607,0.003755,0.003249,0.003337,0.004463,0.004841,0.002893,0.002142,0.001435,0.001817,0.00352,0.004411,0.003408,0.005667,0.002551,0.004452,0.002355,0.0041,0.001532,0.00357,0.003451,0.007098,0.00384,0.001356,0.005037,0.002477,0.004638,0.005891,0.01298,0.006792,0.003806,0.003856,0.005601,0.003884,0.005984,0.001902,0.002206,0.00457,0.009875,0.002808,0.004076,0.001708,0.001465,0.002686,0.004984,0.003224,0.004143,0.002461,0.002373,0.00233,0.002205,0.002629,0.003707,0.001588,0.002887,0.003442,0.00322,0.003434,0.003526,0.001887,0.00236,0.009423,0.004635,0.009368,0.002528,0.001976,0.001533,0.01178,0.02984,0.001619,0.003479,0.002484,0.004968,0.001519,0.00253,0.002665,0.005061,0.003362,0.003318,0.005348,0.00374,0.00152,0.00212,0.003493,0.00512,0.001706,0.002248,0.001868,0.004168,0.004785,0.001002,0.003399,0.01792,0.004584,0.0009683,0.003351,0.002747,0.005295,0.00243,0.004784,0.002575,0.00347,0.001087,0.001671,0.001988,0.001725,0.01172,0.005875,0.001688,0.005672,0.004312,0.002152,0.004306,0.005036,0.003397,0.001976,0.003338,0.002658,0.005195,0.004506,0.003586,0.002881,0.002472,0.002581,0.004198,0.001656,0.002365,0.002922,0.004476,0.01256,0.004768,0.00456,0.004775,0.004613,0.004045,0.002256,0.002735,0.002918,0.003761,0.003131,0.002496,0.001463,0.002821,0.003204,0.003407,0.005617,0.002336,0.002052,0.002534,0.002887,0.00354,0.002925,0.003053,0.003933,0.003589,0.002759,0.001794,0.00136,0.008675,0.003087,0.003949,0.00356,0.00225,0.007555,0.002619,0.002784,0.005002,0.001461,0.007259,0.002362,0.00255,0.002695,0.005252,0.00866,0.006042,0.003359,0.001892,0.001578,0.005838,0.001345,0.001575,0.002299,0.003318,0.003009,0.002157,0.00761,0.001381,0.002817,0.004614,0.004261,0.002751,0.003002,0.001627,0.001676,0.001126,0.001593,0.003446,0.002005,0.001965,0.004081,0.003696,0.002015,0.008015,0.002081,0.006517,0.002928,0.02286,0.002815,0.004726,0.001784,0.001392,0.001802,0.003428,0.002758,0.001957,0.001971,0.004787,0.004651,0.005928,0.003317,0.003411,0.002211,0.002585,0.002153,0.001566,0.002273,0.001661,0.0008948,0.004392,0.001952,0.00682,0.001344,0.0009502,0.002451,0.007877,0.002961,0.007596,0.001589,0.003107,0.003345,0.002065,0.001784,0.002476,0.001755,0.002789,0.006187,0.003121,0.004572,0.001963,0.00203,0.002222,0.003733,0.005701,0.004445,0.002778,0.003118,0.003373,0.004031,0.002917,0.003288,0.0031,0.006758,0.002754,0.002783,0.003009,0.003114,0.002668,0.00733,0.003385,0.004867,0.004831,0.004205,0.005715,0.002087,0.004174,0.002713,0.001058,0.001956,0.002133,0.002001,0.002074,0.001906,0.004286,0.00196,0.001803,0.003796,0.004085,0.001767,0.004367,0.001711,0.002177,0.003696,0.0122,0.001684,0.004868,0.004435,0.003721,0.001941,0.007358,0.006884,0.002613,0.002871,0.004622,0.00197,0.01233,0.00624,0.002371,0.006736,0.004232,0.004028,0.001798,0.001444,0.002464,0.004067,0.003537,0.003071,0.005099,0.001857,0.003705,0.001972,0.001432,0.002701,0.001621,0.007731,0.003336,0.002267,0.001659,0.002198,0.004583,0.004015,0.00175,0.002272,0.00459,0.005815,0.004414,0.00206,0.003339,0.005444,0.001982,0.003956,0.004225,0.002411,0.00483,0.00269,0.002377,0.00118,0.005784,0.006005,0.004005,0.004515,0.002168,0.002846,0.002378,0.00283,0.002326,0.002104,0.004976,0.003739,0.002564,0.004492,0.002436,0.003674,0.002556,0.001971,0.002327,0.002205,0.008925,0.001807,0.004302,0.003563,0.001638,0.002985,0.002128,0.001828,0.001514,0.002268,0.004417,0.004558,0.001892,0.002768,0.001672,0.008133,0.00323,0.002979,0.0113,0.005217,0.003913,0.003883,0.002379,0.003136,0.004672,0.002289,0.002744,0.002095,0.003614,0.006355,0.001858,0.002217,0.002787,0.001524,0.002256,0.009627,0.001219,0.003211,0.003213,0.0017,0.002399,0.001309,0.003996,0.004821,0.002701,0.001812,0.003563,0.001541,0.005255,0.003727,0.003237,0.006995,0.00248,0.002897,0.01045,0.01148,0.003813,0.008313,0.002569,0.006,0.006822,0.001779,0.004005,0.002281,0.001718,0.001217,0.002725,0.003391,0.003299,0.003629,0.003901,0.00476,0.002295,0.003747,0.003494,0.003925,0.001787,0.001366,0.005528,0.002234,0.002318,0.002671,0.001697,0.002719,0.003534,0.002689,0.003756,0.005824,0.006872,0.007551,0.005512,0.006111,0.002626,0.001343,0.003599,0.002583,0.002606,0.00589,0.004154,0.002977,0.002228,0.004723,0.001726,0.004623,0.002801,0.004938,0.002278,0.003324,0.004406,0.004738,0.005304,0.001773,0.006142,0.006213,0.004239,0.002498,0.003892,0.006185,0.002783]},{\"axis\":{\"matches\":true},\"label\":\"radius worst\",\"values\":[25.38,24.99,23.57,14.91,22.54,15.47,22.88,17.06,15.49,15.09,19.19,20.42,20.96,16.84,15.03,17.46,19.07,20.96,27.32,15.11,14.5,10.23,18.07,29.17,26.46,22.25,17.62,21.31,20.27,20.01,23.15,16.82,20.88,24.15,20.21,20.01,15.89,13.3,14.99,15.53,15.93,12.84,24.09,17.38,16.23,22.82,8.964,15.67,13.76,15.15,12.98,14.67,13.1,20.6,18.1,12.84,26.14,17.87,14.23,9.507,11.02,9.565,17.67,10.01,17.09,17.31,10.41,12.33,10.31,13.46,24.86,9.733,23.32,16.57,14.11,19.77,14.08,22.39,23.37,14.24,13.11,15.53,30.0,20.33,13.67,22.93,16.21,24.56,13.83,16.34,16.11,16.43,16.36,15.1,18.23,24.22,12.83,10.92,13.06,16.33,16.99,7.93,13.34,10.76,11.54,16.31,13.14,13.29,28.4,13.01,11.05,13.33,15.3,11.16,9.628,13.67,9.414,18.81,20.19,20.58,12.82,22.25,26.02,15.7,14.26,15.49,16.89,22.32,16.11,22.63,13.34,19.26,19.47,17.5,22.52,14.49,13.33,12.32,18.55,11.92,10.62,19.92,12.78,14.48,11.95,13.15,13.74,16.25,15.85,15.34,14.16,9.092,11.02,11.99,14.77,13.59,20.47,18.22,13.14,12.36,13.32,22.03,26.73,13.58,28.01,15.98,11.6,20.05,23.14,16.11,13.5,17.98,18.79,11.35,11.54,9.262,11.26,17.79,14.0,13.63,33.12,26.68,20.11,12.37,17.8,11.87,21.31,13.01,12.57,13.35,15.74,13.75,9.968,15.65,16.08,13.88,16.39,19.76,23.36,18.33,14.44,20.42,25.12,19.2,14.97,17.77,10.42,19.8,14.55,17.38,23.24,13.3,28.11,18.07,16.86,15.75,13.25,11.48,25.73,27.9,15.34,14.98,11.17,19.56,15.14,16.77,11.52,16.41,14.2,15.2,19.59,12.08,12.36,24.47,10.51,15.33,31.01,24.22,15.75,22.51,14.85,13.2,12.58,15.01,21.65,11.48,13.94,14.39,12.25,12.65,25.58,12.97,25.28,19.85,25.7,16.39,25.05,17.73,19.85,18.49,24.33,19.85,20.39,17.91,21.58,32.49,11.88,14.8,13.9,11.69,14.91,12.32,28.19,10.75,20.92,12.4,12.2,19.96,15.5,14.98,23.72,13.31,23.79,18.55,13.9,13.5,13.24,13.62,11.86,12.36,15.77,16.25,13.74,13.06,13.5,14.67,11.37,13.36,16.22,10.93,25.93,13.46,23.68,11.06,12.68,12.44,14.41,9.699,14.97,14.73,12.61,16.46,14.19,12.34,8.952,13.34,12.85,21.84,10.06,12.9,11.28,23.06,14.04,25.3,13.75,13.71,15.53,13.07,19.28,17.73,18.76,14.42,11.98,12.76,13.35,20.99,13.72,24.54,11.16,30.67,16.67,10.75,11.92,22.75,13.06,10.88,13.64,17.27,12.51,12.81,13.28,17.36,33.13,18.51,12.12,13.37,14.19,15.11,9.981,12.02,13.72,14.2,13.75,18.13,14.73,24.31,24.19,14.29,30.75,27.66,19.38,16.2,22.69,25.37,14.84,16.97,10.85,14.69,14.54,13.24,12.84,12.09,12.57,14.18,14.24,15.79,13.13,15.51,12.04,20.82,11.38,10.17,21.2,26.23,13.56,14.92,14.8,13.74,12.68,13.45,20.8,13.8,14.13,13.86,13.18,12.4,17.71,14.4,21.08,14.1,13.05,12.41,9.965,16.76,17.26,13.05,10.85,23.17,13.65,12.36,13.07,16.46,12.64,15.14,11.21,11.11,12.13,12.76,11.68,13.82,16.35,12.88,22.03,22.66,16.31,17.04,14.45,15.66,15.63,14.91,12.36,20.38,15.27,10.94,20.38,12.98,21.53,16.43,16.3,25.68,12.79,21.44,13.09,15.8,14.34,15.05,13.12,14.35,14.34,10.67,22.96,36.04,15.4,12.77,14.9,15.44,14.8,11.15,21.57,13.36,11.14,13.6,17.18,13.45,11.94,14.09,16.45,15.14,12.4,17.39,13.34,16.41,14.83,14.96,17.01,13.78,16.46,23.96,13.32,19.18,14.17,19.82,21.53,13.19,14.5,16.01,14.38,14.06,22.75,23.86,16.76,16.01,13.57,30.79,10.28,10.6,13.16,11.69,17.32,17.11,12.45,15.61,16.41,16.76,17.58,12.47,21.86,23.73,15.05,14.45,10.57,29.92,11.93,15.11,11.24,9.473,15.35,13.61,14.62,13.45,13.5,13.35,15.85,23.23,11.62,24.3,15.29,12.98,9.077,8.678,12.26,16.22,16.51,14.37,15.05,15.35,11.25,10.83,10.93,13.03,11.66,12.02,13.87,9.845,13.89,10.84,10.65,10.49,15.48,12.48,15.3,11.92,17.52,24.29,25.45,23.69,18.98,25.74,9.456]},{\"axis\":{\"matches\":true},\"label\":\"texture worst\",\"values\":[17.33,23.41,25.53,26.5,16.67,23.75,27.66,28.14,30.73,40.68,33.88,27.28,29.94,27.66,32.01,37.13,30.88,31.48,30.88,19.26,20.49,15.66,19.08,35.59,31.56,21.4,33.21,27.26,36.71,19.52,34.01,28.12,32.09,30.9,27.26,29.02,30.36,22.81,25.2,26.02,30.25,35.34,33.17,28.0,29.89,21.32,21.96,27.95,20.7,31.82,25.72,23.19,21.33,24.13,31.69,22.47,28.14,30.7,22.25,15.4,17.45,27.04,29.51,19.23,33.47,33.39,31.56,23.84,22.65,19.76,26.58,15.67,33.82,20.86,23.21,24.56,12.49,18.91,31.72,24.82,32.16,23.19,33.62,32.72,24.9,27.68,29.25,30.41,30.5,18.24,29.11,25.84,22.35,25.94,24.23,31.59,20.92,26.29,17.16,30.86,35.27,19.54,32.84,26.83,23.31,22.4,29.26,27.49,28.01,29.15,21.47,25.47,23.73,22.75,19.62,26.15,17.07,27.37,30.5,27.83,15.97,24.9,23.99,15.98,22.75,23.58,35.64,25.73,18.33,33.58,17.81,26.0,31.68,19.25,31.39,33.37,25.48,22.02,21.43,15.77,14.1,25.27,26.76,21.82,20.72,16.51,26.38,25.47,19.85,22.46,24.11,29.72,19.49,16.3,20.5,25.22,25.11,28.07,18.41,18.2,26.21,17.81,26.39,28.68,28.22,25.82,12.02,26.3,32.33,23.0,15.64,29.87,17.04,16.82,19.2,17.04,24.39,28.45,29.02,16.15,32.85,33.48,32.82,17.7,28.03,21.18,26.36,21.39,26.48,19.59,37.18,23.5,20.83,39.34,27.78,22.0,34.01,24.7,32.06,30.12,28.36,25.84,32.68,41.85,24.64,20.24,23.22,25.05,29.16,15.92,27.84,24.99,18.47,28.07,34.85,26.93,27.1,24.47,28.64,45.41,16.35,17.13,22.84,30.29,23.6,16.9,19.8,19.31,31.31,30.15,24.89,33.75,41.78,37.38,19.16,30.28,34.51,26.17,40.54,44.87,19.05,20.37,27.96,26.34,30.53,29.46,27.82,17.7,35.19,21.19,27.0,22.46,25.59,25.09,24.57,22.07,36.27,22.66,31.64,49.54,39.16,31.47,27.24,31.67,29.33,47.16,22.94,30.04,23.64,25.21,20.65,16.18,28.18,20.88,34.69,18.99,18.99,24.3,26.1,21.74,35.9,18.26,28.65,25.09,19.69,23.08,27.29,15.54,22.33,26.14,22.13,26.19,19.93,25.75,17.48,16.93,14.82,23.39,25.26,24.22,26.24,23.07,29.43,24.54,21.61,31.62,20.45,20.07,16.94,17.4,26.55,21.75,16.4,12.87,22.44,19.71,16.47,25.0,23.4,20.21,20.61,23.03,21.08,31.86,21.38,21.1,18.0,22.25,30.38,25.21,21.98,21.95,25.78,22.06,28.46,33.15,16.91,34.37,26.84,30.73,21.51,23.07,19.9,34.66,18.16,19.48,27.06,17.93,20.79,17.72,19.74,24.17,23.58,33.22,15.82,22.43,24.85,25.58,17.7,25.02,20.98,29.2,25.99,25.45,21.7,26.37,33.81,24.04,26.44,25.8,31.03,15.73,21.84,23.17,20.21,19.14,22.82,35.63,19.64,32.82,20.53,20.83,28.71,23.13,17.37,31.71,19.29,19.97,18.93,30.44,15.65,22.8,29.41,28.74,25.8,25.34,27.2,21.06,20.35,24.49,27.78,20.14,24.61,23.02,16.85,25.58,19.58,27.01,25.41,28.88,36.32,26.44,27.99,31.55,36.91,27.21,31.24,27.65,16.92,28.92,26.98,18.34,19.67,25.5,23.17,28.94,21.57,32.04,20.29,20.96,27.57,22.91,25.07,30.93,20.54,30.8,24.38,21.58,28.01,19.31,26.87,35.46,17.5,23.31,22.02,30.36,38.54,22.74,28.39,32.07,28.18,30.96,37.88,16.93,22.15,41.61,38.81,34.23,31.88,36.92,34.49,31.37,31.98,24.02,23.89,25.5,25.46,24.62,28.87,25.4,25.62,33.33,18.22,38.05,19.35,19.35,27.26,21.8,21.9,23.05,27.87,26.42,18.32,23.53,14.2,21.03,25.44,30.39,21.59,26.56,31.99,18.42,26.06,16.36,28.46,28.48,22.15,24.34,22.88,30.76,20.43,32.94,21.4,23.87,16.38,18.04,24.17,20.74,17.76,36.33,17.6,17.58,29.66,17.24,28.06,23.03,26.2,25.23,24.37,21.74,17.84,26.93,26.43,25.63,22.99,18.45,25.16,19.27,15.38,15.77,27.98,28.81,20.2,27.15,26.51,25.48,34.27,32.19,30.92,31.89,19.68,31.73,32.29,37.17,24.75,29.09,21.77,22.04,25.59,31.45,24.77,28.26,36.0,25.05,35.74,34.91,22.88,34.24,27.27,37.16,33.17,38.3,42.79,29.41,26.4,38.25,34.12,39.42,30.37]},{\"axis\":{\"matches\":true},\"label\":\"perimeter worst\",\"values\":[184.6,158.8,152.5,98.87,152.2,103.4,153.2,110.6,106.2,97.65,123.8,136.5,151.7,112.0,108.8,124.1,123.4,136.8,186.8,99.7,96.09,65.13,125.1,188.0,177.0,152.4,122.4,139.9,149.3,134.9,160.5,119.4,136.1,161.4,132.7,133.5,116.2,84.46,95.54,107.3,102.5,87.22,177.4,113.1,105.5,150.6,57.26,102.8,89.88,99.0,82.98,96.08,83.67,135.1,117.7,81.81,170.1,115.7,90.24,59.9,69.86,62.06,119.1,65.59,111.8,114.6,67.03,78.0,65.5,85.67,165.9,62.56,151.6,110.3,89.71,128.8,91.36,150.1,170.3,91.88,84.53,96.66,211.7,141.3,87.78,152.2,108.4,152.9,91.46,109.4,102.9,107.5,104.5,97.59,123.5,156.1,82.14,68.81,82.96,109.5,108.6,50.41,84.58,72.22,74.22,106.4,85.51,85.56,206.8,83.99,71.68,89.0,107.0,72.62,64.48,87.54,63.34,127.1,130.3,129.2,83.74,145.4,180.9,102.8,91.99,100.3,113.2,148.2,105.9,148.7,91.38,124.9,129.7,114.3,145.6,92.04,86.16,79.93,121.4,76.53,66.53,129.0,82.66,97.17,77.79,86.26,91.93,107.1,108.6,97.19,90.82,58.08,71.04,76.25,97.67,86.6,132.9,120.3,84.08,78.07,88.91,146.6,174.9,87.36,184.2,102.3,73.66,130.7,155.3,104.6,86.97,116.6,125.0,72.01,73.2,58.36,73.07,123.5,88.18,86.7,220.8,176.5,129.3,79.12,113.8,75.39,139.2,84.42,79.57,86.65,106.4,89.04,62.25,101.7,118.6,90.81,111.6,129.1,166.4,117.9,92.15,139.5,177.0,128.5,96.05,117.7,67.08,130.0,99.48,113.7,158.3,85.22,188.5,120.4,115.0,104.4,86.2,75.4,170.3,180.2,99.71,101.1,71.94,125.9,98.84,110.4,73.47,114.2,90.67,105.3,133.5,79.82,78.44,162.7,65.74,98.27,206.0,161.7,102.5,141.2,94.11,83.85,87.16,98.0,144.9,73.68,88.28,105.0,77.98,80.88,165.3,83.12,159.8,130.9,163.1,108.1,178.6,119.8,143.7,126.3,162.3,128.2,137.9,115.9,140.5,214.0,78.28,97.66,89.27,76.51,94.44,78.27,195.9,68.09,135.1,79.46,77.37,129.0,98.91,98.37,159.8,84.7,152.4,126.9,92.12,85.56,92.2,87.4,78.27,79.29,101.7,109.1,88.81,84.35,88.54,94.17,72.42,85.1,105.8,70.1,171.1,88.13,158.8,70.76,82.69,81.39,92.0,60.9,95.48,93.96,80.92,103.7,92.04,81.23,56.65,84.48,81.6,140.9,68.62,81.76,71.53,150.2,92.8,171.1,91.11,88.7,98.4,82.74,129.8,113.7,124.3,99.21,76.91,82.08,84.53,143.2,87.38,161.1,71.98,202.4,111.4,71.25,79.76,157.6,84.16,70.89,86.54,114.2,79.67,83.09,83.61,119.4,229.3,121.2,79.62,89.02,94.22,96.74,65.27,75.79,86.82,92.94,87.82,117.2,93.76,161.2,160.0,93.85,199.5,195.0,129.3,104.5,152.1,166.8,99.16,113.1,76.51,97.11,97.96,91.76,84.93,79.73,87.36,95.23,96.59,102.2,87.65,99.66,79.73,142.0,73.23,64.01,142.1,172.0,88.33,96.42,97.33,90.72,80.79,86.0,149.6,87.64,96.31,89.69,84.11,82.76,115.9,91.63,138.1,89.0,85.07,79.93,66.61,110.2,110.1,85.09,68.73,157.1,88.12,79.26,86.43,114.1,81.93,101.4,71.79,69.92,81.41,83.69,74.35,88.87,125.4,89.61,146.0,145.3,102.3,113.9,95.14,101.2,100.9,96.53,90.14,132.8,97.9,69.35,133.3,84.48,145.4,105.9,108.1,168.2,83.51,139.8,85.07,103.1,91.62,96.69,86.04,91.29,91.06,68.03,152.1,251.2,100.4,82.68,95.1,115.0,100.9,71.11,143.6,88.14,70.88,87.24,112.0,85.08,80.78,93.22,112.1,101.2,82.04,122.1,88.83,104.4,94.94,95.78,112.5,97.82,106.0,153.9,86.57,127.3,92.74,127.1,143.4,83.24,95.29,103.9,95.29,92.82,146.4,163.2,109.7,106.0,86.67,211.5,69.05,69.47,85.13,76.08,109.8,117.7,81.25,101.7,113.3,108.5,113.8,79.15,142.2,160.5,99.31,93.63,67.84,205.7,76.38,99.43,74.32,63.3,101.9,87.22,94.52,86.92,88.52,87.0,101.6,152.0,76.43,160.2,104.3,86.12,57.17,54.49,78.78,113.5,107.4,92.48,99.17,97.58,71.12,71.08,69.1,83.9,74.08,77.8,88.1,62.86,88.84,69.57,67.88,66.5,105.9,82.28,100.2,75.19,128.7,179.1,166.1,155.0,126.7,184.6,59.16]},{\"axis\":{\"matches\":true},\"label\":\"area worst\",\"values\":[2019.0,1956.0,1709.0,567.7,1575.0,741.6,1606.0,897.0,739.3,711.4,1150.0,1299.0,1332.0,876.5,697.7,943.2,1138.0,1315.0,2398.0,711.2,630.5,314.9,980.9,2615.0,2215.0,1461.0,896.9,1403.0,1269.0,1227.0,1670.0,888.7,1344.0,1813.0,1261.0,1229.0,799.6,545.9,698.8,740.4,787.9,514.0,1651.0,907.2,740.7,1567.0,242.2,759.4,582.6,698.8,516.5,656.7,527.2,1321.0,1030.0,506.2,2145.0,985.5,624.1,274.9,368.6,273.9,959.5,310.1,888.3,925.1,330.7,466.7,324.7,554.9,1866.0,284.4,1681.0,812.4,611.1,1223.0,605.5,1610.0,1623.0,622.1,525.1,614.9,2562.0,1298.0,567.9,1603.0,808.9,1623.0,574.7,803.6,803.7,830.9,830.6,699.4,1025.0,1750.0,495.2,366.1,512.5,826.4,906.5,185.2,547.8,361.2,402.8,827.2,521.7,544.1,2360.0,518.1,367.0,527.4,709.0,374.4,284.4,583.0,270.0,1095.0,1272.0,1261.0,510.5,1549.0,2073.0,745.5,632.1,725.9,848.7,1538.0,762.6,1589.0,545.2,1156.0,1175.0,922.8,1590.0,653.6,546.7,462.0,971.4,434.0,342.9,1233.0,503.0,643.8,441.2,509.6,591.7,809.7,766.9,725.9,616.7,249.8,380.5,440.8,677.3,564.2,1302.0,1032.0,532.8,470.0,543.9,1495.0,2232.0,553.0,2403.0,782.1,414.0,1260.0,1660.0,793.7,549.1,993.6,1102.0,396.5,408.3,259.2,390.2,981.2,608.8,570.7,3216.0,2089.0,1269.0,467.2,973.1,437.0,1410.0,521.5,489.5,546.7,762.4,579.5,303.8,768.9,784.7,600.6,806.9,1228.0,1688.0,1044.0,638.4,1239.0,1986.0,1153.0,677.9,989.5,331.6,1210.0,639.3,932.7,1656.0,546.3,2499.0,1021.0,811.3,750.1,531.2,403.7,2009.0,2477.0,706.2,686.6,375.6,1088.0,708.8,873.2,395.4,808.2,624.0,706.0,1189.0,452.3,470.9,1872.0,335.9,715.5,2944.0,1750.0,764.0,1408.0,683.4,543.4,472.9,706.0,1417.0,402.8,602.0,639.1,455.7,491.8,2010.0,508.9,1933.0,1222.0,1972.0,826.0,1926.0,928.8,1226.0,1035.0,1844.0,1218.0,1295.0,988.6,1436.0,3432.0,424.8,661.5,597.5,410.4,684.6,457.5,2384.0,355.2,1320.0,472.4,458.0,1236.0,739.1,670.0,1724.0,533.7,1628.0,1031.0,595.6,564.1,546.1,577.0,437.6,459.3,767.3,809.8,585.4,517.8,553.7,661.1,392.2,553.6,819.7,362.7,2053.0,551.3,1696.0,375.4,489.8,476.5,636.9,285.5,698.7,672.4,483.1,840.8,618.8,467.8,240.1,544.2,513.1,1485.0,297.1,515.9,390.4,1657.0,599.5,1938.0,583.1,574.4,749.9,523.4,1121.0,975.2,1070.0,634.3,436.1,492.7,544.3,1362.0,576.0,1873.0,384.0,2906.0,862.1,353.6,440.0,1540.0,516.4,357.1,562.6,880.8,475.8,496.2,542.5,915.3,3234.0,1050.0,453.5,547.4,591.2,694.4,302.0,439.6,585.7,621.2,579.7,1009.0,663.5,1780.0,1671.0,624.6,3143.0,2227.0,1165.0,819.1,1535.0,1946.0,670.6,861.5,351.9,680.6,657.0,508.1,476.1,447.1,488.4,600.5,623.7,758.2,529.9,745.3,450.0,1313.0,394.5,317.0,1359.0,2081.0,559.5,684.5,675.2,591.0,496.7,562.0,1304.0,589.5,621.9,580.9,533.1,472.4,947.9,645.8,1349.0,610.2,521.3,471.4,301.0,867.1,931.4,522.9,359.4,1748.0,566.9,458.0,520.5,809.2,475.7,708.8,380.9,376.3,440.4,489.5,421.1,586.8,832.7,515.8,1479.0,1603.0,777.5,869.3,626.9,750.0,749.1,688.9,476.4,1284.0,706.6,366.3,1292.0,513.9,1437.0,829.5,830.5,2022.0,507.2,1421.0,523.7,749.9,633.5,705.6,527.8,632.9,628.5,349.9,1648.0,4254.0,734.6,495.1,687.6,733.5,689.1,380.2,1437.0,528.1,385.2,567.6,906.6,558.9,433.1,605.8,828.5,718.9,467.6,939.7,547.4,830.5,660.2,686.5,854.3,580.6,831.0,1740.0,549.8,1084.0,622.9,1210.0,1426.0,534.0,648.3,783.6,633.7,607.3,1600.0,1760.0,856.9,788.0,552.0,2782.0,300.2,328.1,515.3,411.1,928.2,909.4,473.8,760.2,844.4,862.0,967.0,478.6,1493.0,1646.0,674.7,624.1,326.6,2642.0,435.9,701.9,376.5,275.6,719.8,564.9,653.3,549.9,552.3,550.6,773.4,1645.0,407.5,1809.0,728.3,487.7,248.0,223.6,457.8,808.9,826.4,629.6,688.6,729.8,384.9,357.4,364.2,505.6,412.3,436.6,594.7,295.8,595.7,357.6,347.3,330.6,733.5,474.2,706.7,439.6,915.0,1819.0,2027.0,1731.0,1124.0,1821.0,268.6]},{\"axis\":{\"matches\":true},\"label\":\"smoothness worst\",\"values\":[0.1622,0.1238,0.1444,0.2098,0.1374,0.1791,0.1442,0.1654,0.1703,0.1853,0.1181,0.1396,0.1037,0.1131,0.1651,0.1678,0.1464,0.1789,0.1512,0.144,0.1312,0.1324,0.139,0.1401,0.1805,0.1545,0.1525,0.1338,0.1641,0.1255,0.1491,0.1637,0.1634,0.1509,0.1446,0.1563,0.1446,0.09701,0.09387,0.161,0.1094,0.1909,0.1247,0.153,0.1503,0.1679,0.1297,0.1786,0.1494,0.1162,0.1085,0.1089,0.1144,0.128,0.1389,0.1249,0.1624,0.1368,0.1021,0.1733,0.1275,0.1639,0.164,0.09836,0.1851,0.1648,0.1548,0.129,0.1482,0.1296,0.1193,0.1207,0.1585,0.1411,0.1176,0.15,0.1451,0.1478,0.1639,0.1289,0.1557,0.1536,0.1573,0.1392,0.1377,0.1398,0.1306,0.1249,0.1304,0.1277,0.1115,0.1257,0.1006,0.1339,0.1551,0.119,0.114,0.1316,0.1431,0.1431,0.1265,0.1584,0.1123,0.1559,0.1219,0.1862,0.1688,0.1184,0.1701,0.1699,0.1467,0.1287,0.08949,0.13,0.1724,0.15,0.1179,0.1878,0.1855,0.1072,0.1548,0.1503,0.1696,0.1313,0.1025,0.1157,0.1471,0.1021,0.1386,0.1275,0.1427,0.1546,0.1395,0.1223,0.1465,0.1419,0.1271,0.119,0.1411,0.1367,0.1234,0.1314,0.1413,0.1312,0.1076,0.1424,0.1385,0.0997,0.1316,0.09711,0.1297,0.163,0.1292,0.1341,0.1478,0.1217,0.1418,0.08774,0.1275,0.1171,0.1358,0.1124,0.1438,0.1452,0.1228,0.1045,0.1436,0.1168,0.1376,0.1216,0.1385,0.1401,0.1531,0.1216,0.1076,0.1162,0.1301,0.1415,0.08125,0.1162,0.1472,0.1491,0.1414,0.1121,0.1301,0.1521,0.1234,0.1323,0.1356,0.1096,0.1533,0.09388,0.07117,0.1785,0.1316,0.1097,0.1737,0.08822,0.1322,0.1552,0.1429,0.1381,0.1536,0.2226,0.1426,0.1491,0.1415,0.1111,0.1349,0.1222,0.1178,0.128,0.1142,0.1243,0.1559,0.146,0.1405,0.09527,0.1353,0.1408,0.1311,0.1376,0.1406,0.1552,0.1276,0.1297,0.1341,0.1136,0.1227,0.1777,0.1703,0.09203,0.09994,0.1223,0.1504,0.1287,0.1481,0.1228,0.1081,0.1365,0.1278,0.1037,0.1347,0.09368,0.1463,0.1515,0.1101,0.1254,0.1499,0.1389,0.1211,0.1183,0.171,0.1416,0.1497,0.1512,0.1281,0.1765,0.1504,0.1883,0.1522,0.124,0.1134,0.1084,0.1558,0.1401,0.1213,0.1005,0.1256,0.1335,0.08567,0.1358,0.1272,0.1467,0.1315,0.1359,0.1259,0.1243,0.105,0.1185,0.1782,0.1036,0.1518,0.1365,0.09926,0.1038,0.1116,0.09616,0.1028,0.1118,0.09983,0.1313,0.1483,0.1369,0.1298,0.117,0.09312,0.1137,0.09445,0.1143,0.1495,0.105,0.1347,0.1413,0.1144,0.09545,0.1128,0.09861,0.09023,0.1016,0.1223,0.1011,0.1194,0.1092,0.1347,0.1104,0.1001,0.1434,0.1221,0.08409,0.1402,0.1054,0.1547,0.1592,0.1256,0.1384,0.1281,0.1013,0.159,0.1426,0.1435,0.1288,0.1424,0.1166,0.1222,0.1449,0.1142,0.1498,0.1402,0.1515,0.1294,0.1233,0.1418,0.1218,0.146,0.136,0.1289,0.122,0.1531,0.1293,0.09958,0.155,0.153,0.166,0.08864,0.1096,0.1343,0.1153,0.1015,0.1333,0.09293,0.114,0.1298,0.1338,0.1213,0.1327,0.1278,0.1368,0.1363,0.1294,0.1415,0.1126,0.1192,0.1562,0.1105,0.1235,0.1143,0.1108,0.1275,0.2184,0.161,0.1095,0.08799,0.1427,0.1166,0.1312,0.1026,0.08484,0.1102,0.1251,0.1343,0.146,0.1681,0.1502,0.1432,0.1066,0.1428,0.09534,0.112,0.1244,0.1873,0.1374,0.09329,0.1172,0.1048,0.1363,0.1206,0.09402,0.1482,0.124,0.1453,0.1369,0.1086,0.1077,0.1148,0.1426,0.1526,0.1517,0.1314,0.1282,0.1249,0.1312,0.1415,0.1147,0.1398,0.1126,0.1327,0.1303,0.103,0.1068,0.1419,0.145,0.1665,0.139,0.1218,0.1613,0.1214,0.1195,0.1118,0.1034,0.1391,0.1436,0.1072,0.09794,0.1263,0.1311,0.1401,0.1226,0.1089,0.1368,0.09457,0.1528,0.1208,0.1347,0.1225,0.1172,0.1406,0.1289,0.1218,0.111,0.16,0.1357,0.1017,0.1342,0.1282,0.1201,0.1351,0.1388,0.1207,0.178,0.1234,0.1041,0.1065,0.09422,0.1332,0.1326,0.1153,0.09384,0.1352,0.1377,0.1208,0.1064,0.1393,0.1199,0.1541,0.1175,0.1142,0.1514,0.1526,0.1009,0.1256,0.09862,0.1309,0.09439,0.1118,0.1216,0.1533,0.1276,0.1412,0.1464,0.1135,0.1794,0.158,0.1199,0.1902,0.2006,0.1402,0.1662,0.1354,0.1732,0.1073,0.1139,0.1574,0.1223,0.1246,0.1483,0.1492,0.1417,0.1456,0.1475,0.185,0.1342,0.1108,0.1425,0.1419,0.1641,0.1624,0.1292,0.1394,0.1521,0.1349,0.155,0.1264,0.1097,0.1428,0.1268,0.138,0.1768,0.1256,0.1596,0.1345,0.134,0.106,0.1072,0.1264,0.1216,0.1285,0.1461,0.1199,0.1204,0.1001,0.1087,0.1234,0.1103,0.1227,0.1384,0.1265,0.1073,0.1026,0.1298,0.1241,0.09267,0.1417,0.1407,0.141,0.1166,0.1139,0.165,0.08996]},{\"axis\":{\"matches\":true},\"label\":\"compactness worst\",\"values\":[0.6656,0.1866,0.4245,0.8663,0.205,0.5249,0.2576,0.3682,0.5401,1.058,0.1551,0.5609,0.3903,0.1924,0.7725,0.6577,0.1871,0.4233,0.315,0.1773,0.2776,0.1148,0.5954,0.26,0.3578,0.3949,0.6643,0.2117,0.611,0.2812,0.4257,0.5775,0.3559,0.659,0.5804,0.3835,0.4238,0.04619,0.05131,0.4225,0.2043,0.2698,0.7444,0.3724,0.3904,0.509,0.1357,0.4166,0.2156,0.1711,0.08615,0.1582,0.08906,0.2297,0.2057,0.0872,0.3511,0.429,0.06191,0.1239,0.09866,0.1698,0.6247,0.1678,0.4061,0.3416,0.1664,0.09148,0.4365,0.07061,0.2336,0.2436,0.7394,0.3542,0.1843,0.2045,0.1379,0.5634,0.6164,0.2141,0.1676,0.4791,0.6076,0.2817,0.2003,0.2089,0.1976,0.3206,0.2463,0.3089,0.1766,0.1997,0.1238,0.1751,0.4203,0.3539,0.09358,0.09473,0.1851,0.3026,0.1943,0.1202,0.08862,0.2302,0.1486,0.4099,0.266,0.1963,0.6997,0.2196,0.1765,0.225,0.4193,0.2049,0.2364,0.2399,0.1879,0.448,0.4925,0.1202,0.239,0.2291,0.4244,0.1788,0.2531,0.135,0.2884,0.2264,0.2883,0.3861,0.2585,0.2394,0.3055,0.1949,0.2275,0.1523,0.1028,0.1648,0.2164,0.1822,0.07204,0.2236,0.1792,0.2548,0.1223,0.2517,0.4092,0.2521,0.2735,0.1824,0.1105,0.431,0.2772,0.08971,0.2256,0.1788,0.3498,0.171,0.1232,0.08294,0.1892,0.2016,0.3846,0.2338,0.3583,0.09995,0.1257,0.2119,0.383,0.1637,0.1266,0.1546,0.3583,0.0824,0.06791,0.07057,0.295,0.4667,0.03432,0.05445,0.4034,0.7584,0.3547,0.161,0.3299,0.1019,0.2445,0.104,0.1,0.165,0.9327,0.08978,0.02729,0.4706,0.4648,0.1506,0.3122,0.1963,0.5601,0.4056,0.2042,0.342,0.4167,0.5209,0.2378,0.3331,0.1247,0.1486,0.4402,0.2186,0.292,0.188,0.1516,0.1793,0.4059,0.437,0.3046,0.1397,0.3235,0.4097,0.2474,0.2698,0.144,0.448,0.1311,0.1525,0.1153,0.3627,0.3454,0.5343,0.3934,0.1432,0.06885,0.2761,0.09515,0.1513,0.4126,0.2311,0.2426,0.3735,0.1291,0.07776,0.4848,0.1442,0.2968,0.1026,0.1508,0.5849,0.1398,0.1582,0.3172,0.1049,0.5955,0.2405,0.3161,0.3262,0.5329,0.4503,0.5172,0.5564,0.2945,0.1486,0.2867,0.1807,0.2567,0.2644,0.2515,0.173,0.1808,0.255,0.05036,0.1507,0.4725,0.0937,0.1806,0.08368,0.07348,0.116,0.07622,0.1724,0.3841,0.085,0.3749,0.4706,0.2317,0.06624,0.2813,0.1147,0.1843,0.09708,0.2472,0.303,0.2068,0.1758,0.1472,0.1072,0.07506,0.07974,0.2167,0.08614,0.4116,0.2158,0.3391,0.1044,0.1789,0.1361,0.1346,0.05232,0.05836,0.05847,0.1087,0.07087,0.2208,0.1626,0.07767,0.04953,0.05332,0.2763,0.3748,0.04712,0.236,0.1537,0.2231,0.4492,0.1928,0.1212,0.1109,0.0739,0.2947,0.2116,0.4478,0.3253,0.09669,0.09794,0.09052,0.2053,0.1975,0.4827,0.1402,0.2678,0.3371,0.3416,0.221,0.3458,0.1115,0.1636,0.1352,0.2009,0.112,0.1885,0.06476,0.5046,0.5937,0.2356,0.1256,0.2002,0.2658,0.1008,0.1248,0.1049,0.04327,0.1667,0.1839,0.1679,0.1676,0.2376,0.3416,0.217,0.1628,0.3885,0.4665,0.1737,0.284,0.3055,0.2096,0.255,0.3619,0.1457,0.3104,0.9379,0.2429,0.1982,0.3214,0.3593,0.2685,0.1581,0.2431,0.1233,0.2809,0.2414,0.165,0.131,0.3913,0.5717,0.1773,0.1231,0.257,0.1812,0.1879,0.1726,0.5917,0.1575,0.2318,0.1958,0.06744,0.1644,0.1722,0.1936,0.3735,0.1795,0.1622,0.1482,0.1887,0.3345,0.09866,0.2187,0.1193,0.4002,0.1607,0.1108,0.1937,0.3635,0.217,0.3167,0.1352,0.07094,0.2996,0.1696,0.06219,0.09605,0.709,0.2629,0.2942,0.3463,0.155,0.3568,0.1652,0.1252,0.1141,0.1017,0.4082,0.4122,0.1071,0.06542,0.2666,0.1822,0.3762,0.1881,0.2649,0.3101,0.3399,0.1845,0.1856,0.1478,0.1517,0.1421,0.2031,0.1063,0.1093,0.1109,0.2444,0.4256,0.146,0.1808,0.1965,0.5646,0.3549,0.1255,0.4785,0.2878,0.1542,0.09726,0.2791,0.05213,0.3898,0.261,0.3429,0.2006,0.201,0.4462,0.2279,0.1415,0.2499,0.1346,0.2979,0.4061,0.207,0.3725,0.1477,0.292,0.1804,0.09976,0.2327,0.06477,0.1646,0.1388,0.3842,0.2506,0.3089,0.3597,0.2176,0.3966,0.1751,0.3625,0.3441,0.3663,0.2315,0.2031,0.1361,0.4967,0.2793,0.1011,0.3856,0.1928,0.2101,0.1574,0.2536,0.3309,0.2961,0.1979,0.2097,0.4188,0.07723,0.2566,0.2243,0.2235,0.3124,0.2074,0.1364,0.1632,0.1854,0.2964,0.1564,0.2534,0.251,0.3135,0.2733,0.3251,0.0834,0.3064,0.2118,0.4202,0.1376,0.1381,0.2037,0.1517,0.08842,0.2246,0.09546,0.1633,0.07348,0.1782,0.1064,0.08298,0.162,0.171,0.12,0.07158,0.3171,0.2517,0.2264,0.05494,0.7917,0.4186,0.2113,0.1922,0.3094,0.8681,0.06444]},{\"axis\":{\"matches\":true},\"label\":\"concavity worst\",\"values\":[0.7119,0.2416,0.4504,0.6869,0.4,0.5355,0.3784,0.2678,0.539,1.105,0.1459,0.3965,0.3639,0.2322,0.6943,0.7026,0.2914,0.4784,0.5372,0.239,0.189,0.08867,0.6305,0.3155,0.4695,0.3853,0.5539,0.3446,0.6335,0.2489,0.6133,0.6956,0.5588,0.6091,0.5274,0.5409,0.5186,0.04833,0.02398,0.503,0.2085,0.4023,0.7242,0.3664,0.3728,0.7345,0.0688,0.5006,0.305,0.2282,0.05523,0.105,0.09203,0.2623,0.2712,0.09076,0.3879,0.3587,0.001845,0.1168,0.02168,0.09001,0.6922,0.1397,0.4024,0.3024,0.09412,0.1444,1.252,0.1039,0.2687,0.1434,0.6566,0.2779,0.1703,0.2829,0.08539,0.3786,0.7681,0.1731,0.1755,0.4858,0.6476,0.2432,0.2267,0.3157,0.3349,0.5755,0.2434,0.2604,0.09189,0.2846,0.135,0.1381,0.5203,0.4098,0.0498,0.02049,0.1922,0.3194,0.3169,0.0,0.1145,0.2644,0.07987,0.6376,0.2873,0.1937,0.9608,0.312,0.13,0.2216,0.6783,0.1295,0.2456,0.1503,0.1544,0.4704,0.7356,0.2249,0.2102,0.3272,0.5803,0.256,0.3308,0.08115,0.3796,0.3207,0.196,0.5673,0.09915,0.3791,0.2992,0.1709,0.3965,0.2177,0.1046,0.1399,0.3355,0.08669,0.0,0.2802,0.07708,0.209,0.09755,0.0942,0.4504,0.25,0.3103,0.1564,0.08112,0.5381,0.8216,0.07116,0.3009,0.1943,0.3583,0.1882,0.08636,0.01854,0.1956,0.2264,0.681,0.1688,0.3948,0.0775,0.1047,0.2318,0.489,0.06648,0.1242,0.2644,0.583,0.03938,0.0,0.0,0.3486,0.5862,0.007977,0.02758,0.534,0.678,0.2902,0.1648,0.363,0.00692,0.3538,0.1521,0.08803,0.1423,0.8488,0.05186,0.0,0.4425,0.4589,0.1764,0.3809,0.2535,0.3865,0.4967,0.1377,0.3508,0.7892,0.4646,0.2671,0.3327,0.06213,0.1932,0.3162,0.2962,0.3861,0.1471,0.3201,0.2803,0.3744,0.4636,0.2806,0.1925,0.3617,0.3995,0.1759,0.2577,0.06572,0.3976,0.1786,0.1632,0.02639,0.3402,0.3911,0.6282,0.5018,0.1089,0.02318,0.4146,0.07161,0.06231,0.582,0.3158,0.3064,0.3241,0.1533,0.06243,0.7436,0.1359,0.3458,0.1181,0.2298,0.7727,0.1125,0.1804,0.6991,0.08105,0.8489,0.3378,0.4317,0.3209,0.4251,0.4429,0.6181,0.5703,0.3788,0.1211,0.2298,0.226,0.3889,0.3442,0.1916,0.1453,0.1992,0.2534,0.03866,0.1275,0.5807,0.04043,0.208,0.07153,0.004955,0.221,0.106,0.1456,0.5754,0.06735,0.4316,0.5026,0.3344,0.005579,0.2365,0.1186,0.1546,0.07529,0.222,0.1804,0.2241,0.1316,0.05233,0.03732,0.02884,0.0612,0.1565,0.04158,0.6121,0.1904,0.4932,0.08423,0.1226,0.07239,0.0112,0.01472,0.01379,0.01824,0.07915,0.04746,0.1769,0.08324,0.0,0.01938,0.04116,0.3853,0.4609,0.02237,0.1898,0.2606,0.1791,0.5344,0.1167,0.102,0.05307,0.007732,0.3597,0.3344,0.4956,0.3439,0.01335,0.005518,0.03619,0.392,0.145,0.4634,0.1055,0.4819,0.3755,0.4341,0.2299,0.4734,0.1087,0.07162,0.04506,0.2151,0.09823,0.03122,0.03046,0.6872,0.6451,0.4029,0.1201,0.2388,0.2573,0.05285,0.09441,0.1144,0.003581,0.1212,0.1255,0.1663,0.1364,0.2702,0.3703,0.2413,0.2861,0.4756,0.7087,0.1362,0.4024,0.4159,0.1346,0.2114,0.603,0.07934,0.2569,0.8402,0.2247,0.1553,0.2912,0.3206,0.2866,0.2675,0.3076,0.1091,0.3021,0.3829,0.08615,0.0,0.5553,0.7053,0.1603,0.0846,0.3438,0.1901,0.2079,0.1449,0.9034,0.1514,0.1604,0.181,0.04921,0.1412,0.231,0.1838,0.3301,0.1377,0.1811,0.1067,0.1868,0.3114,0.1547,0.1164,0.06141,0.4211,0.09385,0.03582,0.256,0.3219,0.2302,0.366,0.02085,0.01235,0.2939,0.1927,0.0458,0.03469,0.9019,0.2403,0.5308,0.3912,0.122,0.4069,0.07127,0.1117,0.04753,0.0626,0.4779,0.5036,0.03517,0.03986,0.429,0.1609,0.6399,0.206,0.3779,0.4399,0.3218,0.3977,0.1811,0.1373,0.1887,0.07003,0.2923,0.139,0.04462,0.0719,0.2639,0.6833,0.1472,0.186,0.1876,0.6556,0.4504,0.06409,0.5165,0.3186,0.1277,0.05524,0.3151,0.0,0.3365,0.3476,0.2512,0.1384,0.2596,0.5897,0.162,0.1673,0.1848,0.1742,0.4004,0.4896,0.2437,0.5936,0.149,0.2477,0.123,0.1048,0.2544,0.01674,0.07698,0.17,0.3582,0.2028,0.3533,0.5179,0.1856,0.3381,0.1889,0.3794,0.2099,0.2913,0.3535,0.1256,0.1947,0.5911,0.269,0.1101,0.5106,0.2492,0.2866,0.1624,0.3759,0.4185,0.1246,0.1423,0.09996,0.4658,0.02533,0.1935,0.08434,0.1754,0.2654,0.1791,0.1559,0.1622,0.1366,0.2758,0.1206,0.3092,0.2123,0.4433,0.4234,0.1395,0.0,0.3393,0.1797,0.404,0.1611,0.1062,0.1377,0.1049,0.04384,0.1783,0.0935,0.06194,0.0,0.1564,0.08653,0.07993,0.2439,0.2,0.01005,0.0,0.3662,0.363,0.1326,0.0,1.17,0.6599,0.4107,0.3215,0.3403,0.9387,0.0]},{\"axis\":{\"matches\":true},\"label\":\"concave points worst\",\"values\":[0.2654,0.186,0.243,0.2575,0.1625,0.1741,0.1932,0.1556,0.206,0.221,0.09975,0.181,0.1767,0.1119,0.2208,0.1712,0.1609,0.2073,0.2388,0.1288,0.07283,0.06227,0.2393,0.2009,0.2095,0.255,0.2701,0.149,0.2024,0.1456,0.1848,0.1546,0.1847,0.1785,0.1864,0.1813,0.1447,0.05013,0.02899,0.2258,0.1112,0.1424,0.2493,0.1492,0.1607,0.2378,0.02564,0.2088,0.06548,0.1282,0.03715,0.08586,0.06296,0.1325,0.153,0.06316,0.2091,0.1834,0.01111,0.04419,0.02579,0.02778,0.1785,0.05087,0.1716,0.1614,0.06517,0.06961,0.175,0.05882,0.1789,0.04786,0.1899,0.1383,0.0866,0.152,0.07407,0.2102,0.2508,0.07926,0.06127,0.1708,0.2867,0.1841,0.07632,0.1642,0.1225,0.1956,0.1205,0.1397,0.06946,0.1476,0.1001,0.07911,0.2115,0.1573,0.05882,0.02381,0.08449,0.1565,0.1184,0.0,0.07431,0.09749,0.03203,0.1986,0.1218,0.08442,0.291,0.08278,0.05334,0.1105,0.1505,0.06136,0.105,0.07247,0.03846,0.2027,0.2034,0.1185,0.08958,0.1674,0.2248,0.1221,0.08978,0.05104,0.1329,0.1218,0.1423,0.1732,0.08187,0.1514,0.1312,0.1374,0.1379,0.09331,0.06968,0.08476,0.1667,0.08611,0.0,0.1216,0.06402,0.1012,0.03413,0.06042,0.1865,0.08405,0.1599,0.06019,0.06296,0.07879,0.1571,0.05506,0.09722,0.08211,0.1515,0.08436,0.07025,0.03953,0.07909,0.1777,0.2247,0.08194,0.2346,0.05754,0.04603,0.1474,0.1721,0.08485,0.09391,0.116,0.1827,0.04306,0.0,0.0,0.0991,0.2035,0.009259,0.0399,0.2688,0.2903,0.1541,0.06296,0.1226,0.01042,0.1571,0.1099,0.04306,0.04815,0.1772,0.04773,0.0,0.1459,0.1727,0.08235,0.1673,0.09181,0.1708,0.1838,0.108,0.1939,0.2733,0.2013,0.1015,0.1252,0.05588,0.1096,0.1126,0.1035,0.192,0.06913,0.1595,0.1099,0.1772,0.1654,0.1138,0.03571,0.182,0.1625,0.08056,0.0909,0.05575,0.1479,0.09678,0.1087,0.04464,0.1379,0.118,0.1977,0.2543,0.02083,0.03002,0.1563,0.07222,0.07963,0.2593,0.1445,0.08219,0.2066,0.09222,0.04052,0.1218,0.06106,0.1564,0.06736,0.0497,0.1561,0.06136,0.09608,0.2105,0.06544,0.2507,0.1857,0.1999,0.1374,0.1941,0.2229,0.2462,0.2014,0.1697,0.08235,0.1528,0.08568,0.1984,0.1659,0.07926,0.06189,0.0578,0.086,0.03333,0.0875,0.1841,0.05159,0.1136,0.08946,0.01111,0.1294,0.05185,0.09993,0.1872,0.0829,0.2252,0.1732,0.1017,0.008772,0.1155,0.05366,0.09314,0.06203,0.1021,0.1489,0.1056,0.0914,0.06343,0.05802,0.03194,0.0716,0.0753,0.03125,0.198,0.07625,0.1923,0.06528,0.05509,0.04815,0.025,0.01389,0.0221,0.03532,0.05741,0.05813,0.08411,0.04715,0.0,0.02784,0.01852,0.1776,0.1145,0.02832,0.09744,0.1425,0.1155,0.2685,0.05556,0.05602,0.0589,0.02796,0.1583,0.1047,0.1981,0.09858,0.02022,0.01667,0.03983,0.1827,0.0585,0.2048,0.06499,0.2089,0.1414,0.0812,0.1075,0.2255,0.07864,0.04074,0.05093,0.1251,0.06548,0.04766,0.04262,0.2135,0.2756,0.1526,0.03922,0.09265,0.1258,0.05556,0.04762,0.05052,0.01635,0.05614,0.08312,0.09123,0.06987,0.1765,0.2152,0.08829,0.182,0.2432,0.2248,0.08178,0.1966,0.2112,0.06987,0.1251,0.1465,0.05781,0.1054,0.2524,0.1318,0.06754,0.1092,0.09804,0.09173,0.1359,0.0914,0.04537,0.08272,0.1825,0.06696,0.0,0.2121,0.2422,0.06266,0.07911,0.1453,0.08296,0.05556,0.05356,0.1964,0.06876,0.06608,0.08388,0.04793,0.07887,0.1129,0.05601,0.1974,0.09532,0.08698,0.07431,0.02564,0.1308,0.06575,0.08263,0.0377,0.2134,0.08224,0.04306,0.06664,0.1108,0.1105,0.1407,0.04589,0.02579,0.0931,0.07485,0.04044,0.03612,0.2475,0.0737,0.2173,0.1708,0.07971,0.1827,0.06384,0.07453,0.0589,0.08216,0.1555,0.1739,0.03312,0.02222,0.1535,0.1202,0.197,0.08308,0.09594,0.228,0.0875,0.1466,0.07116,0.1069,0.09851,0.07763,0.06835,0.06005,0.05921,0.04866,0.1555,0.2625,0.05563,0.08288,0.1045,0.1357,0.1181,0.025,0.1996,0.1416,0.0656,0.05547,0.1147,0.0,0.07966,0.09783,0.1339,0.06222,0.07431,0.1775,0.0569,0.0815,0.1335,0.09077,0.1452,0.1342,0.07828,0.206,0.09815,0.08737,0.06335,0.08341,0.1489,0.0268,0.04195,0.1017,0.1407,0.1053,0.1663,0.2113,0.1018,0.1521,0.08411,0.2264,0.1025,0.1075,0.08088,0.09514,0.1357,0.2163,0.1056,0.07955,0.2051,0.09186,0.112,0.08542,0.151,0.1613,0.1096,0.08045,0.07262,0.2475,0.02832,0.1284,0.06528,0.08512,0.1427,0.107,0.1015,0.07393,0.101,0.0812,0.08704,0.1613,0.09861,0.2148,0.1362,0.1308,0.0,0.05,0.06918,0.1205,0.1095,0.07958,0.06845,0.07174,0.02381,0.08333,0.03846,0.03264,0.0,0.06413,0.06498,0.02564,0.06493,0.09127,0.02232,0.0,0.1105,0.09653,0.1048,0.0,0.2356,0.2542,0.2216,0.1628,0.1418,0.265,0.0]},{\"axis\":{\"matches\":true},\"label\":\"symmetry worst\",\"values\":[0.4601,0.275,0.3613,0.6638,0.2364,0.3985,0.3063,0.3196,0.4378,0.4366,0.2948,0.3792,0.3176,0.2809,0.3596,0.4218,0.3029,0.3706,0.2768,0.2977,0.3184,0.245,0.4667,0.2822,0.3613,0.4066,0.4264,0.2341,0.4027,0.2756,0.3444,0.4761,0.353,0.3672,0.427,0.4863,0.3591,0.1987,0.1565,0.2807,0.2994,0.2964,0.467,0.3739,0.3693,0.3799,0.3105,0.39,0.2747,0.2871,0.2433,0.2346,0.2785,0.3021,0.2675,0.3306,0.3537,0.3698,0.2439,0.322,0.3557,0.2972,0.2844,0.3282,0.3383,0.3321,0.2878,0.24,0.4228,0.2383,0.2551,0.2254,0.3313,0.2589,0.2618,0.265,0.271,0.3751,0.544,0.2779,0.2762,0.3527,0.2355,0.2311,0.3379,0.3695,0.302,0.3956,0.2972,0.3151,0.2522,0.2556,0.2027,0.2678,0.2834,0.3689,0.2227,0.1934,0.2772,0.2718,0.2651,0.2932,0.2694,0.2622,0.2826,0.3147,0.2806,0.2983,0.4055,0.2829,0.2533,0.2226,0.2398,0.2383,0.2926,0.2438,0.1652,0.3585,0.3274,0.4882,0.3016,0.2894,0.3222,0.2889,0.2048,0.2364,0.347,0.2841,0.259,0.3305,0.3469,0.2837,0.348,0.2723,0.3109,0.2829,0.1712,0.2676,0.3414,0.2102,0.3105,0.2792,0.2584,0.3549,0.23,0.2727,0.5774,0.2852,0.2691,0.235,0.3196,0.3322,0.3108,0.2859,0.3849,0.3113,0.2463,0.2527,0.2514,0.2738,0.3168,0.2443,0.3643,0.2268,0.3589,0.2646,0.209,0.281,0.216,0.2404,0.2827,0.2884,0.3216,0.1902,0.271,0.2592,0.2614,0.3054,0.2295,0.1783,0.2856,0.4098,0.3437,0.1811,0.3175,0.2933,0.3206,0.2572,0.32,0.2482,0.5166,0.2179,0.1909,0.3215,0.3,0.3024,0.308,0.2369,0.3193,0.4753,0.2668,0.2928,0.3198,0.4432,0.3014,0.3415,0.2989,0.3275,0.4128,0.232,0.2909,0.2535,0.1648,0.1603,0.4724,0.363,0.3397,0.2868,0.307,0.2713,0.238,0.3065,0.3055,0.3993,0.2506,0.3062,0.2615,0.2954,0.2826,0.3407,0.3109,0.2849,0.2911,0.2437,0.2757,0.2226,0.3103,0.2238,0.189,0.2853,0.253,0.2901,0.3308,0.2663,0.292,0.2883,0.2767,0.2639,0.3409,0.2664,0.3126,0.274,0.2749,0.3138,0.3379,0.3068,0.2818,0.3258,0.3277,0.3512,0.3151,0.2452,0.3067,0.2683,0.3216,0.2868,0.294,0.2446,0.3604,0.2605,0.2458,0.2733,0.2833,0.2841,0.2504,0.222,0.2758,0.2567,0.2335,0.2955,0.3258,0.3101,0.359,0.277,0.1999,0.2505,0.2465,0.2309,0.2955,0.3267,0.2272,0.2962,0.338,0.3101,0.2369,0.2823,0.2143,0.1978,0.2636,0.2227,0.2968,0.2685,0.3294,0.2213,0.2208,0.3244,0.2651,0.2991,0.2267,0.2107,0.3487,0.253,0.2564,0.339,0.3142,0.1917,0.2293,0.2812,0.3135,0.1901,0.2608,0.3055,0.2382,0.5558,0.2661,0.2688,0.21,0.2171,0.3103,0.2736,0.3019,0.3596,0.3292,0.2815,0.2554,0.2623,0.2432,0.3679,0.2894,0.2593,0.3053,0.2982,0.3301,0.4045,0.2765,0.2434,0.288,0.3109,0.2851,0.3124,0.2731,0.4245,0.369,0.2654,0.2576,0.2121,0.3113,0.2362,0.2434,0.2454,0.2233,0.2637,0.2744,0.2394,0.2741,0.2609,0.3271,0.3218,0.251,0.2741,0.4824,0.2487,0.273,0.2689,0.3323,0.3153,0.2597,0.2694,0.3387,0.4154,0.3343,0.3202,0.2191,0.2819,0.2736,0.2477,0.2677,0.2542,0.2157,0.2576,0.2937,0.2445,0.3187,0.3828,0.3049,0.2523,0.2666,0.1988,0.259,0.2779,0.3245,0.246,0.3207,0.3297,0.2298,0.2251,0.2778,0.2488,0.306,0.3455,0.2973,0.2998,0.2376,0.3163,0.3233,0.3075,0.2872,0.3003,0.2775,0.2976,0.3035,0.2827,0.2787,0.2744,0.3196,0.2349,0.302,0.2965,0.2383,0.2165,0.2866,0.2556,0.3032,0.3007,0.2525,0.3179,0.3313,0.2725,0.2513,0.2136,0.254,0.25,0.1859,0.2699,0.2842,0.2599,0.2972,0.36,0.2471,0.2268,0.2305,0.2293,0.2447,0.2606,0.327,0.2196,0.2884,0.2444,0.2306,0.2321,0.301,0.2641,0.2345,0.321,0.2235,0.2845,0.2563,0.3057,0.2301,0.266,0.3174,0.2404,0.2688,0.2409,0.2581,0.3006,0.2534,0.2679,0.2941,0.3318,0.2406,0.2356,0.3227,0.2518,0.2557,0.3231,0.2455,0.3266,0.2804,0.4677,0.31,0.1783,0.3251,0.228,0.2687,0.2369,0.323,0.3035,0.251,0.248,0.2177,0.3651,0.3155,0.2908,0.3038,0.2848,0.2709,0.278,0.23,0.3013,0.2604,0.2334,0.3585,0.2626,0.2282,0.306,0.3074,0.2549,0.2582,0.3071,0.3681,0.3157,0.2557,0.2849,0.2502,0.2983,0.3518,0.311,0.216,0.2781,0.2478,0.3206,0.2806,0.322,0.2289,0.3077,0.2698,0.2803,0.3058,0.279,0.2329,0.3187,0.2722,0.2473,0.2249,0.2642,0.2681,0.2691,0.2552,0.3059,0.2458,0.3169,0.2407,0.2435,0.2372,0.2226,0.2262,0.2475,0.2258,0.2112,0.225,0.1566,0.4089,0.2929,0.206,0.2572,0.2218,0.4087,0.2871]},{\"axis\":{\"matches\":true},\"label\":\"fractal dimension worst\",\"values\":[0.1189,0.08902,0.08758,0.173,0.07678,0.1244,0.08368,0.1151,0.1072,0.2075,0.08452,0.1048,0.1023,0.06287,0.1431,0.1341,0.08216,0.1142,0.07615,0.07259,0.08183,0.07773,0.09946,0.07526,0.09564,0.1059,0.1275,0.07421,0.09876,0.07919,0.09782,0.1402,0.08482,0.1123,0.1233,0.08633,0.1014,0.06169,0.05504,0.1071,0.07146,0.09606,0.1038,0.1027,0.09618,0.09185,0.07409,0.1179,0.08301,0.06917,0.06563,0.08025,0.07408,0.07987,0.07873,0.07036,0.08294,0.1094,0.06289,0.09026,0.0802,0.07712,0.1132,0.0849,0.1031,0.08911,0.09211,0.06641,0.1175,0.0641,0.06589,0.1084,0.1339,0.103,0.07609,0.06387,0.07191,0.1108,0.09964,0.07918,0.08851,0.1016,0.1051,0.09203,0.07924,0.08579,0.06846,0.09288,0.09261,0.08473,0.07246,0.06828,0.06206,0.06603,0.08234,0.08368,0.07376,0.08988,0.08756,0.09353,0.07397,0.09382,0.06878,0.0849,0.07552,0.1405,0.09097,0.07185,0.09789,0.08832,0.08468,0.08486,0.1082,0.09026,0.1017,0.08541,0.07722,0.1065,0.1252,0.06111,0.08523,0.08456,0.08009,0.08006,0.07628,0.07182,0.079,0.06541,0.07779,0.08465,0.09241,0.08019,0.07619,0.07071,0.0761,0.08067,0.07343,0.06765,0.07147,0.06784,0.08151,0.08158,0.08096,0.08118,0.06769,0.1036,0.103,0.09218,0.07683,0.07014,0.06435,0.1486,0.1259,0.06772,0.08633,0.08132,0.07738,0.05972,0.07898,0.07685,0.07987,0.06251,0.09223,0.09082,0.09187,0.06085,0.07699,0.07228,0.093,0.06428,0.06771,0.07371,0.101,0.07313,0.06164,0.07848,0.1162,0.09519,0.05843,0.07319,0.08082,0.1284,0.08631,0.07427,0.09772,0.07697,0.06938,0.07097,0.06576,0.06306,0.1446,0.06871,0.06559,0.1205,0.08701,0.06949,0.09333,0.06558,0.09221,0.1013,0.08174,0.07867,0.08762,0.1086,0.0875,0.0974,0.0738,0.06469,0.1076,0.07474,0.05865,0.07993,0.05525,0.06818,0.1026,0.1059,0.08365,0.07809,0.08255,0.07568,0.08718,0.08177,0.08797,0.1064,0.07623,0.06072,0.08269,0.08362,0.09585,0.1243,0.09061,0.07087,0.07307,0.08328,0.08178,0.07617,0.08677,0.07127,0.07796,0.08496,0.0651,0.06783,0.1297,0.06321,0.07614,0.07748,0.07198,0.1178,0.08147,0.07809,0.07849,0.06487,0.1297,0.08113,0.0895,0.07957,0.1005,0.1191,0.1019,0.1204,0.07999,0.06515,0.07484,0.06829,0.0757,0.08218,0.07587,0.07024,0.07062,0.08701,0.0612,0.08022,0.08858,0.08175,0.07948,0.06033,0.06386,0.05737,0.06263,0.06912,0.0972,0.06688,0.07787,0.1063,0.07127,0.06431,0.09981,0.06915,0.07009,0.06994,0.08799,0.08472,0.09584,0.07007,0.06922,0.06794,0.06643,0.06915,0.07676,0.06777,0.09929,0.07764,0.09469,0.07842,0.07638,0.06745,0.08385,0.07804,0.06192,0.0658,0.06958,0.05695,0.08253,0.07434,0.08116,0.06174,0.06037,0.08198,0.1055,0.05932,0.09702,0.05933,0.08553,0.1024,0.07961,0.06888,0.07083,0.07037,0.082,0.07953,0.09124,0.09166,0.06522,0.07418,0.07207,0.07599,0.1009,0.0987,0.07664,0.07738,0.08764,0.09825,0.0908,0.07918,0.07806,0.08488,0.08083,0.08187,0.08763,0.0759,0.06825,0.105,0.08815,0.09438,0.07018,0.07188,0.08317,0.07113,0.07431,0.08136,0.05521,0.06658,0.07238,0.06469,0.07582,0.06735,0.07632,0.0747,0.06494,0.08574,0.09614,0.06766,0.08666,0.07055,0.07701,0.0896,0.12,0.07061,0.09638,0.1403,0.09215,0.07287,0.09349,0.1118,0.0732,0.06836,0.08824,0.06623,0.1043,0.07602,0.07722,0.08865,0.1019,0.1007,0.07081,0.06609,0.07686,0.07053,0.09158,0.08121,0.1198,0.07262,0.07247,0.07834,0.05974,0.07732,0.07012,0.08151,0.08503,0.06896,0.07745,0.07881,0.09206,0.09251,0.06165,0.07351,0.08304,0.1048,0.09464,0.07123,0.08284,0.09208,0.07427,0.08839,0.08009,0.08061,0.09646,0.07662,0.07083,0.06025,0.1155,0.09359,0.08075,0.08314,0.06827,0.1055,0.07735,0.07234,0.06911,0.0671,0.09532,0.07944,0.0681,0.06736,0.08225,0.08251,0.09075,0.07285,0.07463,0.07425,0.09952,0.06091,0.08194,0.0781,0.0733,0.07675,0.0722,0.06788,0.06291,0.07211,0.0906,0.07427,0.06464,0.07863,0.06925,0.1249,0.08174,0.07875,0.1224,0.0927,0.08524,0.06639,0.08273,0.06743,0.108,0.07802,0.07858,0.07698,0.0918,0.09136,0.07729,0.07603,0.09326,0.0696,0.08181,0.1034,0.06596,0.09009,0.08024,0.07623,0.08203,0.05871,0.07625,0.07028,0.07429,0.06599,0.1033,0.07661,0.09445,0.08999,0.08549,0.1183,0.07538,0.07277,0.1252,0.1364,0.08839,0.1168,0.0723,0.1067,0.09879,0.06142,0.1109,0.07048,0.06954,0.06783,0.07863,0.09136,0.08893,0.08557,0.08982,0.09671,0.07613,0.09031,0.09209,0.1049,0.08665,0.07592,0.07253,0.08052,0.07757,0.0895,0.07782,0.06386,0.08278,0.07569,0.08351,0.0997,0.09938,0.1066,0.08134,0.1023,0.06956,0.06443,0.08492,0.06953,0.07399,0.09479,0.0792,0.07626,0.06592,0.08032,0.06484,0.07393,0.07242,0.08283,0.06742,0.06969,0.08004,0.08732,0.08321,0.05905,0.1409,0.09873,0.07115,0.06637,0.0782,0.124,0.07039]},{\"axis\":{\"matches\":true},\"label\":\"outcome\",\"values\":[1,1,1,1,1,1,1,1,1,1,1,1,1,1,1,1,1,1,1,0,0,0,1,1,1,1,1,1,1,1,1,1,1,1,1,1,1,0,1,1,1,1,1,1,1,1,0,1,0,0,0,0,0,1,1,0,1,1,0,0,0,0,1,0,1,1,0,0,0,0,1,0,1,1,0,1,0,1,1,0,0,0,1,1,0,1,1,1,0,0,0,1,0,0,1,1,0,0,0,1,1,0,0,0,0,1,0,0,1,0,0,0,0,0,0,0,0,1,1,1,0,1,1,0,0,0,1,1,0,1,0,1,1,0,1,1,0,0,1,0,0,1,0,0,0,0,1,0,0,0,0,0,0,0,0,0,1,0,0,0,0,1,1,0,1,0,0,1,1,0,0,1,1,0,0,0,0,1,0,0,1,1,1,0,1,0,1,0,0,0,1,0,0,1,1,0,1,1,1,1,0,1,1,1,0,1,0,1,0,0,1,0,1,1,1,1,0,0,1,1,0,0,0,1,0,0,0,0,0,1,1,0,0,1,0,0,1,1,0,1,0,0,0,0,1,0,0,0,0,0,1,0,1,1,1,1,1,1,1,1,1,1,1,1,1,1,0,0,0,0,0,0,1,0,1,0,0,1,0,0,1,0,1,1,0,0,0,0,0,0,0,0,0,0,0,0,0,1,0,0,1,0,1,0,0,0,0,0,0,0,0,0,0,0,0,0,0,1,0,0,0,1,0,1,0,0,0,0,1,1,1,0,0,0,0,1,0,1,0,1,0,0,0,1,0,0,0,0,0,0,0,1,1,1,0,0,0,0,0,0,0,0,0,0,0,1,1,0,1,1,1,0,1,1,0,0,0,0,0,1,0,0,0,0,0,1,0,0,0,1,0,0,1,1,0,0,0,0,0,0,1,0,0,0,0,0,0,0,1,0,0,0,0,0,1,0,0,1,0,0,0,0,0,0,0,0,0,0,0,0,1,0,1,1,0,1,0,0,0,0,0,1,0,0,1,0,1,0,0,1,0,1,0,0,0,0,0,0,0,0,1,1,0,0,0,0,0,0,1,0,0,0,0,0,0,0,0,0,0,1,0,0,0,0,0,0,0,1,0,1,0,0,1,0,0,0,0,0,1,1,0,1,0,1,0,0,0,0,0,1,0,0,1,0,1,0,1,1,0,0,0,1,0,0,0,0,0,0,0,0,0,0,0,1,0,1,1,0,0,0,0,0,0,0,0,0,0,0,0,0,0,0,0,0,0,0,0,0,0,0,0,0,1,1,1,1,1,1,0]}],\"hovertemplate\":\"%{xaxis.title.text}=%{x}<br>%{yaxis.title.text}=%{y}<extra></extra>\",\"legendgroup\":\"\",\"marker\":{\"color\":\"#636efa\",\"symbol\":\"circle\"},\"name\":\"\",\"showlegend\":false,\"type\":\"splom\",\"diagonal\":{\"visible\":false}}],                        {\"template\":{\"data\":{\"bar\":[{\"error_x\":{\"color\":\"#2a3f5f\"},\"error_y\":{\"color\":\"#2a3f5f\"},\"marker\":{\"line\":{\"color\":\"#E5ECF6\",\"width\":0.5},\"pattern\":{\"fillmode\":\"overlay\",\"size\":10,\"solidity\":0.2}},\"type\":\"bar\"}],\"barpolar\":[{\"marker\":{\"line\":{\"color\":\"#E5ECF6\",\"width\":0.5},\"pattern\":{\"fillmode\":\"overlay\",\"size\":10,\"solidity\":0.2}},\"type\":\"barpolar\"}],\"carpet\":[{\"aaxis\":{\"endlinecolor\":\"#2a3f5f\",\"gridcolor\":\"white\",\"linecolor\":\"white\",\"minorgridcolor\":\"white\",\"startlinecolor\":\"#2a3f5f\"},\"baxis\":{\"endlinecolor\":\"#2a3f5f\",\"gridcolor\":\"white\",\"linecolor\":\"white\",\"minorgridcolor\":\"white\",\"startlinecolor\":\"#2a3f5f\"},\"type\":\"carpet\"}],\"choropleth\":[{\"colorbar\":{\"outlinewidth\":0,\"ticks\":\"\"},\"type\":\"choropleth\"}],\"contour\":[{\"colorbar\":{\"outlinewidth\":0,\"ticks\":\"\"},\"colorscale\":[[0.0,\"#0d0887\"],[0.1111111111111111,\"#46039f\"],[0.2222222222222222,\"#7201a8\"],[0.3333333333333333,\"#9c179e\"],[0.4444444444444444,\"#bd3786\"],[0.5555555555555556,\"#d8576b\"],[0.6666666666666666,\"#ed7953\"],[0.7777777777777778,\"#fb9f3a\"],[0.8888888888888888,\"#fdca26\"],[1.0,\"#f0f921\"]],\"type\":\"contour\"}],\"contourcarpet\":[{\"colorbar\":{\"outlinewidth\":0,\"ticks\":\"\"},\"type\":\"contourcarpet\"}],\"heatmap\":[{\"colorbar\":{\"outlinewidth\":0,\"ticks\":\"\"},\"colorscale\":[[0.0,\"#0d0887\"],[0.1111111111111111,\"#46039f\"],[0.2222222222222222,\"#7201a8\"],[0.3333333333333333,\"#9c179e\"],[0.4444444444444444,\"#bd3786\"],[0.5555555555555556,\"#d8576b\"],[0.6666666666666666,\"#ed7953\"],[0.7777777777777778,\"#fb9f3a\"],[0.8888888888888888,\"#fdca26\"],[1.0,\"#f0f921\"]],\"type\":\"heatmap\"}],\"heatmapgl\":[{\"colorbar\":{\"outlinewidth\":0,\"ticks\":\"\"},\"colorscale\":[[0.0,\"#0d0887\"],[0.1111111111111111,\"#46039f\"],[0.2222222222222222,\"#7201a8\"],[0.3333333333333333,\"#9c179e\"],[0.4444444444444444,\"#bd3786\"],[0.5555555555555556,\"#d8576b\"],[0.6666666666666666,\"#ed7953\"],[0.7777777777777778,\"#fb9f3a\"],[0.8888888888888888,\"#fdca26\"],[1.0,\"#f0f921\"]],\"type\":\"heatmapgl\"}],\"histogram\":[{\"marker\":{\"pattern\":{\"fillmode\":\"overlay\",\"size\":10,\"solidity\":0.2}},\"type\":\"histogram\"}],\"histogram2d\":[{\"colorbar\":{\"outlinewidth\":0,\"ticks\":\"\"},\"colorscale\":[[0.0,\"#0d0887\"],[0.1111111111111111,\"#46039f\"],[0.2222222222222222,\"#7201a8\"],[0.3333333333333333,\"#9c179e\"],[0.4444444444444444,\"#bd3786\"],[0.5555555555555556,\"#d8576b\"],[0.6666666666666666,\"#ed7953\"],[0.7777777777777778,\"#fb9f3a\"],[0.8888888888888888,\"#fdca26\"],[1.0,\"#f0f921\"]],\"type\":\"histogram2d\"}],\"histogram2dcontour\":[{\"colorbar\":{\"outlinewidth\":0,\"ticks\":\"\"},\"colorscale\":[[0.0,\"#0d0887\"],[0.1111111111111111,\"#46039f\"],[0.2222222222222222,\"#7201a8\"],[0.3333333333333333,\"#9c179e\"],[0.4444444444444444,\"#bd3786\"],[0.5555555555555556,\"#d8576b\"],[0.6666666666666666,\"#ed7953\"],[0.7777777777777778,\"#fb9f3a\"],[0.8888888888888888,\"#fdca26\"],[1.0,\"#f0f921\"]],\"type\":\"histogram2dcontour\"}],\"mesh3d\":[{\"colorbar\":{\"outlinewidth\":0,\"ticks\":\"\"},\"type\":\"mesh3d\"}],\"parcoords\":[{\"line\":{\"colorbar\":{\"outlinewidth\":0,\"ticks\":\"\"}},\"type\":\"parcoords\"}],\"pie\":[{\"automargin\":true,\"type\":\"pie\"}],\"scatter\":[{\"marker\":{\"colorbar\":{\"outlinewidth\":0,\"ticks\":\"\"}},\"type\":\"scatter\"}],\"scatter3d\":[{\"line\":{\"colorbar\":{\"outlinewidth\":0,\"ticks\":\"\"}},\"marker\":{\"colorbar\":{\"outlinewidth\":0,\"ticks\":\"\"}},\"type\":\"scatter3d\"}],\"scattercarpet\":[{\"marker\":{\"colorbar\":{\"outlinewidth\":0,\"ticks\":\"\"}},\"type\":\"scattercarpet\"}],\"scattergeo\":[{\"marker\":{\"colorbar\":{\"outlinewidth\":0,\"ticks\":\"\"}},\"type\":\"scattergeo\"}],\"scattergl\":[{\"marker\":{\"colorbar\":{\"outlinewidth\":0,\"ticks\":\"\"}},\"type\":\"scattergl\"}],\"scattermapbox\":[{\"marker\":{\"colorbar\":{\"outlinewidth\":0,\"ticks\":\"\"}},\"type\":\"scattermapbox\"}],\"scatterpolar\":[{\"marker\":{\"colorbar\":{\"outlinewidth\":0,\"ticks\":\"\"}},\"type\":\"scatterpolar\"}],\"scatterpolargl\":[{\"marker\":{\"colorbar\":{\"outlinewidth\":0,\"ticks\":\"\"}},\"type\":\"scatterpolargl\"}],\"scatterternary\":[{\"marker\":{\"colorbar\":{\"outlinewidth\":0,\"ticks\":\"\"}},\"type\":\"scatterternary\"}],\"surface\":[{\"colorbar\":{\"outlinewidth\":0,\"ticks\":\"\"},\"colorscale\":[[0.0,\"#0d0887\"],[0.1111111111111111,\"#46039f\"],[0.2222222222222222,\"#7201a8\"],[0.3333333333333333,\"#9c179e\"],[0.4444444444444444,\"#bd3786\"],[0.5555555555555556,\"#d8576b\"],[0.6666666666666666,\"#ed7953\"],[0.7777777777777778,\"#fb9f3a\"],[0.8888888888888888,\"#fdca26\"],[1.0,\"#f0f921\"]],\"type\":\"surface\"}],\"table\":[{\"cells\":{\"fill\":{\"color\":\"#EBF0F8\"},\"line\":{\"color\":\"white\"}},\"header\":{\"fill\":{\"color\":\"#C8D4E3\"},\"line\":{\"color\":\"white\"}},\"type\":\"table\"}]},\"layout\":{\"annotationdefaults\":{\"arrowcolor\":\"#2a3f5f\",\"arrowhead\":0,\"arrowwidth\":1},\"autotypenumbers\":\"strict\",\"coloraxis\":{\"colorbar\":{\"outlinewidth\":0,\"ticks\":\"\"}},\"colorscale\":{\"diverging\":[[0,\"#8e0152\"],[0.1,\"#c51b7d\"],[0.2,\"#de77ae\"],[0.3,\"#f1b6da\"],[0.4,\"#fde0ef\"],[0.5,\"#f7f7f7\"],[0.6,\"#e6f5d0\"],[0.7,\"#b8e186\"],[0.8,\"#7fbc41\"],[0.9,\"#4d9221\"],[1,\"#276419\"]],\"sequential\":[[0.0,\"#0d0887\"],[0.1111111111111111,\"#46039f\"],[0.2222222222222222,\"#7201a8\"],[0.3333333333333333,\"#9c179e\"],[0.4444444444444444,\"#bd3786\"],[0.5555555555555556,\"#d8576b\"],[0.6666666666666666,\"#ed7953\"],[0.7777777777777778,\"#fb9f3a\"],[0.8888888888888888,\"#fdca26\"],[1.0,\"#f0f921\"]],\"sequentialminus\":[[0.0,\"#0d0887\"],[0.1111111111111111,\"#46039f\"],[0.2222222222222222,\"#7201a8\"],[0.3333333333333333,\"#9c179e\"],[0.4444444444444444,\"#bd3786\"],[0.5555555555555556,\"#d8576b\"],[0.6666666666666666,\"#ed7953\"],[0.7777777777777778,\"#fb9f3a\"],[0.8888888888888888,\"#fdca26\"],[1.0,\"#f0f921\"]]},\"colorway\":[\"#636efa\",\"#EF553B\",\"#00cc96\",\"#ab63fa\",\"#FFA15A\",\"#19d3f3\",\"#FF6692\",\"#B6E880\",\"#FF97FF\",\"#FECB52\"],\"font\":{\"color\":\"#2a3f5f\"},\"geo\":{\"bgcolor\":\"white\",\"lakecolor\":\"white\",\"landcolor\":\"#E5ECF6\",\"showlakes\":true,\"showland\":true,\"subunitcolor\":\"white\"},\"hoverlabel\":{\"align\":\"left\"},\"hovermode\":\"closest\",\"mapbox\":{\"style\":\"light\"},\"paper_bgcolor\":\"white\",\"plot_bgcolor\":\"#E5ECF6\",\"polar\":{\"angularaxis\":{\"gridcolor\":\"white\",\"linecolor\":\"white\",\"ticks\":\"\"},\"bgcolor\":\"#E5ECF6\",\"radialaxis\":{\"gridcolor\":\"white\",\"linecolor\":\"white\",\"ticks\":\"\"}},\"scene\":{\"xaxis\":{\"backgroundcolor\":\"#E5ECF6\",\"gridcolor\":\"white\",\"gridwidth\":2,\"linecolor\":\"white\",\"showbackground\":true,\"ticks\":\"\",\"zerolinecolor\":\"white\"},\"yaxis\":{\"backgroundcolor\":\"#E5ECF6\",\"gridcolor\":\"white\",\"gridwidth\":2,\"linecolor\":\"white\",\"showbackground\":true,\"ticks\":\"\",\"zerolinecolor\":\"white\"},\"zaxis\":{\"backgroundcolor\":\"#E5ECF6\",\"gridcolor\":\"white\",\"gridwidth\":2,\"linecolor\":\"white\",\"showbackground\":true,\"ticks\":\"\",\"zerolinecolor\":\"white\"}},\"shapedefaults\":{\"line\":{\"color\":\"#2a3f5f\"}},\"ternary\":{\"aaxis\":{\"gridcolor\":\"white\",\"linecolor\":\"white\",\"ticks\":\"\"},\"baxis\":{\"gridcolor\":\"white\",\"linecolor\":\"white\",\"ticks\":\"\"},\"bgcolor\":\"#E5ECF6\",\"caxis\":{\"gridcolor\":\"white\",\"linecolor\":\"white\",\"ticks\":\"\"}},\"title\":{\"x\":0.05},\"xaxis\":{\"automargin\":true,\"gridcolor\":\"white\",\"linecolor\":\"white\",\"ticks\":\"\",\"title\":{\"standoff\":15},\"zerolinecolor\":\"white\",\"zerolinewidth\":2},\"yaxis\":{\"automargin\":true,\"gridcolor\":\"white\",\"linecolor\":\"white\",\"ticks\":\"\",\"title\":{\"standoff\":15},\"zerolinecolor\":\"white\",\"zerolinewidth\":2}}},\"legend\":{\"tracegroupgap\":0},\"title\":{\"text\":\"Relation Between All Variables in Cancer Dataset\"},\"dragmode\":\"select\",\"height\":1600,\"width\":1600},                        {\"responsive\": true}                    ).then(function(){\n                            \nvar gd = document.getElementById('5b446cfc-3820-4160-969f-c439b2369891');\nvar x = new MutationObserver(function (mutations, observer) {{\n        var display = window.getComputedStyle(gd).display;\n        if (!display || display === 'none') {{\n            console.log([gd, 'removed!']);\n            Plotly.purge(gd);\n            observer.disconnect();\n        }}\n}});\n\n// Listen for the removal of the full notebook cells\nvar notebookContainer = gd.closest('#notebook-container');\nif (notebookContainer) {{\n    x.observe(notebookContainer, {childList: true});\n}}\n\n// Listen for the clearing of the current output cell\nvar outputEl = gd.closest('.output');\nif (outputEl) {{\n    x.observe(outputEl, {childList: true});\n}}\n\n                        })                };                            </script>        </div>\n</body>\n</html>"
     },
     "execution_count": 16,
     "metadata": {
     },
     "output_type": "execute_result"
    }
   ],
   "source": [
    "dim = []\n",
    "for i in df:\n",
    "    dim.append(i)\n",
    "pd.options.plotting.backend = \"plotly\"\n",
    "graph=px.scatter_matrix(df,dimensions=dim,title='Relation Between All Variables in Cancer Dataset',labels={col:col.replace('_', ' ') for col in df.columns},height=(len(dim)*50), width=(len(dim)*50))\n",
    "graph.update_traces(diagonal_visible=False)\n",
    "graph.show()"
   ]
  },
  {
   "cell_type": "code",
   "execution_count": 17,
   "metadata": {
    "collapsed": false,
    "id": "oQXBTNye681E"
   },
   "outputs": [
    {
     "data": {
      "text/plain": [
       "<AxesSubplot:>"
      ]
     },
     "execution_count": 17,
     "metadata": {
     },
     "output_type": "execute_result"
    },
    {
     "data": {
      "image/png": "[encoded data removed]",
      "text/plain": [
       "<Figure size 432x288 with 2 Axes>"
      ]
     },
     "execution_count": 17,
     "metadata": {
      "needs_background": "light"
     },
     "output_type": "execute_result"
    }
   ],
   "source": [
    "# Visualization 2 here\n",
    "sns.heatmap(df.corr())"
   ]
  },
  {
   "cell_type": "markdown",
   "metadata": {
    "collapsed": false,
    "id": "EvyKXnr27SaE"
   },
   "source": [
    "### Are you ready to perform machine learning? \n",
    "Do you think deciding whether a tumor is benign or malignant is classification or regression? Talk with your team for a minute.\n",
    "\n",
    "Either way, we need to tell our code what our target variable is, and what our input is going to be. <br> **TODO:** Can you do so below?"
   ]
  },
  {
   "cell_type": "code",
   "execution_count": 18,
   "metadata": {
    "collapsed": false,
    "id": "tZOfTkVx8w2K"
   },
   "outputs": [
   ],
   "source": [
    "# Create a variable named target and set it equal to the [\"outcome\"] column in our breast_cancer dataframe.\n",
    "target = df['outcome']"
   ]
  },
  {
   "cell_type": "code",
   "execution_count": 19,
   "metadata": {
    "collapsed": false,
    "id": "X6wHkQax9chF"
   },
   "outputs": [
   ],
   "source": [
    "# Create a variable named input_columns and set it equal to breast_cancer.loc[:, breast_cancer.columns != \"outcome\"]. This means our inputs are every single column except for column!\n",
    "input_columns = df.loc[:, df.columns != \"outcome\"]"
   ]
  },
  {
   "cell_type": "markdown",
   "metadata": {
    "collapsed": false,
    "id": "TsxggVkp81js"
   },
   "source": [
    "### Splitting the Data\n",
    "\n",
    "For every single supervised machine learning problem, we will follow the same flow with `sklearn`:\n",
    "\n",
    "> *Split, Fit, Predict, and Evaluate.*\n",
    "\n",
    "What is first? Splitting our data into training and testing sets. You can watch a video on why we do that [in the first 36 seconds of this video](https://www.youtube.com/watch?v=_vdMKioCXqQ). \n",
    "\n",
    "We will split our data using the [`train_test_split()`](https://scikit-learn.org/stable/modules/generated/sklearn.model_selection.train_test_split.html) function on `sklearn` using the same flow as this tutorial: https://realpython.com/train-test-split-python-data/#application-of-train_test_split. The code to do so is below. "
   ]
  },
  {
   "cell_type": "code",
   "execution_count": 20,
   "metadata": {
    "collapsed": false,
    "id": "9I03IMDT8tdn"
   },
   "outputs": [
    {
     "data": {
      "text/html": [
       "<div>\n",
       "<style scoped>\n",
       "    .dataframe tbody tr th:only-of-type {\n",
       "        vertical-align: middle;\n",
       "    }\n",
       "\n",
       "    .dataframe tbody tr th {\n",
       "        vertical-align: top;\n",
       "    }\n",
       "\n",
       "    .dataframe thead th {\n",
       "        text-align: right;\n",
       "    }\n",
       "</style>\n",
       "<table border=\"1\" class=\"dataframe\">\n",
       "  <thead>\n",
       "    <tr style=\"text-align: right;\">\n",
       "      <th></th>\n",
       "      <th>id</th>\n",
       "      <th>radius_mean</th>\n",
       "      <th>texture_mean</th>\n",
       "      <th>perimeter_mean</th>\n",
       "      <th>area_mean</th>\n",
       "      <th>smoothness_mean</th>\n",
       "      <th>compactness_mean</th>\n",
       "      <th>concavity_mean</th>\n",
       "      <th>concave points_mean</th>\n",
       "      <th>symmetry_mean</th>\n",
       "      <th>...</th>\n",
       "      <th>texture_worst</th>\n",
       "      <th>perimeter_worst</th>\n",
       "      <th>area_worst</th>\n",
       "      <th>smoothness_worst</th>\n",
       "      <th>compactness_worst</th>\n",
       "      <th>concavity_worst</th>\n",
       "      <th>concave points_worst</th>\n",
       "      <th>symmetry_worst</th>\n",
       "      <th>fractal_dimension_worst</th>\n",
       "      <th>outcome</th>\n",
       "    </tr>\n",
       "  </thead>\n",
       "  <tbody>\n",
       "    <tr>\n",
       "      <th>0</th>\n",
       "      <td>842302</td>\n",
       "      <td>17.99</td>\n",
       "      <td>10.38</td>\n",
       "      <td>122.80</td>\n",
       "      <td>1001.0</td>\n",
       "      <td>0.11840</td>\n",
       "      <td>0.27760</td>\n",
       "      <td>0.3001</td>\n",
       "      <td>0.14710</td>\n",
       "      <td>0.2419</td>\n",
       "      <td>...</td>\n",
       "      <td>17.33</td>\n",
       "      <td>184.60</td>\n",
       "      <td>2019.0</td>\n",
       "      <td>0.1622</td>\n",
       "      <td>0.6656</td>\n",
       "      <td>0.7119</td>\n",
       "      <td>0.2654</td>\n",
       "      <td>0.4601</td>\n",
       "      <td>0.11890</td>\n",
       "      <td>1</td>\n",
       "    </tr>\n",
       "    <tr>\n",
       "      <th>1</th>\n",
       "      <td>842517</td>\n",
       "      <td>20.57</td>\n",
       "      <td>17.77</td>\n",
       "      <td>132.90</td>\n",
       "      <td>1326.0</td>\n",
       "      <td>0.08474</td>\n",
       "      <td>0.07864</td>\n",
       "      <td>0.0869</td>\n",
       "      <td>0.07017</td>\n",
       "      <td>0.1812</td>\n",
       "      <td>...</td>\n",
       "      <td>23.41</td>\n",
       "      <td>158.80</td>\n",
       "      <td>1956.0</td>\n",
       "      <td>0.1238</td>\n",
       "      <td>0.1866</td>\n",
       "      <td>0.2416</td>\n",
       "      <td>0.1860</td>\n",
       "      <td>0.2750</td>\n",
       "      <td>0.08902</td>\n",
       "      <td>1</td>\n",
       "    </tr>\n",
       "    <tr>\n",
       "      <th>2</th>\n",
       "      <td>84300903</td>\n",
       "      <td>19.69</td>\n",
       "      <td>21.25</td>\n",
       "      <td>130.00</td>\n",
       "      <td>1203.0</td>\n",
       "      <td>0.10960</td>\n",
       "      <td>0.15990</td>\n",
       "      <td>0.1974</td>\n",
       "      <td>0.12790</td>\n",
       "      <td>0.2069</td>\n",
       "      <td>...</td>\n",
       "      <td>25.53</td>\n",
       "      <td>152.50</td>\n",
       "      <td>1709.0</td>\n",
       "      <td>0.1444</td>\n",
       "      <td>0.4245</td>\n",
       "      <td>0.4504</td>\n",
       "      <td>0.2430</td>\n",
       "      <td>0.3613</td>\n",
       "      <td>0.08758</td>\n",
       "      <td>1</td>\n",
       "    </tr>\n",
       "    <tr>\n",
       "      <th>3</th>\n",
       "      <td>84348301</td>\n",
       "      <td>11.42</td>\n",
       "      <td>20.38</td>\n",
       "      <td>77.58</td>\n",
       "      <td>386.1</td>\n",
       "      <td>0.14250</td>\n",
       "      <td>0.28390</td>\n",
       "      <td>0.2414</td>\n",
       "      <td>0.10520</td>\n",
       "      <td>0.2597</td>\n",
       "      <td>...</td>\n",
       "      <td>26.50</td>\n",
       "      <td>98.87</td>\n",
       "      <td>567.7</td>\n",
       "      <td>0.2098</td>\n",
       "      <td>0.8663</td>\n",
       "      <td>0.6869</td>\n",
       "      <td>0.2575</td>\n",
       "      <td>0.6638</td>\n",
       "      <td>0.17300</td>\n",
       "      <td>1</td>\n",
       "    </tr>\n",
       "    <tr>\n",
       "      <th>4</th>\n",
       "      <td>84358402</td>\n",
       "      <td>20.29</td>\n",
       "      <td>14.34</td>\n",
       "      <td>135.10</td>\n",
       "      <td>1297.0</td>\n",
       "      <td>0.10030</td>\n",
       "      <td>0.13280</td>\n",
       "      <td>0.1980</td>\n",
       "      <td>0.10430</td>\n",
       "      <td>0.1809</td>\n",
       "      <td>...</td>\n",
       "      <td>16.67</td>\n",
       "      <td>152.20</td>\n",
       "      <td>1575.0</td>\n",
       "      <td>0.1374</td>\n",
       "      <td>0.2050</td>\n",
       "      <td>0.4000</td>\n",
       "      <td>0.1625</td>\n",
       "      <td>0.2364</td>\n",
       "      <td>0.07678</td>\n",
       "      <td>1</td>\n",
       "    </tr>\n",
       "  </tbody>\n",
       "</table>\n",
       "<p>5 rows × 32 columns</p>\n",
       "</div>"
      ],
      "text/plain": [
       "         id  radius_mean  texture_mean  perimeter_mean  area_mean  \\\n",
       "0    842302        17.99         10.38          122.80     1001.0   \n",
       "1    842517        20.57         17.77          132.90     1326.0   \n",
       "2  84300903        19.69         21.25          130.00     1203.0   \n",
       "3  84348301        11.42         20.38           77.58      386.1   \n",
       "4  84358402        20.29         14.34          135.10     1297.0   \n",
       "\n",
       "   smoothness_mean  compactness_mean  concavity_mean  concave points_mean  \\\n",
       "0          0.11840           0.27760          0.3001              0.14710   \n",
       "1          0.08474           0.07864          0.0869              0.07017   \n",
       "2          0.10960           0.15990          0.1974              0.12790   \n",
       "3          0.14250           0.28390          0.2414              0.10520   \n",
       "4          0.10030           0.13280          0.1980              0.10430   \n",
       "\n",
       "   symmetry_mean  ...  texture_worst  perimeter_worst  area_worst  \\\n",
       "0         0.2419  ...          17.33           184.60      2019.0   \n",
       "1         0.1812  ...          23.41           158.80      1956.0   \n",
       "2         0.2069  ...          25.53           152.50      1709.0   \n",
       "3         0.2597  ...          26.50            98.87       567.7   \n",
       "4         0.1809  ...          16.67           152.20      1575.0   \n",
       "\n",
       "   smoothness_worst  compactness_worst  concavity_worst  concave points_worst  \\\n",
       "0            0.1622             0.6656           0.7119                0.2654   \n",
       "1            0.1238             0.1866           0.2416                0.1860   \n",
       "2            0.1444             0.4245           0.4504                0.2430   \n",
       "3            0.2098             0.8663           0.6869                0.2575   \n",
       "4            0.1374             0.2050           0.4000                0.1625   \n",
       "\n",
       "   symmetry_worst  fractal_dimension_worst  outcome  \n",
       "0          0.4601                  0.11890        1  \n",
       "1          0.2750                  0.08902        1  \n",
       "2          0.3613                  0.08758        1  \n",
       "3          0.6638                  0.17300        1  \n",
       "4          0.2364                  0.07678        1  \n",
       "\n",
       "[5 rows x 32 columns]"
      ]
     },
     "execution_count": 20,
     "metadata": {
     },
     "output_type": "execute_result"
    }
   ],
   "source": [
    "import sklearn\n",
    "from sklearn.model_selection import train_test_split\n",
    "\n",
    "x_train, x_test, y_train, y_test = train_test_split(input_columns, target, train_size=0.8)\n",
    "df.head()"
   ]
  },
  {
   "cell_type": "markdown",
   "metadata": {
    "collapsed": false,
    "id": "rcQ-PJQF9XSA"
   },
   "source": [
    "**TODO:** can you look at the shape of the x_train, x_test, y_train, and y_test columns? Why does the shape of these columns make sense? "
   ]
  },
  {
   "cell_type": "code",
   "execution_count": 21,
   "metadata": {
    "collapsed": false,
    "id": "Ok87vW5k-GTS"
   },
   "outputs": [
    {
     "name": "stdout",
     "output_type": "stream",
     "text": [
      "(455, 31)\n",
      "(114, 31)\n",
      "(455,)\n",
      "(114,)\n"
     ]
    }
   ],
   "source": [
    "#hint: start with x_train.shape\n",
    "print(x_train.shape)\n",
    "print(x_test.shape)\n",
    "print(y_train.shape)\n",
    "print(y_test.shape)\n",
    "\n",
    "# x contains 31 columns because there are 32 columns and y takes 1 leaving 31\n",
    "# 114 = ~569 * 0.2\n",
    "# 455 = ~569 * 0.8"
   ]
  },
  {
   "cell_type": "markdown",
   "metadata": {
    "collapsed": false,
    "id": "tY5UwAsS9sCV"
   },
   "source": [
    "**TODO:** Can you print the outputs with print(y_train) and print(y_test)? What do these 1's and 0's represent?"
   ]
  },
  {
   "cell_type": "code",
   "execution_count": 22,
   "metadata": {
    "collapsed": false,
    "id": "4wMcDBPW9n3C"
   },
   "outputs": [
    {
     "name": "stdout",
     "output_type": "stream",
     "text": [
      "156    1\n",
      "426    0\n",
      "17     1\n",
      "279    0\n",
      "186    1\n",
      "      ..\n",
      "423    0\n",
      "35     1\n",
      "43     1\n",
      "163    0\n",
      "63     0\n",
      "Name: outcome, Length: 455, dtype: uint8\n",
      "260    1\n",
      "497    0\n",
      "441    1\n",
      "153    0\n",
      "114    0\n",
      "      ..\n",
      "248    0\n",
      "468    1\n",
      "480    0\n",
      "202    1\n",
      "126    1\n",
      "Name: outcome, Length: 114, dtype: uint8\n"
     ]
    }
   ],
   "source": [
    "#print outputs\n",
    "print(y_train)\n",
    "print(y_test)\n",
    "\n",
    "# Is it the correct outputs and the model's outputs?"
   ]
  },
  {
   "cell_type": "markdown",
   "metadata": {
    "collapsed": false,
    "id": "2lWxo646-Fka"
   },
   "source": [
    "### We have split, now we gotta fit!\n",
    "\n",
    "Now that are data is preprocessed (all numerical), and split (80/20 train/test) for machine learning, we can create a model to **classify** whether a patient has malignant (1) or benign (0) breast cancer!\n",
    "\n",
    "The first model is a classification model called K Nearest Neighbors. You can watch a video on how K Nearest Neighbors works here: https://www.youtube.com/watch?v=0p0o5cmgLdE.\n",
    "\n",
    "First things first, we need to import our model using SKLearn. You can follow the [guide]( https://scikit-learn.org/stable/auto_examples/neighbors/plot_classification.html#sphx-glr-auto-examples-neighbors-plot-classification-py) here to see how this tutorial works.\n",
    "\n"
   ]
  },
  {
   "cell_type": "code",
   "execution_count": 23,
   "metadata": {
    "collapsed": false,
    "id": "RDDyWqva92IH"
   },
   "outputs": [
   ],
   "source": [
    "import sklearn #our favorite machine learning library\n",
    "from sklearn.neighbors import KNeighborsClassifier as KNN #this will import our model as KNN"
   ]
  },
  {
   "cell_type": "markdown",
   "metadata": {
    "collapsed": false,
    "id": "tv1P3go2_U5O"
   },
   "source": [
    "**Creating the model object:**  we need to create an instance of the model. This is like having a model and giving it a nickname so we can remember it, change it, and save it to work custom on our dataset. "
   ]
  },
  {
   "cell_type": "code",
   "execution_count": 24,
   "metadata": {
    "collapsed": false,
    "id": "GzCrGDYI-4FR"
   },
   "outputs": [
   ],
   "source": [
    "# Creating the KNN model object -- we need to tell it the number of neighbors to look at.\n",
    "k = 7 #number of neighbors to look at (look at 7 nearest neighbors)\n",
    "my_KNN_model = KNN(n_neighbors=k)"
   ]
  },
  {
   "cell_type": "markdown",
   "metadata": {
    "collapsed": false,
    "id": "IzQ8yZj5Q0Eg"
   },
   "source": [
    "And there you have it. We have a K Nearest Neighbors model that will look at the 7 nearest neighbors, and gave it a nice nickname, my_KNN_model. <br> <br>\n",
    "\n",
    "**Fitting (Training) the model object:** **Supervised machine learning** training involves learning from past results (`y_train`) and past inputs (`x_train`). We pass these to our model for learning to teach our model to answer the question \"*based on these inputs, what outputs can we expect?*\"\n",
    "<br>\n",
    "\n",
    "To do this, we want to let this model learn from our data. We do so by running our model object's `.fit()` function on our training data."
   ]
  },
  {
   "cell_type": "code",
   "execution_count": 25,
   "metadata": {
    "collapsed": false,
    "id": "VseIx97TSHQP"
   },
   "outputs": [
    {
     "data": {
      "text/html": [
       "<style>#sk-container-id-1 {color: black;background-color: white;}#sk-container-id-1 pre{padding: 0;}#sk-container-id-1 div.sk-toggleable {background-color: white;}#sk-container-id-1 label.sk-toggleable__label {cursor: pointer;display: block;width: 100%;margin-bottom: 0;padding: 0.3em;box-sizing: border-box;text-align: center;}#sk-container-id-1 label.sk-toggleable__label-arrow:before {content: \"▸\";float: left;margin-right: 0.25em;color: #696969;}#sk-container-id-1 label.sk-toggleable__label-arrow:hover:before {color: black;}#sk-container-id-1 div.sk-estimator:hover label.sk-toggleable__label-arrow:before {color: black;}#sk-container-id-1 div.sk-toggleable__content {max-height: 0;max-width: 0;overflow: hidden;text-align: left;background-color: #f0f8ff;}#sk-container-id-1 div.sk-toggleable__content pre {margin: 0.2em;color: black;border-radius: 0.25em;background-color: #f0f8ff;}#sk-container-id-1 input.sk-toggleable__control:checked~div.sk-toggleable__content {max-height: 200px;max-width: 100%;overflow: auto;}#sk-container-id-1 input.sk-toggleable__control:checked~label.sk-toggleable__label-arrow:before {content: \"▾\";}#sk-container-id-1 div.sk-estimator input.sk-toggleable__control:checked~label.sk-toggleable__label {background-color: #d4ebff;}#sk-container-id-1 div.sk-label input.sk-toggleable__control:checked~label.sk-toggleable__label {background-color: #d4ebff;}#sk-container-id-1 input.sk-hidden--visually {border: 0;clip: rect(1px 1px 1px 1px);clip: rect(1px, 1px, 1px, 1px);height: 1px;margin: -1px;overflow: hidden;padding: 0;position: absolute;width: 1px;}#sk-container-id-1 div.sk-estimator {font-family: monospace;background-color: #f0f8ff;border: 1px dotted black;border-radius: 0.25em;box-sizing: border-box;margin-bottom: 0.5em;}#sk-container-id-1 div.sk-estimator:hover {background-color: #d4ebff;}#sk-container-id-1 div.sk-parallel-item::after {content: \"\";width: 100%;border-bottom: 1px solid gray;flex-grow: 1;}#sk-container-id-1 div.sk-label:hover label.sk-toggleable__label {background-color: #d4ebff;}#sk-container-id-1 div.sk-serial::before {content: \"\";position: absolute;border-left: 1px solid gray;box-sizing: border-box;top: 0;bottom: 0;left: 50%;z-index: 0;}#sk-container-id-1 div.sk-serial {display: flex;flex-direction: column;align-items: center;background-color: white;padding-right: 0.2em;padding-left: 0.2em;position: relative;}#sk-container-id-1 div.sk-item {position: relative;z-index: 1;}#sk-container-id-1 div.sk-parallel {display: flex;align-items: stretch;justify-content: center;background-color: white;position: relative;}#sk-container-id-1 div.sk-item::before, #sk-container-id-1 div.sk-parallel-item::before {content: \"\";position: absolute;border-left: 1px solid gray;box-sizing: border-box;top: 0;bottom: 0;left: 50%;z-index: -1;}#sk-container-id-1 div.sk-parallel-item {display: flex;flex-direction: column;z-index: 1;position: relative;background-color: white;}#sk-container-id-1 div.sk-parallel-item:first-child::after {align-self: flex-end;width: 50%;}#sk-container-id-1 div.sk-parallel-item:last-child::after {align-self: flex-start;width: 50%;}#sk-container-id-1 div.sk-parallel-item:only-child::after {width: 0;}#sk-container-id-1 div.sk-dashed-wrapped {border: 1px dashed gray;margin: 0 0.4em 0.5em 0.4em;box-sizing: border-box;padding-bottom: 0.4em;background-color: white;}#sk-container-id-1 div.sk-label label {font-family: monospace;font-weight: bold;display: inline-block;line-height: 1.2em;}#sk-container-id-1 div.sk-label-container {text-align: center;}#sk-container-id-1 div.sk-container {/* jupyter's `normalize.less` sets `[hidden] { display: none; }` but bootstrap.min.css set `[hidden] { display: none !important; }` so we also need the `!important` here to be able to override the default hidden behavior on the sphinx rendered scikit-learn.org. See: https://github.com/scikit-learn/scikit-learn/issues/21755 */display: inline-block !important;position: relative;}#sk-container-id-1 div.sk-text-repr-fallback {display: none;}</style><div id=\"sk-container-id-1\" class=\"sk-top-container\"><div class=\"sk-text-repr-fallback\"><pre>KNeighborsClassifier(n_neighbors=7)</pre><b>In a Jupyter environment, please rerun this cell to show the HTML representation or trust the notebook. <br />On GitHub, the HTML representation is unable to render, please try loading this page with nbviewer.org.</b></div><div class=\"sk-container\" hidden><div class=\"sk-item\"><div class=\"sk-estimator sk-toggleable\"><input class=\"sk-toggleable__control sk-hidden--visually\" id=\"sk-estimator-id-1\" type=\"checkbox\" checked><label for=\"sk-estimator-id-1\" class=\"sk-toggleable__label sk-toggleable__label-arrow\">KNeighborsClassifier</label><div class=\"sk-toggleable__content\"><pre>KNeighborsClassifier(n_neighbors=7)</pre></div></div></div></div></div>"
      ],
      "text/plain": [
       "KNeighborsClassifier(n_neighbors=7)"
      ]
     },
     "execution_count": 25,
     "metadata": {
     },
     "output_type": "execute_result"
    }
   ],
   "source": [
    "my_KNN_model.fit(x_train, y_train) #train the model on our past results x_train (inputs) and y_train (outputs)"
   ]
  },
  {
   "cell_type": "markdown",
   "metadata": {
    "collapsed": false,
    "id": "qRJKWrA6hhdf"
   },
   "source": [
    "**Prediction and Evaluation:** How do we know if our model is actually good? We need to **test** our model by giving it a two-step quiz. \n",
    "\n",
    "Step 1: We let our model use our testing inputs (`x_test`) to make predictions that guess the whether the patient has benign or malignant tumors (we call these predictions `y_hat`). In this case our `y_hat`'s are a bunch of 1's and 0's that represent whether our model thinks the patient's tumor is benign or malignant. \n",
    "\n",
    "We do this by running our model object's `.predict()` function."
   ]
  },
  {
   "cell_type": "code",
   "execution_count": 26,
   "metadata": {
    "collapsed": false,
    "id": "CVBaqGOIiEfP"
   },
   "outputs": [
   ],
   "source": [
    "#make some predictions based on your testing inputs (x_test) using the predict() function\n",
    "y_hat = my_KNN_model.predict(x_test)"
   ]
  },
  {
   "cell_type": "code",
   "execution_count": 27,
   "metadata": {
    "collapsed": false,
    "id": "T-ifi-bGj7fx"
   },
   "outputs": [
    {
     "data": {
      "text/plain": [
       "array([1, 0, 0, 0, 0, 0, 1, 0, 0, 0, 0, 0, 0, 0, 0, 0, 0, 0, 0, 0, 0, 0,\n",
       "       0, 0, 0, 0, 1, 0, 0, 1, 0, 0, 0, 0, 0, 0, 1, 0, 0, 1, 0, 0, 1, 0,\n",
       "       0, 0, 0, 0, 1, 0, 0, 0, 1, 1, 0, 0, 0, 0, 0, 0, 0, 1, 0, 0, 1, 0,\n",
       "       1, 1, 0, 0, 1, 1, 0, 0, 0, 0, 0, 1, 0, 0, 0, 0, 0, 0, 1, 0, 0, 0,\n",
       "       1, 0, 0, 0, 0, 0, 0, 0, 0, 0, 0, 0, 0, 0, 0, 1, 0, 1, 1, 0, 0, 0,\n",
       "       0, 0, 1, 0], dtype=uint8)"
      ]
     },
     "execution_count": 27,
     "metadata": {
     },
     "output_type": "execute_result"
    }
   ],
   "source": [
    "y_hat #these are our predictions for our x_test inputs. "
   ]
  },
  {
   "cell_type": "code",
   "execution_count": 28,
   "metadata": {
    "collapsed": false,
    "id": "TjLu8V3bj8_F"
   },
   "outputs": [
    {
     "data": {
      "text/plain": [
       "array([1, 0, 1, 0, 0, 0, 1, 0, 0, 0, 0, 0, 0, 0, 0, 0, 0, 1, 0, 0, 0, 0,\n",
       "       0, 1, 1, 0, 1, 0, 0, 1, 0, 0, 0, 0, 0, 0, 1, 1, 0, 1, 1, 0, 1, 0,\n",
       "       0, 1, 0, 1, 1, 1, 1, 0, 0, 1, 1, 0, 0, 0, 0, 0, 0, 0, 0, 0, 1, 0,\n",
       "       1, 1, 1, 1, 1, 1, 0, 0, 0, 1, 0, 1, 1, 0, 0, 0, 0, 0, 1, 0, 0, 0,\n",
       "       1, 0, 0, 1, 1, 0, 1, 1, 0, 0, 0, 0, 1, 0, 0, 1, 0, 1, 0, 0, 0, 0,\n",
       "       1, 0, 1, 1], dtype=uint8)"
      ]
     },
     "execution_count": 28,
     "metadata": {
     },
     "output_type": "execute_result"
    }
   ],
   "source": [
    "np.array(y_test) #these are what actually happened for our x_test inputs. Do you see some differences?"
   ]
  },
  {
   "cell_type": "markdown",
   "metadata": {
    "collapsed": false,
    "id": "SbywAxezkRN8"
   },
   "source": [
    "Step 2 - Evaluation: Here we want to compare `y_hat` to `y_test`. Discuss with your team about why we should do this. \n",
    "\n",
    "One we we can compare them is visual inspection. With that said, would you recommend going through by hand and making a tally for every time the one's and zero's don't match up?\n",
    "\n",
    "Please don't do this. Please save yourself this nasty headache when we can just do math. Below is a common way to do this, called mean squared error. \n",
    "\n",
    "To get mean squared error, we compute the difference between each element in `y_hat` and `y_test` and square it and then get the average of all of that to see how far off we are."
   ]
  },
  {
   "cell_type": "code",
   "execution_count": 29,
   "metadata": {
    "collapsed": false,
    "id": "eLFffHy1kFBh"
   },
   "outputs": [
    {
     "name": "stdout",
     "output_type": "stream",
     "text": [
      "0.21929824561403508\n"
     ]
    }
   ],
   "source": [
    "total_squared_error = (np.sum((y_test - y_hat)**2)) #get the sum of all the errors (error = what we want (y_test) - what we predicted (y_hat))\n",
    "mean_squared_error = total_squared_error/len(y_test) #divide this by how many rows/observations we have \n",
    "print(mean_squared_error)"
   ]
  },
  {
   "cell_type": "markdown",
   "metadata": {
    "collapsed": false,
    "id": "bYj4HCmOmH42"
   },
   "source": [
    "**Not too bad!** MSE represents  the average error (difference) between our model and the correct result. A low mean squared error means that our model makes the correct guess most of the time. \n",
    "\n",
    "But we have to think about the nature of the problem. As Data Scientists, do we want to tell someone that we have this average error when we are predicting something as serious as breast cancer? \n",
    "\n",
    "And what does an error mean? Are we telling them they don't have a malignant tumor (y_hat=0) when they actually do (y_test = 1)? Are we telling them they have a tumor (y_hat=1) when they actually don't (y_test = 0)?\n",
    "\n",
    "We can get insights on this through a confusion matrix. "
   ]
  },
  {
   "cell_type": "code",
   "execution_count": 30,
   "metadata": {
    "collapsed": false,
    "id": "WCZLL1wZnfTn"
   },
   "outputs": [
    {
     "data": {
      "text/plain": [
       "<AxesSubplot:>"
      ]
     },
     "execution_count": 30,
     "metadata": {
     },
     "output_type": "execute_result"
    },
    {
     "data": {
      "image/png": "[encoded data removed]",
      "text/plain": [
       "<Figure size 432x288 with 2 Axes>"
      ]
     },
     "execution_count": 30,
     "metadata": {
      "needs_background": "light"
     },
     "output_type": "execute_result"
    }
   ],
   "source": [
    "from sklearn.metrics import confusion_matrix\n",
    "import seaborn as sns\n",
    "sns.heatmap(confusion_matrix(y_test, y_hat), annot=True, fmt='g')"
   ]
  },
  {
   "cell_type": "markdown",
   "metadata": {
    "collapsed": false,
    "id": "mCR5MW5gp0ni"
   },
   "source": [
    "**What is this???** I encourage you and your team to read about it here: https://towardsdatascience.com/understanding-confusion-matrix-a9ad42dcfd62. You should define what true positives, true negatives, false positives, and false negatives represent for this scenario. \n",
    "\n",
    "Discuss what other  findings you can take away, and talk with your instructor about metrics like accuracy, precision and recall!"
   ]
  },
  {
   "cell_type": "markdown",
   "metadata": {
    "collapsed": false,
    "id": "tbo3cueVq7EV"
   },
   "source": [
    "**The last step!!** We need to change parameters and data to improve our model as we go. If we can make even 1 more correct cancer prediction, it is worth it, right? \n",
    "\n",
    "**TODO:** Go back and change the value of `k` in the **creating your model object** section and re-run all the code below it. See what changes with your MSE and confusion matrix!"
   ]
  },
  {
   "cell_type": "markdown",
   "metadata": {
    "collapsed": false,
    "id": "ObvQ_3pPmPBf"
   },
   "source": [
    "### Code Your Own Machine Learning Model\n",
    "\n",
    "It's time for us to create our own classifier. Let's go with an [SVM](https://www.youtube.com/watch?v=_YPScrckx28). We will do the first step for you.\n",
    "\n",
    "I know it was a lot of information in the last section, but the code is *basically* the same. Since our data is already split, you will follow the same steps to fit your model, make some predictions, evaluate the performance, and visualize your confusion matrix."
   ]
  },
  {
   "cell_type": "code",
   "execution_count": 31,
   "metadata": {
    "collapsed": false,
    "id": "LW9bLcghmT5d"
   },
   "outputs": [
   ],
   "source": [
    "from sklearn.svm import SVC\n",
    "from sklearn.metrics import confusion_matrix\n",
    "import seaborn as sns\n",
    "\n",
    "mlModel = KNN(n_neighbors=k)"
   ]
  },
  {
   "cell_type": "markdown",
   "metadata": {
    "collapsed": false,
    "id": "Bk4rua0er_QF"
   },
   "source": [
    "Do you remember how to fit a model? What parts of our data do we fit/train on? You can go look at the section above for inspiration."
   ]
  },
  {
   "cell_type": "code",
   "execution_count": 32,
   "metadata": {
    "collapsed": false,
    "id": "cu2cA4YBqrNL"
   },
   "outputs": [
    {
     "data": {
      "text/html": [
       "<style>#sk-container-id-2 {color: black;background-color: white;}#sk-container-id-2 pre{padding: 0;}#sk-container-id-2 div.sk-toggleable {background-color: white;}#sk-container-id-2 label.sk-toggleable__label {cursor: pointer;display: block;width: 100%;margin-bottom: 0;padding: 0.3em;box-sizing: border-box;text-align: center;}#sk-container-id-2 label.sk-toggleable__label-arrow:before {content: \"▸\";float: left;margin-right: 0.25em;color: #696969;}#sk-container-id-2 label.sk-toggleable__label-arrow:hover:before {color: black;}#sk-container-id-2 div.sk-estimator:hover label.sk-toggleable__label-arrow:before {color: black;}#sk-container-id-2 div.sk-toggleable__content {max-height: 0;max-width: 0;overflow: hidden;text-align: left;background-color: #f0f8ff;}#sk-container-id-2 div.sk-toggleable__content pre {margin: 0.2em;color: black;border-radius: 0.25em;background-color: #f0f8ff;}#sk-container-id-2 input.sk-toggleable__control:checked~div.sk-toggleable__content {max-height: 200px;max-width: 100%;overflow: auto;}#sk-container-id-2 input.sk-toggleable__control:checked~label.sk-toggleable__label-arrow:before {content: \"▾\";}#sk-container-id-2 div.sk-estimator input.sk-toggleable__control:checked~label.sk-toggleable__label {background-color: #d4ebff;}#sk-container-id-2 div.sk-label input.sk-toggleable__control:checked~label.sk-toggleable__label {background-color: #d4ebff;}#sk-container-id-2 input.sk-hidden--visually {border: 0;clip: rect(1px 1px 1px 1px);clip: rect(1px, 1px, 1px, 1px);height: 1px;margin: -1px;overflow: hidden;padding: 0;position: absolute;width: 1px;}#sk-container-id-2 div.sk-estimator {font-family: monospace;background-color: #f0f8ff;border: 1px dotted black;border-radius: 0.25em;box-sizing: border-box;margin-bottom: 0.5em;}#sk-container-id-2 div.sk-estimator:hover {background-color: #d4ebff;}#sk-container-id-2 div.sk-parallel-item::after {content: \"\";width: 100%;border-bottom: 1px solid gray;flex-grow: 1;}#sk-container-id-2 div.sk-label:hover label.sk-toggleable__label {background-color: #d4ebff;}#sk-container-id-2 div.sk-serial::before {content: \"\";position: absolute;border-left: 1px solid gray;box-sizing: border-box;top: 0;bottom: 0;left: 50%;z-index: 0;}#sk-container-id-2 div.sk-serial {display: flex;flex-direction: column;align-items: center;background-color: white;padding-right: 0.2em;padding-left: 0.2em;position: relative;}#sk-container-id-2 div.sk-item {position: relative;z-index: 1;}#sk-container-id-2 div.sk-parallel {display: flex;align-items: stretch;justify-content: center;background-color: white;position: relative;}#sk-container-id-2 div.sk-item::before, #sk-container-id-2 div.sk-parallel-item::before {content: \"\";position: absolute;border-left: 1px solid gray;box-sizing: border-box;top: 0;bottom: 0;left: 50%;z-index: -1;}#sk-container-id-2 div.sk-parallel-item {display: flex;flex-direction: column;z-index: 1;position: relative;background-color: white;}#sk-container-id-2 div.sk-parallel-item:first-child::after {align-self: flex-end;width: 50%;}#sk-container-id-2 div.sk-parallel-item:last-child::after {align-self: flex-start;width: 50%;}#sk-container-id-2 div.sk-parallel-item:only-child::after {width: 0;}#sk-container-id-2 div.sk-dashed-wrapped {border: 1px dashed gray;margin: 0 0.4em 0.5em 0.4em;box-sizing: border-box;padding-bottom: 0.4em;background-color: white;}#sk-container-id-2 div.sk-label label {font-family: monospace;font-weight: bold;display: inline-block;line-height: 1.2em;}#sk-container-id-2 div.sk-label-container {text-align: center;}#sk-container-id-2 div.sk-container {/* jupyter's `normalize.less` sets `[hidden] { display: none; }` but bootstrap.min.css set `[hidden] { display: none !important; }` so we also need the `!important` here to be able to override the default hidden behavior on the sphinx rendered scikit-learn.org. See: https://github.com/scikit-learn/scikit-learn/issues/21755 */display: inline-block !important;position: relative;}#sk-container-id-2 div.sk-text-repr-fallback {display: none;}</style><div id=\"sk-container-id-2\" class=\"sk-top-container\"><div class=\"sk-text-repr-fallback\"><pre>KNeighborsClassifier(n_neighbors=7)</pre><b>In a Jupyter environment, please rerun this cell to show the HTML representation or trust the notebook. <br />On GitHub, the HTML representation is unable to render, please try loading this page with nbviewer.org.</b></div><div class=\"sk-container\" hidden><div class=\"sk-item\"><div class=\"sk-estimator sk-toggleable\"><input class=\"sk-toggleable__control sk-hidden--visually\" id=\"sk-estimator-id-2\" type=\"checkbox\" checked><label for=\"sk-estimator-id-2\" class=\"sk-toggleable__label sk-toggleable__label-arrow\">KNeighborsClassifier</label><div class=\"sk-toggleable__content\"><pre>KNeighborsClassifier(n_neighbors=7)</pre></div></div></div></div></div>"
      ],
      "text/plain": [
       "KNeighborsClassifier(n_neighbors=7)"
      ]
     },
     "execution_count": 32,
     "metadata": {
     },
     "output_type": "execute_result"
    }
   ],
   "source": [
    "x_train, x_test, y_train, y_test = train_test_split(input_columns, target, train_size=0.8)\n",
    "mlModel.fit(x_train, y_train)"
   ]
  },
  {
   "cell_type": "markdown",
   "metadata": {
    "collapsed": false,
    "id": "4oAExynzsveF"
   },
   "source": [
    "Now create some predictions and set them equal to `y_hat`. You can look above or google how to make predictions on sklearn if you get confused!"
   ]
  },
  {
   "cell_type": "code",
   "execution_count": 33,
   "metadata": {
    "collapsed": false,
    "id": "Hkrx7foxsuNZ"
   },
   "outputs": [
   ],
   "source": [
    "y_hat = mlModel.predict(x_test)"
   ]
  },
  {
   "cell_type": "markdown",
   "metadata": {
    "collapsed": false,
    "id": "k-ANsXzitBdu"
   },
   "source": [
    "Compute your MSE below. Is this higher or lower than KNN? Which one would you recommend so far?"
   ]
  },
  {
   "cell_type": "code",
   "execution_count": 34,
   "metadata": {
    "collapsed": false,
    "id": "zz8OFQxFs8N0"
   },
   "outputs": [
    {
     "name": "stdout",
     "output_type": "stream",
     "text": [
      "0.18421052631578946\n"
     ]
    }
   ],
   "source": [
    "total_squared_error = (np.sum((y_test - y_hat)**2))\n",
    "mean_squared_error = total_squared_error/len(y_test)\n",
    "print(mean_squared_error)"
   ]
  },
  {
   "cell_type": "markdown",
   "metadata": {
    "collapsed": false,
    "id": "Ge0IHJ7AtQI2"
   },
   "source": [
    "Now, create a confusion matrix! How are the results? Do we end up with more false negatives or false positives?"
   ]
  },
  {
   "cell_type": "code",
   "execution_count": 35,
   "metadata": {
    "collapsed": false,
    "id": "Xlm2k_-otFgI"
   },
   "outputs": [
    {
     "data": {
      "text/plain": [
       "<AxesSubplot:>"
      ]
     },
     "execution_count": 35,
     "metadata": {
     },
     "output_type": "execute_result"
    },
    {
     "data": {
      "image/png": "[encoded data removed]",
      "text/plain": [
       "<Figure size 432x288 with 2 Axes>"
      ]
     },
     "execution_count": 35,
     "metadata": {
      "needs_background": "light"
     },
     "output_type": "execute_result"
    }
   ],
   "source": [
    "sns.heatmap(confusion_matrix(y_test, y_hat), annot=True, fmt='g')"
   ]
  },
  {
   "cell_type": "markdown",
   "metadata": {
    "collapsed": false,
    "id": "6AyqrZd9v9BR"
   },
   "source": [
    "Amazing, now try changing your kernel and seeing how your results change. You can research what kernels are available here: https://scikit-learn.org/stable/modules/generated/sklearn.svm.SVC.html. If your interested in more ML with SKLearn you should get used to pages like these!"
   ]
  },
  {
   "cell_type": "markdown",
   "metadata": {
    "collapsed": false,
    "id": "hd9Jqq18wFkd"
   },
   "source": [
    "### Want more?\n",
    "\n",
    "There are dozens of models available on SKLearn: https://scikit-learn.org/stable/supervised_learning.html.\n",
    "\n",
    "You can try an implement your own below, I recommend starting with logistic regression or random forests :) "
   ]
  },
  {
   "cell_type": "code",
   "execution_count": 44,
   "metadata": {
    "collapsed": false,
    "id": "CC0NmaY7v7_K"
   },
   "outputs": [
    {
     "name": "stdout",
     "output_type": "stream",
     "text": [
      "0.06715289943312994\n"
     ]
    }
   ],
   "source": [
    "from sklearn import linear_model\n",
    "\n",
    "reg = linear_model.LassoLars(alpha=.1, normalize=False)\n",
    "reg.fit(x_train, y_train)\n",
    "y_hat = reg.predict(x_test)\n",
    "total_squared_error = (np.sum((y_test - y_hat)**2))\n",
    "mean_squared_error = total_squared_error/len(y_test)\n",
    "print(mean_squared_error)"
   ]
  },
  {
   "cell_type": "code",
   "execution_count": 0,
   "metadata": {
    "collapsed": false
   },
   "outputs": [
   ],
   "source": [
   ]
  }
 ],
 "metadata": {
  "colab": {
   "collapsed_sections": [
   ],
   "name": "Cancer_detection.ipynb",
   "provenance": [
   ]
  },
  "kernelspec": {
   "display_name": "Python (ds_env)",
   "language": "python",
   "metadata": {
    "debugger": true
   },
   "name": "ds_env",
   "resource_dir": "/projects/88ec9459-f6ad-40b0-b8b6-77b16b396c58/.local/share/jupyter/kernels/ds_env"
  },
  "language_info": {
   "codemirror_mode": {
    "name": "ipython",
    "version": 3
   },
   "file_extension": ".py",
   "mimetype": "text/x-python",
   "name": "python",
   "nbconvert_exporter": "python",
   "pygments_lexer": "ipython3",
   "version": "3.8.13"
  }
 },
 "nbformat": 4,
 "nbformat_minor": 4
}